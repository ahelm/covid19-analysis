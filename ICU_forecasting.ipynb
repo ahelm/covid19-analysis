{
 "cells": [
  {
   "cell_type": "markdown",
   "metadata": {},
   "source": [
    "# Forecasting the number of patients in ICU due to getting infected by Covid-19\n",
    "\n",
    "## Abstract\n",
    "\n",
    "This notebook presents a forecasting model that aims to estimate the number of patients in ICU. It is a project that can be labeled as work-in-progress and is intended to study forecasting modeling under the on-going pandemic aspect. Please pay attention to the disclaimer.\n",
    "\n",
    "> DISCLAIMER:\n",
    ">\n",
    "> Please note this published work is intended for informational purposes only. You may only use the information for your personal and non-commercial use. The opinions expressed in this notebook are those of the author and do not necessarily represent the views and opinions of public officials or the views of any local authorities/authors referred to in this notebook. Although it contains some publicly available information, it does not constitute legal advice about each country's current operative laws and regulations.\n",
    "\n",
    "Import important modules:"
   ]
  },
  {
   "cell_type": "code",
   "execution_count": 1,
   "metadata": {},
   "outputs": [],
   "source": [
    "import numpy as np\n",
    "import pandas as pd\n",
    "import matplotlib.pyplot as plt\n",
    "import ipywidgets as widgets\n",
    "\n",
    "from sklearn import metrics\n",
    "from sklearn import preprocessing\n",
    "from sklearn.model_selection import TimeSeriesSplit\n",
    "from sklearn.model_selection import cross_val_score\n",
    "from sklearn.model_selection import train_test_split\n",
    "\n",
    "from sklearn.linear_model import LinearRegression\n",
    "from sklearn.linear_model import Ridge\n",
    "from sklearn.linear_model import Lasso\n",
    "from sklearn.linear_model import ElasticNet\n",
    "from sklearn.linear_model import LassoLars\n",
    "\n",
    "from sklearn.neural_network import MLPRegressor\n",
    "from sklearn.neighbors import KNeighborsRegressor\n",
    "from sklearn.ensemble import RandomForestRegressor\n",
    "from sklearn.svm import SVR\n",
    "\n",
    "from sklearn.pipeline import make_pipeline\n",
    "from sklearn.preprocessing import StandardScaler\n",
    "\n",
    "from scipy.special import softmax"
   ]
  },
  {
   "cell_type": "markdown",
   "metadata": {},
   "source": [
    "## Reading Covid dataset\n",
    "\n",
    "The analysis will be based on the Covid-19 data provided by [Our World in Data](https://github.com/owid)."
   ]
  },
  {
   "cell_type": "code",
   "execution_count": 2,
   "metadata": {},
   "outputs": [
    {
     "data": {
      "text/html": [
       "<div>\n",
       "<style scoped>\n",
       "    .dataframe tbody tr th:only-of-type {\n",
       "        vertical-align: middle;\n",
       "    }\n",
       "\n",
       "    .dataframe tbody tr th {\n",
       "        vertical-align: top;\n",
       "    }\n",
       "\n",
       "    .dataframe thead th {\n",
       "        text-align: right;\n",
       "    }\n",
       "</style>\n",
       "<table border=\"1\" class=\"dataframe\">\n",
       "  <thead>\n",
       "    <tr style=\"text-align: right;\">\n",
       "      <th></th>\n",
       "      <th>iso_code</th>\n",
       "      <th>continent</th>\n",
       "      <th>location</th>\n",
       "      <th>date</th>\n",
       "      <th>total_cases</th>\n",
       "      <th>new_cases</th>\n",
       "      <th>new_cases_smoothed</th>\n",
       "      <th>total_deaths</th>\n",
       "      <th>new_deaths</th>\n",
       "      <th>new_deaths_smoothed</th>\n",
       "      <th>...</th>\n",
       "      <th>gdp_per_capita</th>\n",
       "      <th>extreme_poverty</th>\n",
       "      <th>cardiovasc_death_rate</th>\n",
       "      <th>diabetes_prevalence</th>\n",
       "      <th>female_smokers</th>\n",
       "      <th>male_smokers</th>\n",
       "      <th>handwashing_facilities</th>\n",
       "      <th>hospital_beds_per_thousand</th>\n",
       "      <th>life_expectancy</th>\n",
       "      <th>human_development_index</th>\n",
       "    </tr>\n",
       "  </thead>\n",
       "  <tbody>\n",
       "    <tr>\n",
       "      <th>0</th>\n",
       "      <td>AFG</td>\n",
       "      <td>Asia</td>\n",
       "      <td>Afghanistan</td>\n",
       "      <td>2020-02-24</td>\n",
       "      <td>1.0</td>\n",
       "      <td>1.0</td>\n",
       "      <td>NaN</td>\n",
       "      <td>NaN</td>\n",
       "      <td>NaN</td>\n",
       "      <td>NaN</td>\n",
       "      <td>...</td>\n",
       "      <td>1803.987</td>\n",
       "      <td>NaN</td>\n",
       "      <td>597.029</td>\n",
       "      <td>9.59</td>\n",
       "      <td>NaN</td>\n",
       "      <td>NaN</td>\n",
       "      <td>37.746</td>\n",
       "      <td>0.5</td>\n",
       "      <td>64.83</td>\n",
       "      <td>0.511</td>\n",
       "    </tr>\n",
       "    <tr>\n",
       "      <th>1</th>\n",
       "      <td>AFG</td>\n",
       "      <td>Asia</td>\n",
       "      <td>Afghanistan</td>\n",
       "      <td>2020-02-25</td>\n",
       "      <td>1.0</td>\n",
       "      <td>0.0</td>\n",
       "      <td>NaN</td>\n",
       "      <td>NaN</td>\n",
       "      <td>NaN</td>\n",
       "      <td>NaN</td>\n",
       "      <td>...</td>\n",
       "      <td>1803.987</td>\n",
       "      <td>NaN</td>\n",
       "      <td>597.029</td>\n",
       "      <td>9.59</td>\n",
       "      <td>NaN</td>\n",
       "      <td>NaN</td>\n",
       "      <td>37.746</td>\n",
       "      <td>0.5</td>\n",
       "      <td>64.83</td>\n",
       "      <td>0.511</td>\n",
       "    </tr>\n",
       "    <tr>\n",
       "      <th>2</th>\n",
       "      <td>AFG</td>\n",
       "      <td>Asia</td>\n",
       "      <td>Afghanistan</td>\n",
       "      <td>2020-02-26</td>\n",
       "      <td>1.0</td>\n",
       "      <td>0.0</td>\n",
       "      <td>NaN</td>\n",
       "      <td>NaN</td>\n",
       "      <td>NaN</td>\n",
       "      <td>NaN</td>\n",
       "      <td>...</td>\n",
       "      <td>1803.987</td>\n",
       "      <td>NaN</td>\n",
       "      <td>597.029</td>\n",
       "      <td>9.59</td>\n",
       "      <td>NaN</td>\n",
       "      <td>NaN</td>\n",
       "      <td>37.746</td>\n",
       "      <td>0.5</td>\n",
       "      <td>64.83</td>\n",
       "      <td>0.511</td>\n",
       "    </tr>\n",
       "    <tr>\n",
       "      <th>3</th>\n",
       "      <td>AFG</td>\n",
       "      <td>Asia</td>\n",
       "      <td>Afghanistan</td>\n",
       "      <td>2020-02-27</td>\n",
       "      <td>1.0</td>\n",
       "      <td>0.0</td>\n",
       "      <td>NaN</td>\n",
       "      <td>NaN</td>\n",
       "      <td>NaN</td>\n",
       "      <td>NaN</td>\n",
       "      <td>...</td>\n",
       "      <td>1803.987</td>\n",
       "      <td>NaN</td>\n",
       "      <td>597.029</td>\n",
       "      <td>9.59</td>\n",
       "      <td>NaN</td>\n",
       "      <td>NaN</td>\n",
       "      <td>37.746</td>\n",
       "      <td>0.5</td>\n",
       "      <td>64.83</td>\n",
       "      <td>0.511</td>\n",
       "    </tr>\n",
       "    <tr>\n",
       "      <th>4</th>\n",
       "      <td>AFG</td>\n",
       "      <td>Asia</td>\n",
       "      <td>Afghanistan</td>\n",
       "      <td>2020-02-28</td>\n",
       "      <td>1.0</td>\n",
       "      <td>0.0</td>\n",
       "      <td>NaN</td>\n",
       "      <td>NaN</td>\n",
       "      <td>NaN</td>\n",
       "      <td>NaN</td>\n",
       "      <td>...</td>\n",
       "      <td>1803.987</td>\n",
       "      <td>NaN</td>\n",
       "      <td>597.029</td>\n",
       "      <td>9.59</td>\n",
       "      <td>NaN</td>\n",
       "      <td>NaN</td>\n",
       "      <td>37.746</td>\n",
       "      <td>0.5</td>\n",
       "      <td>64.83</td>\n",
       "      <td>0.511</td>\n",
       "    </tr>\n",
       "  </tbody>\n",
       "</table>\n",
       "<p>5 rows × 59 columns</p>\n",
       "</div>"
      ],
      "text/plain": [
       "  iso_code continent     location        date  total_cases  new_cases  \\\n",
       "0      AFG      Asia  Afghanistan  2020-02-24          1.0        1.0   \n",
       "1      AFG      Asia  Afghanistan  2020-02-25          1.0        0.0   \n",
       "2      AFG      Asia  Afghanistan  2020-02-26          1.0        0.0   \n",
       "3      AFG      Asia  Afghanistan  2020-02-27          1.0        0.0   \n",
       "4      AFG      Asia  Afghanistan  2020-02-28          1.0        0.0   \n",
       "\n",
       "   new_cases_smoothed  total_deaths  new_deaths  new_deaths_smoothed  ...  \\\n",
       "0                 NaN           NaN         NaN                  NaN  ...   \n",
       "1                 NaN           NaN         NaN                  NaN  ...   \n",
       "2                 NaN           NaN         NaN                  NaN  ...   \n",
       "3                 NaN           NaN         NaN                  NaN  ...   \n",
       "4                 NaN           NaN         NaN                  NaN  ...   \n",
       "\n",
       "   gdp_per_capita  extreme_poverty  cardiovasc_death_rate  \\\n",
       "0        1803.987              NaN                597.029   \n",
       "1        1803.987              NaN                597.029   \n",
       "2        1803.987              NaN                597.029   \n",
       "3        1803.987              NaN                597.029   \n",
       "4        1803.987              NaN                597.029   \n",
       "\n",
       "   diabetes_prevalence  female_smokers  male_smokers  handwashing_facilities  \\\n",
       "0                 9.59             NaN           NaN                  37.746   \n",
       "1                 9.59             NaN           NaN                  37.746   \n",
       "2                 9.59             NaN           NaN                  37.746   \n",
       "3                 9.59             NaN           NaN                  37.746   \n",
       "4                 9.59             NaN           NaN                  37.746   \n",
       "\n",
       "   hospital_beds_per_thousand  life_expectancy  human_development_index  \n",
       "0                         0.5            64.83                    0.511  \n",
       "1                         0.5            64.83                    0.511  \n",
       "2                         0.5            64.83                    0.511  \n",
       "3                         0.5            64.83                    0.511  \n",
       "4                         0.5            64.83                    0.511  \n",
       "\n",
       "[5 rows x 59 columns]"
      ]
     },
     "execution_count": 2,
     "metadata": {},
     "output_type": "execute_result"
    }
   ],
   "source": [
    "data_url = (\n",
    "    \"https://raw.githubusercontent.com/\"\n",
    "    \"owid/covid-19-data/master/public/data/owid-covid-data.csv\"\n",
    ")\n",
    "raw_df = pd.read_csv(data_url)\n",
    "raw_df.head()"
   ]
  },
  {
   "cell_type": "markdown",
   "metadata": {},
   "source": [
    "Pre-processing dataset:\n",
    "\n",
    "- Renormalize date to a `datetime` object.\n",
    "- Reduce the number of columns\n",
    "- Set date as index\n",
    "- Drop `NaN`'s\n",
    "- Fix types for columns"
   ]
  },
  {
   "cell_type": "code",
   "execution_count": 3,
   "metadata": {},
   "outputs": [
    {
     "data": {
      "text/html": [
       "<div>\n",
       "<style scoped>\n",
       "    .dataframe tbody tr th:only-of-type {\n",
       "        vertical-align: middle;\n",
       "    }\n",
       "\n",
       "    .dataframe tbody tr th {\n",
       "        vertical-align: top;\n",
       "    }\n",
       "\n",
       "    .dataframe thead th {\n",
       "        text-align: right;\n",
       "    }\n",
       "</style>\n",
       "<table border=\"1\" class=\"dataframe\">\n",
       "  <thead>\n",
       "    <tr style=\"text-align: right;\">\n",
       "      <th></th>\n",
       "      <th>location</th>\n",
       "      <th>total_cases</th>\n",
       "      <th>new_cases</th>\n",
       "      <th>new_cases_smoothed</th>\n",
       "      <th>total_deaths</th>\n",
       "      <th>new_deaths</th>\n",
       "      <th>new_deaths_smoothed</th>\n",
       "      <th>icu_patients</th>\n",
       "    </tr>\n",
       "    <tr>\n",
       "      <th>date</th>\n",
       "      <th></th>\n",
       "      <th></th>\n",
       "      <th></th>\n",
       "      <th></th>\n",
       "      <th></th>\n",
       "      <th></th>\n",
       "      <th></th>\n",
       "      <th></th>\n",
       "    </tr>\n",
       "  </thead>\n",
       "  <tbody>\n",
       "    <tr>\n",
       "      <th>2020-04-01</th>\n",
       "      <td>Austria</td>\n",
       "      <td>10711</td>\n",
       "      <td>531</td>\n",
       "      <td>731.857</td>\n",
       "      <td>146</td>\n",
       "      <td>18</td>\n",
       "      <td>16.571</td>\n",
       "      <td>215</td>\n",
       "    </tr>\n",
       "    <tr>\n",
       "      <th>2020-04-02</th>\n",
       "      <td>Austria</td>\n",
       "      <td>11129</td>\n",
       "      <td>418</td>\n",
       "      <td>602.857</td>\n",
       "      <td>158</td>\n",
       "      <td>12</td>\n",
       "      <td>15.571</td>\n",
       "      <td>219</td>\n",
       "    </tr>\n",
       "    <tr>\n",
       "      <th>2020-04-03</th>\n",
       "      <td>Austria</td>\n",
       "      <td>11524</td>\n",
       "      <td>395</td>\n",
       "      <td>552.429</td>\n",
       "      <td>168</td>\n",
       "      <td>10</td>\n",
       "      <td>15.714</td>\n",
       "      <td>245</td>\n",
       "    </tr>\n",
       "    <tr>\n",
       "      <th>2020-04-04</th>\n",
       "      <td>Austria</td>\n",
       "      <td>11781</td>\n",
       "      <td>257</td>\n",
       "      <td>501.429</td>\n",
       "      <td>186</td>\n",
       "      <td>18</td>\n",
       "      <td>16.857</td>\n",
       "      <td>245</td>\n",
       "    </tr>\n",
       "    <tr>\n",
       "      <th>2020-04-05</th>\n",
       "      <td>Austria</td>\n",
       "      <td>12051</td>\n",
       "      <td>270</td>\n",
       "      <td>466.143</td>\n",
       "      <td>204</td>\n",
       "      <td>18</td>\n",
       "      <td>16.857</td>\n",
       "      <td>244</td>\n",
       "    </tr>\n",
       "  </tbody>\n",
       "</table>\n",
       "</div>"
      ],
      "text/plain": [
       "           location  total_cases  new_cases  new_cases_smoothed  total_deaths  \\\n",
       "date                                                                            \n",
       "2020-04-01  Austria        10711        531             731.857           146   \n",
       "2020-04-02  Austria        11129        418             602.857           158   \n",
       "2020-04-03  Austria        11524        395             552.429           168   \n",
       "2020-04-04  Austria        11781        257             501.429           186   \n",
       "2020-04-05  Austria        12051        270             466.143           204   \n",
       "\n",
       "            new_deaths  new_deaths_smoothed  icu_patients  \n",
       "date                                                       \n",
       "2020-04-01          18               16.571           215  \n",
       "2020-04-02          12               15.571           219  \n",
       "2020-04-03          10               15.714           245  \n",
       "2020-04-04          18               16.857           245  \n",
       "2020-04-05          18               16.857           244  "
      ]
     },
     "execution_count": 3,
     "metadata": {},
     "output_type": "execute_result"
    }
   ],
   "source": [
    "total_df = raw_df.copy()\n",
    "total_df.date = pd.to_datetime(total_df.date)\n",
    "total_df = total_df[\n",
    "    [\n",
    "        \"location\",\n",
    "        \"date\",\n",
    "        \"total_cases\",\n",
    "        \"new_cases\",\n",
    "        \"new_cases_smoothed\",\n",
    "        \"total_deaths\",\n",
    "        \"new_deaths\",\n",
    "        \"new_deaths_smoothed\",\n",
    "        \"icu_patients\",\n",
    "    ]\n",
    "]\n",
    "total_df = total_df.set_index(\"date\")\n",
    "total_df = total_df.dropna()\n",
    "total_df = total_df.astype(\n",
    "    {\n",
    "        \"total_cases\": int,\n",
    "        \"new_cases\": int,\n",
    "        \"total_deaths\": int,\n",
    "        \"new_deaths\": int,\n",
    "        \"icu_patients\": int,\n",
    "    }\n",
    ")\n",
    "total_df.head()"
   ]
  },
  {
   "cell_type": "markdown",
   "metadata": {},
   "source": [
    "## Data exploration\n",
    "\n"
   ]
  },
  {
   "cell_type": "code",
   "execution_count": 4,
   "metadata": {},
   "outputs": [
    {
     "data": {
      "application/vnd.jupyter.widget-view+json": {
       "model_id": "e3fc557aa85f4ee897b7ea9f09047656",
       "version_major": 2,
       "version_minor": 0
      },
      "text/plain": [
       "interactive(children=(Dropdown(description='country', options=('Austria', 'Belgium', 'Bulgaria', 'Canada', 'Cy…"
      ]
     },
     "metadata": {},
     "output_type": "display_data"
    }
   ],
   "source": [
    "@widgets.interact(\n",
    "    country=total_df.location.unique(),\n",
    "    column=[c for c in total_df.columns if c not in [\"location\", \"date\"]],\n",
    ")\n",
    "def plot_evolution(country, column):\n",
    "    total_df.loc[total_df.location == country].plot(\n",
    "        y=column,\n",
    "        figsize=(15, 5),\n",
    "        xlim=(pd.Timestamp(\"2020-01-01\"), pd.Timestamp(\"2021-02-02\")),\n",
    "    )"
   ]
  },
  {
   "cell_type": "code",
   "execution_count": 5,
   "metadata": {},
   "outputs": [
    {
     "data": {
      "application/vnd.jupyter.widget-view+json": {
       "model_id": "d5bb14d827c14b44ad168c21a0170c3a",
       "version_major": 2,
       "version_minor": 0
      },
      "text/plain": [
       "interactive(children=(Dropdown(description='country', options=('Austria', 'Belgium', 'Bulgaria', 'Canada', 'Cy…"
      ]
     },
     "metadata": {},
     "output_type": "display_data"
    }
   ],
   "source": [
    "@widgets.interact(\n",
    "    country=widgets.Dropdown(options=total_df.location.unique()),\n",
    ")\n",
    "def compare_newCases_icu_deaths(country):\n",
    "    (\n",
    "        total_df.loc[total_df.location == country]\n",
    "        .apply(\n",
    "            lambda x: x / x.max()\n",
    "            if x.name in {\"new_cases_smoothed\", \"new_deaths_smoothed\", \"icu_patients\"}\n",
    "            else x\n",
    "        )\n",
    "        .plot(\n",
    "            y=[\"new_cases_smoothed\", \"icu_patients\", \"new_deaths_smoothed\"],\n",
    "            figsize=(15, 5),\n",
    "            xlim=(pd.Timestamp(\"2020-01-01\"), pd.Timestamp(\"2021-02-02\")),\n",
    "        )\n",
    "    )"
   ]
  },
  {
   "cell_type": "markdown",
   "metadata": {},
   "source": [
    "## Model description\n",
    "\n",
    "```\n",
    "+-----------+     +---------------+     +--------+\n",
    "| New cases | ==> | New ICU cases | ==> | Deaths |\n",
    "+-----------+     +---------------+     +--------+\n",
    "```\n",
    "\n",
    "In the following, we want to develop a model to forecast the number of ICUs based on the number of new cases. We can clearly say that a fraction of new cases will end up needing intensive care. However, we also know that there are a fraction of patients being released. Rather than using mathematical models in epidemiology, we develop a data-driven model to forecast the evolution of the number of ICU patients. \n",
    "\n",
    "We start by examining which model we should use even before looking at feature engineering. Our intuition suggests using a linear regression model (or any linear model). We first create a dataset with some features and focus on picking the best performing model before using feature engineering to optimize it."
   ]
  },
  {
   "cell_type": "code",
   "execution_count": 6,
   "metadata": {},
   "outputs": [
    {
     "data": {
      "text/html": [
       "<div>\n",
       "<style scoped>\n",
       "    .dataframe tbody tr th:only-of-type {\n",
       "        vertical-align: middle;\n",
       "    }\n",
       "\n",
       "    .dataframe tbody tr th {\n",
       "        vertical-align: top;\n",
       "    }\n",
       "\n",
       "    .dataframe thead th {\n",
       "        text-align: right;\n",
       "    }\n",
       "</style>\n",
       "<table border=\"1\" class=\"dataframe\">\n",
       "  <thead>\n",
       "    <tr style=\"text-align: right;\">\n",
       "      <th></th>\n",
       "      <th>icu_patients</th>\n",
       "      <th>new_cases</th>\n",
       "      <th>new_cases_smoothed</th>\n",
       "      <th>icu_patients_yesterday</th>\n",
       "    </tr>\n",
       "    <tr>\n",
       "      <th>date</th>\n",
       "      <th></th>\n",
       "      <th></th>\n",
       "      <th></th>\n",
       "      <th></th>\n",
       "    </tr>\n",
       "  </thead>\n",
       "  <tbody>\n",
       "    <tr>\n",
       "      <th>2020-03-21</th>\n",
       "      <td>308</td>\n",
       "      <td>2365</td>\n",
       "      <td>2518.286</td>\n",
       "      <td>200.0</td>\n",
       "    </tr>\n",
       "    <tr>\n",
       "      <th>2020-03-22</th>\n",
       "      <td>364</td>\n",
       "      <td>2660</td>\n",
       "      <td>2725.429</td>\n",
       "      <td>308.0</td>\n",
       "    </tr>\n",
       "    <tr>\n",
       "      <th>2020-03-23</th>\n",
       "      <td>451</td>\n",
       "      <td>4183</td>\n",
       "      <td>3112.000</td>\n",
       "      <td>364.0</td>\n",
       "    </tr>\n",
       "    <tr>\n",
       "      <th>2020-03-24</th>\n",
       "      <td>616</td>\n",
       "      <td>3930</td>\n",
       "      <td>3389.857</td>\n",
       "      <td>451.0</td>\n",
       "    </tr>\n",
       "    <tr>\n",
       "      <th>2020-03-25</th>\n",
       "      <td>789</td>\n",
       "      <td>4337</td>\n",
       "      <td>3570.857</td>\n",
       "      <td>616.0</td>\n",
       "    </tr>\n",
       "    <tr>\n",
       "      <th>...</th>\n",
       "      <td>...</td>\n",
       "      <td>...</td>\n",
       "      <td>...</td>\n",
       "      <td>...</td>\n",
       "    </tr>\n",
       "    <tr>\n",
       "      <th>2021-01-30</th>\n",
       "      <td>4342</td>\n",
       "      <td>17518</td>\n",
       "      <td>12460.000</td>\n",
       "      <td>4367.0</td>\n",
       "    </tr>\n",
       "    <tr>\n",
       "      <th>2021-01-31</th>\n",
       "      <td>4337</td>\n",
       "      <td>748</td>\n",
       "      <td>11127.143</td>\n",
       "      <td>4342.0</td>\n",
       "    </tr>\n",
       "    <tr>\n",
       "      <th>2021-02-01</th>\n",
       "      <td>4313</td>\n",
       "      <td>6668</td>\n",
       "      <td>11095.857</td>\n",
       "      <td>4337.0</td>\n",
       "    </tr>\n",
       "    <tr>\n",
       "      <th>2021-02-02</th>\n",
       "      <td>4252</td>\n",
       "      <td>7690</td>\n",
       "      <td>10853.429</td>\n",
       "      <td>4313.0</td>\n",
       "    </tr>\n",
       "    <tr>\n",
       "      <th>2021-02-03</th>\n",
       "      <td>4207</td>\n",
       "      <td>12487</td>\n",
       "      <td>10403.571</td>\n",
       "      <td>4252.0</td>\n",
       "    </tr>\n",
       "  </tbody>\n",
       "</table>\n",
       "<p>320 rows × 4 columns</p>\n",
       "</div>"
      ],
      "text/plain": [
       "            icu_patients  new_cases  new_cases_smoothed  \\\n",
       "date                                                      \n",
       "2020-03-21           308       2365            2518.286   \n",
       "2020-03-22           364       2660            2725.429   \n",
       "2020-03-23           451       4183            3112.000   \n",
       "2020-03-24           616       3930            3389.857   \n",
       "2020-03-25           789       4337            3570.857   \n",
       "...                  ...        ...                 ...   \n",
       "2021-01-30          4342      17518           12460.000   \n",
       "2021-01-31          4337        748           11127.143   \n",
       "2021-02-01          4313       6668           11095.857   \n",
       "2021-02-02          4252       7690           10853.429   \n",
       "2021-02-03          4207      12487           10403.571   \n",
       "\n",
       "            icu_patients_yesterday  \n",
       "date                                \n",
       "2020-03-21                   200.0  \n",
       "2020-03-22                   308.0  \n",
       "2020-03-23                   364.0  \n",
       "2020-03-24                   451.0  \n",
       "2020-03-25                   616.0  \n",
       "...                            ...  \n",
       "2021-01-30                  4367.0  \n",
       "2021-01-31                  4342.0  \n",
       "2021-02-01                  4337.0  \n",
       "2021-02-02                  4313.0  \n",
       "2021-02-03                  4252.0  \n",
       "\n",
       "[320 rows x 4 columns]"
      ]
     },
     "execution_count": 6,
     "metadata": {},
     "output_type": "execute_result"
    }
   ],
   "source": [
    "icu_patients = total_df.loc[\n",
    "    total_df.location == \"Germany\",\n",
    "    [\"icu_patients\", \"new_cases\", \"new_cases_smoothed\"],\n",
    "]\n",
    "icu_patients[\"icu_patients_yesterday\"] = icu_patients[\"icu_patients\"].shift(1)\n",
    "icu_patients = icu_patients.dropna()\n",
    "icu_patients"
   ]
  },
  {
   "cell_type": "markdown",
   "metadata": {},
   "source": [
    "## Establishing performance of Regression models \n",
    "### Training and tests set for model selection"
   ]
  },
  {
   "cell_type": "code",
   "execution_count": 7,
   "metadata": {},
   "outputs": [],
   "source": [
    "X_train = icu_patients.loc[:\"2021\"].drop([\"icu_patients\"], axis=1)\n",
    "y_train = icu_patients.loc[:\"2021\", \"icu_patients\"]\n",
    "\n",
    "X_test = icu_patients.loc[\"2021\"].drop([\"icu_patients\"], axis=1)\n",
    "y_test = icu_patients.loc[\"2021\":, \"icu_patients\"]"
   ]
  },
  {
   "cell_type": "markdown",
   "metadata": {},
   "source": [
    "### Validate models"
   ]
  },
  {
   "cell_type": "code",
   "execution_count": 8,
   "metadata": {},
   "outputs": [
    {
     "name": "stdout",
     "output_type": "stream",
     "text": [
      "   LR:         0.87 (0.05)\n",
      "   RF:        -0.00 (0.74)\n",
      "Ridge:         0.87 (0.05)\n",
      "Lasso:         0.87 (0.05)\n",
      "   EN:         0.87 (0.05)\n",
      "   LL:         0.89 (0.08)\n",
      "   KN:        -3.87 (1.16)\n",
      "  MLP:         0.85 (0.09)\n"
     ]
    }
   ],
   "source": [
    "models = [\n",
    "    (\"LR\", LinearRegression()),\n",
    "    (\"RF\", RandomForestRegressor()),\n",
    "    (\"Ridge\", Ridge()),\n",
    "    (\"Lasso\", Lasso()),\n",
    "    (\"EN\", ElasticNet()),\n",
    "    (\"LL\", LassoLars()),\n",
    "    (\"KN\", KNeighborsRegressor()),\n",
    "    (\"MLP\", MLPRegressor(max_iter=10_000))\n",
    "]\n",
    "\n",
    "results = []\n",
    "names = []\n",
    "\n",
    "for name, model in models:\n",
    "    tscv = TimeSeriesSplit(n_splits=2)\n",
    "    cv_results = cross_val_score(model, X_train, y_train, cv=tscv, scoring=\"r2\")\n",
    "    results.append(cv_results)\n",
    "    names.append(name)\n",
    "    print(f\"{name:>5}: {cv_results.mean():12.2f} ({cv_results.std():.2f})\")"
   ]
  },
  {
   "cell_type": "code",
   "execution_count": 9,
   "metadata": {},
   "outputs": [
    {
     "data": {
      "image/png": "[encoded data removed]",
      "text/plain": [
       "<Figure size 432x288 with 1 Axes>"
      ]
     },
     "metadata": {
      "needs_background": "light"
     },
     "output_type": "display_data"
    }
   ],
   "source": [
    "plt.boxplot(results, labels=names)\n",
    "plt.ylabel(\"$R^2$ score\")\n",
    "plt.title(\"Algorithm Comparison\");"
   ]
  },
  {
   "cell_type": "markdown",
   "metadata": {},
   "source": [
    "Comparing the different algorithms, we see that the assumption that linear regression (or a linear model) might be okay holds.\n",
    "\n",
    "We can now look at the prediction for 2021 and how each model performs precisely."
   ]
  },
  {
   "cell_type": "code",
   "execution_count": 10,
   "metadata": {},
   "outputs": [
    {
     "data": {
      "image/png": "[encoded data removed]",
      "text/plain": [
       "<Figure size 864x360 with 1 Axes>"
      ]
     },
     "metadata": {
      "needs_background": "light"
     },
     "output_type": "display_data"
    }
   ],
   "source": [
    "plt.figure(figsize=(12, 5))\n",
    "for name, model in models:\n",
    "    plt.plot(\n",
    "        X_test.index,\n",
    "        model.fit(X_train, y_train).predict(X_test),\n",
    "        label=name,\n",
    "        linewidth=3.0,\n",
    "    )\n",
    "plt.plot(y_test, color=\"k\", label=\"real\", linewidth=2.0)\n",
    "plt.legend(loc=\"center left\", bbox_to_anchor=(1.0, 0.5))\n",
    "plt.xlabel(\"date\")\n",
    "plt.ylabel(\"ICU patients\");"
   ]
  },
  {
   "cell_type": "markdown",
   "metadata": {},
   "source": [
    "We can see that the different models predict the same outcome for 2021 if we train on the data for 2020, and only KNeighborsRegressor seems to drop off. Nevertheless, we will use `LinearRegression` and examine which feature we need for the best performance.\n",
    "\n",
    "Indeed, proper normalization might be more useful here, but we continue looking into determining the appropriate features to be used for the prediction.\n",
    "\n",
    "## Feature engineering\n",
    "\n",
    "For evaluating the performance for different features, we will have an overview of how the model performs for the beginning of 2021, and then we look at the $r^2$-score of each feature method. Let's define methods to plot the corresponding datasets."
   ]
  },
  {
   "cell_type": "code",
   "execution_count": 11,
   "metadata": {},
   "outputs": [],
   "source": [
    "def split_full_dataframe(df):\n",
    "    \"\"\"Splits full dataframe into two groups\n",
    "  \n",
    "    The whole dataframe `df` is split into two groups with two different dataframes.\n",
    "    The first group consists of two dataframes until Jan 2021 with training\n",
    "    data and target data. In contrast, the second group consists of two\n",
    "    dataframes for validation with test data and corresponding real data.\n",
    "    \"\"\"\n",
    "    X = df.loc[:\"2021-01\", :].drop(\"icu_patients\", axis=1)\n",
    "    y = df.loc[:\"2021-01\", :][[\"icu_patients\"]]\n",
    "\n",
    "    X_validate = df.loc[\"2021-01\":, :].drop(\"icu_patients\", axis=1)\n",
    "    y_validate = df.loc[\"2021-01\":, :][[\"icu_patients\"]]\n",
    "\n",
    "    return X, y, X_validate, y_validate\n",
    "\n",
    "def train_model(X, y, n_splits, model):\n",
    "    \"\"\"Training model\n",
    "    \n",
    "    Runs `model.fit` using the training data `X` and target values `y`.\n",
    "    The model fit is done using cross-validation with time series split\n",
    "    `TimeSeriesSplit` of sklearn where the argument `n_splits` determines\n",
    "    the maximum number of splits.\n",
    "    \"\"\"\n",
    "    tscv = TimeSeriesSplit(n_splits=n_splits)\n",
    "    score = []\n",
    "    for train_index, test_index in tscv.split(X):\n",
    "        X_train, X_test = X.iloc[train_index], X.iloc[test_index]\n",
    "        y_train, y_test = y.iloc[train_index], y.iloc[test_index]\n",
    "        model.fit(X_train, y_train)\n",
    "        score.append(model.score(X_test, y_test))\n",
    "\n",
    "    return model, score\n",
    "\n",
    "def model_performance_vis(df, n_splits, model):\n",
    "    \"\"\"Train model and visualize results\n",
    "    \n",
    "    Take dataframe `df` and split it, then train the model `model` using\n",
    "    `n_splits`-splits for cross-validation. Afterwards use visulize the\n",
    "    data with the left plot showing the predicted and the real number of ICU\n",
    "    patients and the right showing the feature importance.\n",
    "    \"\"\"\n",
    "    X, y, X_validate, y_validate = split_full_dataframe(df)\n",
    "    model, score = train_model(X, y, n_splits, model)\n",
    "\n",
    "    y_validate[\"icu_predicted\"] = model.predict(X_validate)\n",
    "\n",
    "    fig, (ax1, ax2) = plt.subplots(ncols=2, figsize=(14, 4))\n",
    "\n",
    "    y_validate.plot.line(\n",
    "        y=[\"icu_patients\", \"icu_predicted\"],\n",
    "        ax=ax1,\n",
    "        ylabel=\"ICU patients\",\n",
    "    )\n",
    "    ax1.legend([\"Real\", \"Predicted\"])\n",
    "\n",
    "    feature_values = softmax(np.abs(model.coef_[0]))\n",
    "    sorted_indices = feature_values.argsort()\n",
    "    feature_names = np.array(X.columns)\n",
    "\n",
    "    ax2.barh(\n",
    "        np.arange(len(feature_values)), feature_values[sorted_indices], align=\"center\"\n",
    "    )\n",
    "    ax2.set_xlim(0, 1.0)\n",
    "    ax2.set_xticks(np.linspace(0, 1.0, 6))\n",
    "    ax2.set_xticklabels([f\"{int(100 * f)} %\" for f in np.linspace(0, 1.0, 6)])\n",
    "    ax2.set_xlabel(\"Relative importance\")\n",
    "    ax2.set_yticks(range(len(feature_names)))\n",
    "    ax2.set_yticklabels(feature_names[sorted_indices])\n",
    "    fig.tight_layout()\n",
    "\n",
    "def evaluate_feature_selection(\n",
    "    feature_selection_method,\n",
    "    full_df, \n",
    "    model=LinearRegression(),\n",
    "):\n",
    "    \"\"\"Visualize feature selection interactively\n",
    "    \n",
    "    Function for creating two widgets, a dropdown with country selection\n",
    "    and a slider with selecting number of cross-validation splits.\n",
    "    \"\"\"\n",
    "    @widgets.interact(\n",
    "        country=widgets.Dropdown(\n",
    "            options=full_df.location.unique(),\n",
    "            description=\"Country\"\n",
    "        ),\n",
    "        n_splits=widgets.IntSlider(\n",
    "            value=5,\n",
    "            min=2,\n",
    "            max=24,\n",
    "            description=\"CV splits\",\n",
    "            orientation=\"horizontal\",\n",
    "        ),\n",
    "    )\n",
    "    def country_selection(country, n_splits):\n",
    "        df = feature_selection_method(full_df[full_df.location == country])\n",
    "        model_performance_vis(df, n_splits, model)"
   ]
  },
  {
   "cell_type": "markdown",
   "metadata": {},
   "source": [
    "### Method 1\n",
    "\n",
    "Features are:\n",
    "\n",
    "- `new_cases`: number of new Covid-19 cases"
   ]
  },
  {
   "cell_type": "code",
   "execution_count": 12,
   "metadata": {},
   "outputs": [
    {
     "data": {
      "application/vnd.jupyter.widget-view+json": {
       "model_id": "48eab0f3d0cd4b22a79e69e6ab478c9a",
       "version_major": 2,
       "version_minor": 0
      },
      "text/plain": [
       "interactive(children=(Dropdown(description='Country', options=('Austria', 'Belgium', 'Bulgaria', 'Canada', 'Cy…"
      ]
     },
     "metadata": {},
     "output_type": "display_data"
    }
   ],
   "source": [
    "def method_1(df):\n",
    "    \"\"\"1: new cases\"\"\"\n",
    "    return df.loc[:, [\"icu_patients\", \"new_cases\"]]\n",
    "\n",
    "evaluate_feature_selection(method_1, total_df)"
   ]
  },
  {
   "cell_type": "markdown",
   "metadata": {},
   "source": [
    "### Method 2\n",
    "\n",
    "Features are:\n",
    "\n",
    "- `new_cases`: number of new Covid-19 cases\n",
    "- `new_cases_smoothed`: number of new Covid-19 cases (smooth)"
   ]
  },
  {
   "cell_type": "code",
   "execution_count": 13,
   "metadata": {},
   "outputs": [
    {
     "data": {
      "application/vnd.jupyter.widget-view+json": {
       "model_id": "c73b4949cf7c4ffba4de91da98a1fe5a",
       "version_major": 2,
       "version_minor": 0
      },
      "text/plain": [
       "interactive(children=(Dropdown(description='Country', options=('Austria', 'Belgium', 'Bulgaria', 'Canada', 'Cy…"
      ]
     },
     "metadata": {},
     "output_type": "display_data"
    }
   ],
   "source": [
    "def method_2(df):\n",
    "    \"\"\"2: new cases + smoothed\"\"\"\n",
    "    return df.loc[:, [\"icu_patients\", \"new_cases\", \"new_cases_smoothed\"]]\n",
    "\n",
    "evaluate_feature_selection(method_2, total_df)"
   ]
  },
  {
   "cell_type": "markdown",
   "metadata": {},
   "source": [
    "### Method 3\n",
    "\n",
    "Features are:\n",
    "\n",
    "- `new_cases`: number of new Covid-19 cases\n",
    "- `new_cases_smoothed`: number of new Covid-19 cases (smooth)\n",
    "- `icu_-1d`: number of ICU patient of previous day"
   ]
  },
  {
   "cell_type": "code",
   "execution_count": 14,
   "metadata": {},
   "outputs": [
    {
     "data": {
      "application/vnd.jupyter.widget-view+json": {
       "model_id": "60b30ff5861e43958ad935cf62ab5dbb",
       "version_major": 2,
       "version_minor": 0
      },
      "text/plain": [
       "interactive(children=(Dropdown(description='Country', options=('Austria', 'Belgium', 'Bulgaria', 'Canada', 'Cy…"
      ]
     },
     "metadata": {},
     "output_type": "display_data"
    }
   ],
   "source": [
    "def method_3(df):\n",
    "    \"\"\"3: new cases + smoothed + ICU (-1d)\"\"\"\n",
    "    df = df.loc[:, [\"icu_patients\", \"new_cases\", \"new_cases_smoothed\"]]\n",
    "    df[\"icu_-1d\"] = df[\"icu_patients\"].shift(1)\n",
    "    df = df.dropna()\n",
    "    return df\n",
    "\n",
    "evaluate_feature_selection(method_3, total_df)"
   ]
  },
  {
   "cell_type": "markdown",
   "metadata": {},
   "source": [
    "### Method 4\n",
    "\n",
    "Features are:\n",
    "\n",
    "- `new_cases`: number of new Covid-19 cases\n",
    "- `new_cases_smoothed`: number of new Covid-19 cases (smooth)\n",
    "- `icu_-1d`: number of ICU patient of previous day\n",
    "- `icu_-1d_diff`: change of number of ICU patient of previous day"
   ]
  },
  {
   "cell_type": "code",
   "execution_count": 15,
   "metadata": {},
   "outputs": [
    {
     "data": {
      "application/vnd.jupyter.widget-view+json": {
       "model_id": "33d55aaf446f48b3b0f215ba69d2ccac",
       "version_major": 2,
       "version_minor": 0
      },
      "text/plain": [
       "interactive(children=(Dropdown(description='Country', options=('Austria', 'Belgium', 'Bulgaria', 'Canada', 'Cy…"
      ]
     },
     "metadata": {},
     "output_type": "display_data"
    }
   ],
   "source": [
    "def method_4(df):\n",
    "    \"\"\"4: new cases + smoothed + ICU (-1d) + ∆ICU(-1d)\"\"\"\n",
    "    df = df.loc[:, [\"icu_patients\", \"new_cases\", \"new_cases_smoothed\"]]\n",
    "    df[\"icu_-1d\"] = df[\"icu_patients\"].shift(1)\n",
    "    df[\"icu_-1d_diff\"] = df[\"icu_-1d\"].diff()\n",
    "    df = df.dropna()\n",
    "    return df\n",
    "\n",
    "evaluate_feature_selection(method_4, total_df)"
   ]
  },
  {
   "cell_type": "markdown",
   "metadata": {},
   "source": [
    "### Method 5\n",
    "\n",
    "Features are:\n",
    "\n",
    "- `new_cases`: number of new Covid-19 cases\n",
    "- `new_cases_smoothed`: number of new Covid-19 cases (smooth)\n",
    "- `icu_-1d`: number of ICU patient of previous day\n",
    "- `icu_-1d_diff`: change of number of ICU patient of previous day (smooth)"
   ]
  },
  {
   "cell_type": "code",
   "execution_count": 16,
   "metadata": {},
   "outputs": [
    {
     "data": {
      "application/vnd.jupyter.widget-view+json": {
       "model_id": "c9d4f459ec9242329498a9699171f683",
       "version_major": 2,
       "version_minor": 0
      },
      "text/plain": [
       "interactive(children=(Dropdown(description='Country', options=('Austria', 'Belgium', 'Bulgaria', 'Canada', 'Cy…"
      ]
     },
     "metadata": {},
     "output_type": "display_data"
    }
   ],
   "source": [
    "def method_5(df):\n",
    "    \"\"\"5: new cases + smoothed new + ICU (-1d) + ∆ICU(-1d) smooth\"\"\"\n",
    "    df = df.loc[:, [\"icu_patients\", \"new_cases\", \"new_cases_smoothed\"]]\n",
    "    df[\"icu_-1d\"] = df[\"icu_patients\"].shift(1)\n",
    "    df[\"icu_-1d_diff\"] = df[\"icu_-1d\"].diff().rolling(7, center=True).mean()\n",
    "    df = df.dropna()\n",
    "    return df\n",
    "\n",
    "evaluate_feature_selection(method_5, total_df)"
   ]
  },
  {
   "cell_type": "markdown",
   "metadata": {},
   "source": [
    "### Method 6\n",
    "\n",
    "Features are:\n",
    "\n",
    "- `new_cases_smoothed`: number of new Covid-19 cases (smooth)\n",
    "- `icu_-1d`: number of ICU patient of previous day\n",
    "- `icu_-1d_diff`: change of number of ICU patient of previous day (smooth)"
   ]
  },
  {
   "cell_type": "code",
   "execution_count": 17,
   "metadata": {},
   "outputs": [
    {
     "data": {
      "application/vnd.jupyter.widget-view+json": {
       "model_id": "4deb06acbcea45398139c6c9177f8f94",
       "version_major": 2,
       "version_minor": 0
      },
      "text/plain": [
       "interactive(children=(Dropdown(description='Country', options=('Austria', 'Belgium', 'Bulgaria', 'Canada', 'Cy…"
      ]
     },
     "metadata": {},
     "output_type": "display_data"
    }
   ],
   "source": [
    "def method_6(df):\n",
    "    \"\"\"6: smoothed new + ICU(-1d) + ∆ICU(-1d)\"\"\"\n",
    "    df = df.loc[:, [\"icu_patients\", \"new_cases_smoothed\"]]\n",
    "    df[\"icu_-1d\"] = df[\"icu_patients\"].shift(1)\n",
    "    df[\"icu_-1d_diff\"] = df[\"icu_-1d\"].diff().rolling(7, center=True).mean()\n",
    "    df = df.dropna()\n",
    "    return df\n",
    "\n",
    "evaluate_feature_selection(method_6, total_df)"
   ]
  },
  {
   "cell_type": "markdown",
   "metadata": {},
   "source": [
    "### Method 7\n",
    "\n",
    "Features are:\n",
    "\n",
    "- `new_cases_smoothed`: number of new Covid-19 cases (smooth)\n",
    "- `icu_-1d`: number of ICU patient of previous day\n",
    "- `icu_-1d_diff`: change of number of ICU patient of previous day (smooth)\n",
    "- `icu_-2d`: number of ICU patient from 2 days ago\n",
    "- `icu_-2d_diff`: change of number of ICU patient from 2 days ago (smooth)"
   ]
  },
  {
   "cell_type": "code",
   "execution_count": 18,
   "metadata": {},
   "outputs": [
    {
     "data": {
      "application/vnd.jupyter.widget-view+json": {
       "model_id": "e2253c596fe442f8bef82dd8c97bb208",
       "version_major": 2,
       "version_minor": 0
      },
      "text/plain": [
       "interactive(children=(Dropdown(description='Country', options=('Austria', 'Belgium', 'Bulgaria', 'Canada', 'Cy…"
      ]
     },
     "metadata": {},
     "output_type": "display_data"
    }
   ],
   "source": [
    "def method_7(df):\n",
    "    \"\"\"7: smoothed new + ICU (-1d) + ∆ICU(-1d) + ICU (-2d) + ∆ICU(-2d)\"\"\"\n",
    "    df = df.loc[:, [\"icu_patients\", \"new_cases_smoothed\"]]\n",
    "    df[\"icu_-1d\"] = df[\"icu_patients\"].shift(1)\n",
    "    df[\"icu_-1d_diff\"] = df[\"icu_-1d\"].diff().rolling(7, center=True).mean()\n",
    "    df[\"icu_-2d\"] = df[\"icu_-1d\"].shift(1)\n",
    "    df[\"icu_-2d_diff\"] = df[\"icu_-2d\"].diff().rolling(7, center=True).mean()\n",
    "    df = df.dropna()\n",
    "    return df\n",
    "\n",
    "evaluate_feature_selection(method_7, total_df)"
   ]
  },
  {
   "cell_type": "markdown",
   "metadata": {},
   "source": [
    "### Method 8\n",
    "\n",
    "Features are:\n",
    "\n",
    "- `new_cases_-7d`: number of new Covid-19 cases 7 days ago\n",
    "- `new_cases_smoothed`: number of new Covid-19 cases (smooth)\n",
    "- `icu_-1d`: number of ICU patient of previous day\n",
    "- `icu_-1d_diff`: change of number of ICU patient of previous day (smooth)\n",
    "- `icu_-2d`: number of ICU patient from 2 days ago\n",
    "- `icu_-2d_diff`: change of number of ICU patient from 2 days ago (smooth)"
   ]
  },
  {
   "cell_type": "code",
   "execution_count": 19,
   "metadata": {},
   "outputs": [
    {
     "data": {
      "application/vnd.jupyter.widget-view+json": {
       "model_id": "f171ccfdb9864467a13e2e427f319b57",
       "version_major": 2,
       "version_minor": 0
      },
      "text/plain": [
       "interactive(children=(Dropdown(description='Country', options=('Austria', 'Belgium', 'Bulgaria', 'Canada', 'Cy…"
      ]
     },
     "metadata": {},
     "output_type": "display_data"
    }
   ],
   "source": [
    "def method_8(df):\n",
    "    \"\"\"8: smoothed new + new(-7d) + ICU (-1d) + ∆ICU(-1d) + ICU (-2d) + ∆ICU(-2d)\"\"\"\n",
    "    df = df.loc[:, [\"icu_patients\", \"new_cases_smoothed\"]]\n",
    "    df[\"new_cases_-7d\"] = df[\"new_cases_smoothed\"].shift(7)\n",
    "    df[\"icu_-1d\"] = df[\"icu_patients\"].shift(1)\n",
    "    df[\"icu_-1d_diff\"] = df[\"icu_-1d\"].diff().rolling(7, center=True).mean()\n",
    "    df[\"icu_-2d\"] = df[\"icu_-1d\"].shift(1)\n",
    "    df[\"icu_-2d_diff\"] = df[\"icu_-2d\"].diff().rolling(7, center=True).mean()\n",
    "    df = df.dropna()\n",
    "    return df\n",
    "\n",
    "evaluate_feature_selection(method_8, total_df)"
   ]
  },
  {
   "cell_type": "markdown",
   "metadata": {},
   "source": [
    "### Method 9\n",
    "\n",
    "- `icu_-1d`: number of ICU patient of previous day\n",
    "- `icu_-1d_diff`: change of number of ICU patient of previous day (smooth)\n",
    "- `icu_-2d`: number of ICU patient from 2 days ago\n",
    "- `icu_-2d_diff`: change of number of ICU patient from 2 days ago (smooth)"
   ]
  },
  {
   "cell_type": "code",
   "execution_count": 20,
   "metadata": {},
   "outputs": [
    {
     "data": {
      "application/vnd.jupyter.widget-view+json": {
       "model_id": "8405f98403c0429b94f85a41315debf4",
       "version_major": 2,
       "version_minor": 0
      },
      "text/plain": [
       "interactive(children=(Dropdown(description='Country', options=('Austria', 'Belgium', 'Bulgaria', 'Canada', 'Cy…"
      ]
     },
     "metadata": {},
     "output_type": "display_data"
    }
   ],
   "source": [
    "def method_9(df):\n",
    "    \"\"\"9: ICU (-1d) + ∆ICU(-1d) + ICU (-2d) + ∆ICU(-2d)\"\"\"\n",
    "    df = df.loc[:, [\"icu_patients\"]]\n",
    "    df[\"icu_-1d\"] = df[\"icu_patients\"].shift(1)\n",
    "    df[\"icu_-1d_diff\"] = df[\"icu_-1d\"].diff().rolling(7, center=True).mean()\n",
    "    df[\"icu_-2d\"] = df[\"icu_-1d\"].shift(1)\n",
    "    df[\"icu_-2d_diff\"] = df[\"icu_-2d\"].diff().rolling(7, center=True).mean()\n",
    "    df = df.dropna()\n",
    "    return df\n",
    "\n",
    "evaluate_feature_selection(method_9, total_df)"
   ]
  },
  {
   "cell_type": "markdown",
   "metadata": {},
   "source": [
    "### Comparision of each model against each other\n",
    "\n",
    "In the following we want to look at all the methods and how they perform against for various countries."
   ]
  },
  {
   "cell_type": "code",
   "execution_count": 21,
   "metadata": {},
   "outputs": [
    {
     "data": {
      "image/png": "[encoded data removed]",
      "text/plain": [
       "<Figure size 1080x864 with 3 Axes>"
      ]
     },
     "metadata": {
      "needs_background": "light"
     },
     "output_type": "display_data"
    }
   ],
   "source": [
    "def prepare_training_data(df):\n",
    "    # split train and validate where 2021 is the border\n",
    "    train = df[:\"2020-12\"]\n",
    "    validate = df[\"2021-01\":]\n",
    "    return (\n",
    "        train.drop(\"icu_patients\", axis=\"columns\"),\n",
    "        train[[\"icu_patients\"]],\n",
    "        validate.drop(\"icu_patients\", axis=\"columns\"),\n",
    "        validate[[\"icu_patients\"]],\n",
    "    )\n",
    "\n",
    "countries = total_df.location.unique()\n",
    "feature_methods = [v for k, v in dict(globals()).items() if k.startswith(\"method_\")]\n",
    "feature_names = [\n",
    "    v.__name__ for k, v in dict(globals()).items() if k.startswith(\"method_\")\n",
    "]\n",
    "number_of_splits = 6\n",
    "\n",
    "performance = np.zeros((len(countries), len(feature_methods)))\n",
    "\n",
    "for i, country in enumerate(countries):\n",
    "    for j, method in enumerate(feature_methods):\n",
    "        df = method(total_df[total_df.location == country])\n",
    "        X, y, X_validate, y_validate = prepare_training_data(df)\n",
    "        model, _ = train_model(X, y, number_of_splits, LinearRegression())\n",
    "\n",
    "        performance[i, j] = model.score(X_validate, y_validate).mean()\n",
    "\n",
    "fig, (ax1, ax2) = plt.subplots(nrows=2, figsize=(15, 12))\n",
    "\n",
    "# 2d plot\n",
    "m = ax1.imshow(performance.T, aspect=\"auto\", vmin=0.0, vmax=1.0)\n",
    "ax1.set_xticks(range(len(countries)))\n",
    "ax1.set_xticklabels(countries, rotation=\"vertical\")\n",
    "ax1.set_yticks(range(len(feature_names)))\n",
    "ax1.set_yticklabels(feature_names)\n",
    "cbar = plt.colorbar(m, ax=ax1)\n",
    "cbar.set_label(\"$r^2$-score\")\n",
    "\n",
    "# lineouts\n",
    "for i, perf in enumerate(performance.T):\n",
    "    ax2.plot(perf, label=feature_names[i])\n",
    "\n",
    "ax2.legend()\n",
    "ax2.set_xlim(0, len(performance)-1)\n",
    "ax2.set_xticks(range(len(countries)))\n",
    "ax2.set_xticklabels(countries, rotation=\"vertical\")\n",
    "ax2.set_ylim(-0.1, 1.1)\n",
    "ax2.set_ylabel(\"$r^2$-score\")\n",
    "fig.tight_layout()"
   ]
  },
  {
   "cell_type": "markdown",
   "metadata": {},
   "source": [
    "For certain countries, like Iceland, forecasting the number of ICU patients was not possible. Iceland did not have any patients in ICUs (for the period of validation), and our model can not capture this. However, we have to include the patients in ICUs from the previous days to forecast the ICU number correctly. Features based on method 7 seem to perform best. There is one caveat with including the number of ICUs of the previous days as a feature. As we previously described, the number of ICUs depends on the number of new cases, but we have seen that our model does not consider this and tries to predict the number of ICUs based on the number of ICUs of the previous days. It does not break causality, as the number of new cases and the change is encoded in the number of ICUs. In the following, we want to look at a model which uses only the number of cases from the day before and new cases.\n",
    "\n",
    "## Forecasting ICUs"
   ]
  },
  {
   "cell_type": "code",
   "execution_count": 22,
   "metadata": {},
   "outputs": [
    {
     "data": {
      "application/vnd.jupyter.widget-view+json": {
       "model_id": "e5fd0206b1c6472e933415780157687e",
       "version_major": 2,
       "version_minor": 0
      },
      "text/plain": [
       "interactive(children=(Dropdown(description='Country', options=('Austria', 'Belgium', 'Bulgaria', 'Canada', 'Cy…"
      ]
     },
     "metadata": {},
     "output_type": "display_data"
    }
   ],
   "source": [
    "options_for_countries = [\n",
    "    'Austria',\n",
    "    'Belgium',\n",
    "    'Bulgaria',\n",
    "    'Canada',\n",
    "    'Cyprus',\n",
    "    'Czechia',\n",
    "#     'Denmark',\n",
    "    'Estonia',\n",
    "#     'Finland',\n",
    "    'France',\n",
    "    'Germany',\n",
    "#     'Iceland',\n",
    "#     'Ireland',\n",
    "#     'Israel',\n",
    "    'Italy',\n",
    "    'Luxembourg',\n",
    "    'Netherlands',\n",
    "    'Portugal',\n",
    "#     'Romania',\n",
    "#     'Slovenia',\n",
    "#     'Spain',\n",
    "    'Sweden',\n",
    "    'United Kingdom',\n",
    "    'United States',\n",
    "]\n",
    "\n",
    "#### Different slider for changing prediction parameters\n",
    "country_selection = widgets.Dropdown(\n",
    "    options=options_for_countries,\n",
    "    description=\"Country\",\n",
    ")\n",
    "growth_factor = widgets.SelectionSlider(\n",
    "    options=(0.1 / (1 + np.exp(-np.linspace(-6, 6, 1001)))) + 0.95,\n",
    "    index=1,\n",
    "    description=\"Factor\",\n",
    ")\n",
    "growth_exponent = widgets.FloatSlider(\n",
    "    min=0,\n",
    "    max=3,\n",
    "    value=3,\n",
    "    description=\"Exponent\",\n",
    ")\n",
    "prediction_beginning = widgets.SelectionRangeSlider(\n",
    "    options=pd.date_range(start=\"2020-06-02\", end=\"2021-01-31\"),\n",
    "    index=(0, 200),\n",
    "    readout=False,\n",
    "    description=\"Date\",\n",
    ")\n",
    "\n",
    "\n",
    "#### Functions for data pipeline\n",
    "def main_feature_extraction(df):\n",
    "    return df[[\"icu_patients\", \"new_cases_smoothed\"]]\n",
    "\n",
    "def feature_renaming(df):\n",
    "    return df.rename(\n",
    "        columns={\n",
    "            \"new_cases_smoothed\": \"new_cases\",\n",
    "            \"icu_patients\": \"icu\"\n",
    "        }\n",
    "    )\n",
    "    \n",
    "def feature_engineering(df):\n",
    "    df = df.copy()\n",
    "    df[\"icu_yesterday\"] = df[\"icu\"].shift(1)\n",
    "    return df.dropna()\n",
    "\n",
    "def feature_target_split(df):\n",
    "    features = df.drop(columns=\"icu\")\n",
    "    target = df[[\"icu\"]]\n",
    "    return features, target\n",
    "\n",
    "#### Forecast the ICU numbers\n",
    "def perform_forecasting(df, model, starting, ending):\n",
    "    prediction_period = pd.date_range(start=starting, end=ending)\n",
    "    one_day = prediction_period.freq\n",
    "    \n",
    "    assert df.index[-1] > prediction_period[-1]\n",
    "\n",
    "    # predict for the next day\n",
    "    for day in prediction_period[:-1]:\n",
    "        X = (\n",
    "            df.loc[day, [\"new_cases_sim\", \"icu_yesterday\"]]\n",
    "            .to_numpy()\n",
    "            .reshape(1, -1)\n",
    "        )\n",
    "        df.loc[day, \"icu_sim\"] = model.predict(X)[0]\n",
    "        # fixing boundary\n",
    "        df.loc[day + one_day, \"icu_sim\"] = np.nan\n",
    "        df.loc[day + one_day, \"icu_yesterday\"] = df.loc[day, \"icu\"]\n",
    "        \n",
    "    return df\n",
    "\n",
    "\n",
    "#### Prediction of ICU patients\n",
    "@widgets.interact(\n",
    "    country=country_selection,\n",
    "    factor=growth_factor,\n",
    "    exponent=growth_exponent,\n",
    "    dates=prediction_beginning,\n",
    ")\n",
    "def icu_prediction(country, factor, exponent, dates):\n",
    "    df = (\n",
    "        total_df[total_df.location == country]\n",
    "        .pipe(main_feature_extraction)\n",
    "        .pipe(feature_renaming)\n",
    "        .pipe(feature_engineering)\n",
    "    )\n",
    "    \n",
    "    start, end = dates\n",
    "    \n",
    "    # for simulation train over whole dataset\n",
    "    X, y = feature_target_split(df)\n",
    "    icu_forecast_model, _ = train_model(X, y, n_splits=3, model=LinearRegression())\n",
    "    \n",
    "    fig, (ax1, ax2) = plt.subplots(ncols=2, figsize=(15, 4))\n",
    "\n",
    "    df[\"new_cases_sim\"] = df[\"new_cases\"].copy()\n",
    "    df[\"icu_sim\"] = df[\"icu\"].copy()\n",
    "\n",
    "    # new cases simulated\n",
    "    x = np.arange(len(df.loc[start:, \"new_cases_sim\"]))\n",
    "    df.loc[start:, \"new_cases_sim\"] = df.loc[start, \"new_cases_sim\"] * factor ** (exponent * x)\n",
    "    \n",
    "    # perform forecasting\n",
    "    df = perform_forecasting(df, icu_forecast_model, start, end)\n",
    "\n",
    "    # plot new cases/new cases simulated\n",
    "    df[:start].new_cases.plot.line(ax=ax1, color=\"k\", label=\"Previous\")\n",
    "    df[start:].new_cases.plot.line(ax=ax1, color=\"0.8\", label=\"Real\")\n",
    "    df[start:end].new_cases_sim.plot.line(ax=ax1, color=\"C3\", label=\"Simulated\")\n",
    "    ax1.set_xlabel(\"Date\")\n",
    "    ax1.set_ylabel(\"New cases\")\n",
    "    ax1.legend()\n",
    "    \n",
    "    # plot icu cases\n",
    "    df[:start].icu.plot.line(ax=ax2, color=\"k\", label=\"Previous\")\n",
    "    df[start:].icu.plot.line(ax=ax2, color=\"0.8\", label=\"Real\")\n",
    "    df[start:end].icu_sim.plot.line(ax=ax2, color=\"C3\", label=\"Predicted\")\n",
    "    ax2.set_xlabel(\"Date\")\n",
    "    ax2.set_ylabel(\"Number of ICUs\")\n",
    "    ax2.legend()"
   ]
  },
  {
   "cell_type": "markdown",
   "metadata": {},
   "source": [
    "If we look at the forecasting, then we see for a simulated case, our model only follows the trend dictated by the number of ICUs of the previous day and can recover an unlikely trend. There are two aspects to consider here:\n",
    "\n",
    "- Training is done on the whole set, and is the model forecasting is not done on the previous data, which can lead to high variance and overfitting\n",
    "- As previously discussed, the number of ICUs in the past is not a good measure to be considered in this study\n",
    "\n",
    "## Conclusion\n",
    "\n",
    "We have shown the first steps to develop a forecasting model for the number of patients in ICUs. We have seen that forecasting based on only the new cases as a feature does not lead to a reasonable $r^2$-score. In future work, we have to examine if maybe going further back in the past in terms of new cases as a feature might lead to better scores. The use of the number of ICUs should be excluded as a feature of the model. It would prevent fitting to this feature."
   ]
  }
 ],
 "metadata": {
  "kernelspec": {
   "display_name": "Python 3",
   "language": "python",
   "name": "python3"
  },
  "language_info": {
   "codemirror_mode": {
    "name": "ipython",
    "version": 3
   },
   "file_extension": ".py",
   "mimetype": "text/x-python",
   "name": "python",
   "nbconvert_exporter": "python",
   "pygments_lexer": "ipython3",
   "version": "3.9.2"
  },
  "widgets": {
   "application/vnd.jupyter.widget-state+json": {
    "state": {
     "004dddbb361d46cc810e515a087c56fe": {
      "model_module": "@jupyter-widgets/base",
      "model_module_version": "1.2.0",
      "model_name": "LayoutModel",
      "state": {}
     },
     "0357ee1c045c4c32a5e37cd6d8d4e78b": {
      "model_module": "@jupyter-widgets/controls",
      "model_module_version": "1.5.0",
      "model_name": "DescriptionStyleModel",
      "state": {
       "description_width": ""
      }
     },
     "055c86b292e943c9ad90bb2dcd73c7eb": {
      "model_module": "@jupyter-widgets/controls",
      "model_module_version": "1.5.0",
      "model_name": "SelectionRangeSliderModel",
      "state": {
       "_model_name": "SelectionRangeSliderModel",
       "_options_labels": [
        "2020-06-02 00:00:00",
        "2020-06-03 00:00:00",
        "2020-06-04 00:00:00",
        "2020-06-05 00:00:00",
        "2020-06-06 00:00:00",
        "2020-06-07 00:00:00",
        "2020-06-08 00:00:00",
        "2020-06-09 00:00:00",
        "2020-06-10 00:00:00",
        "2020-06-11 00:00:00",
        "2020-06-12 00:00:00",
        "2020-06-13 00:00:00",
        "2020-06-14 00:00:00",
        "2020-06-15 00:00:00",
        "2020-06-16 00:00:00",
        "2020-06-17 00:00:00",
        "2020-06-18 00:00:00",
        "2020-06-19 00:00:00",
        "2020-06-20 00:00:00",
        "2020-06-21 00:00:00",
        "2020-06-22 00:00:00",
        "2020-06-23 00:00:00",
        "2020-06-24 00:00:00",
        "2020-06-25 00:00:00",
        "2020-06-26 00:00:00",
        "2020-06-27 00:00:00",
        "2020-06-28 00:00:00",
        "2020-06-29 00:00:00",
        "2020-06-30 00:00:00",
        "2020-07-01 00:00:00",
        "2020-07-02 00:00:00",
        "2020-07-03 00:00:00",
        "2020-07-04 00:00:00",
        "2020-07-05 00:00:00",
        "2020-07-06 00:00:00",
        "2020-07-07 00:00:00",
        "2020-07-08 00:00:00",
        "2020-07-09 00:00:00",
        "2020-07-10 00:00:00",
        "2020-07-11 00:00:00",
        "2020-07-12 00:00:00",
        "2020-07-13 00:00:00",
        "2020-07-14 00:00:00",
        "2020-07-15 00:00:00",
        "2020-07-16 00:00:00",
        "2020-07-17 00:00:00",
        "2020-07-18 00:00:00",
        "2020-07-19 00:00:00",
        "2020-07-20 00:00:00",
        "2020-07-21 00:00:00",
        "2020-07-22 00:00:00",
        "2020-07-23 00:00:00",
        "2020-07-24 00:00:00",
        "2020-07-25 00:00:00",
        "2020-07-26 00:00:00",
        "2020-07-27 00:00:00",
        "2020-07-28 00:00:00",
        "2020-07-29 00:00:00",
        "2020-07-30 00:00:00",
        "2020-07-31 00:00:00",
        "2020-08-01 00:00:00",
        "2020-08-02 00:00:00",
        "2020-08-03 00:00:00",
        "2020-08-04 00:00:00",
        "2020-08-05 00:00:00",
        "2020-08-06 00:00:00",
        "2020-08-07 00:00:00",
        "2020-08-08 00:00:00",
        "2020-08-09 00:00:00",
        "2020-08-10 00:00:00",
        "2020-08-11 00:00:00",
        "2020-08-12 00:00:00",
        "2020-08-13 00:00:00",
        "2020-08-14 00:00:00",
        "2020-08-15 00:00:00",
        "2020-08-16 00:00:00",
        "2020-08-17 00:00:00",
        "2020-08-18 00:00:00",
        "2020-08-19 00:00:00",
        "2020-08-20 00:00:00",
        "2020-08-21 00:00:00",
        "2020-08-22 00:00:00",
        "2020-08-23 00:00:00",
        "2020-08-24 00:00:00",
        "2020-08-25 00:00:00",
        "2020-08-26 00:00:00",
        "2020-08-27 00:00:00",
        "2020-08-28 00:00:00",
        "2020-08-29 00:00:00",
        "2020-08-30 00:00:00",
        "2020-08-31 00:00:00",
        "2020-09-01 00:00:00",
        "2020-09-02 00:00:00",
        "2020-09-03 00:00:00",
        "2020-09-04 00:00:00",
        "2020-09-05 00:00:00",
        "2020-09-06 00:00:00",
        "2020-09-07 00:00:00",
        "2020-09-08 00:00:00",
        "2020-09-09 00:00:00",
        "2020-09-10 00:00:00",
        "2020-09-11 00:00:00",
        "2020-09-12 00:00:00",
        "2020-09-13 00:00:00",
        "2020-09-14 00:00:00",
        "2020-09-15 00:00:00",
        "2020-09-16 00:00:00",
        "2020-09-17 00:00:00",
        "2020-09-18 00:00:00",
        "2020-09-19 00:00:00",
        "2020-09-20 00:00:00",
        "2020-09-21 00:00:00",
        "2020-09-22 00:00:00",
        "2020-09-23 00:00:00",
        "2020-09-24 00:00:00",
        "2020-09-25 00:00:00",
        "2020-09-26 00:00:00",
        "2020-09-27 00:00:00",
        "2020-09-28 00:00:00",
        "2020-09-29 00:00:00",
        "2020-09-30 00:00:00",
        "2020-10-01 00:00:00",
        "2020-10-02 00:00:00",
        "2020-10-03 00:00:00",
        "2020-10-04 00:00:00",
        "2020-10-05 00:00:00",
        "2020-10-06 00:00:00",
        "2020-10-07 00:00:00",
        "2020-10-08 00:00:00",
        "2020-10-09 00:00:00",
        "2020-10-10 00:00:00",
        "2020-10-11 00:00:00",
        "2020-10-12 00:00:00",
        "2020-10-13 00:00:00",
        "2020-10-14 00:00:00",
        "2020-10-15 00:00:00",
        "2020-10-16 00:00:00",
        "2020-10-17 00:00:00",
        "2020-10-18 00:00:00",
        "2020-10-19 00:00:00",
        "2020-10-20 00:00:00",
        "2020-10-21 00:00:00",
        "2020-10-22 00:00:00",
        "2020-10-23 00:00:00",
        "2020-10-24 00:00:00",
        "2020-10-25 00:00:00",
        "2020-10-26 00:00:00",
        "2020-10-27 00:00:00",
        "2020-10-28 00:00:00",
        "2020-10-29 00:00:00",
        "2020-10-30 00:00:00",
        "2020-10-31 00:00:00",
        "2020-11-01 00:00:00",
        "2020-11-02 00:00:00",
        "2020-11-03 00:00:00",
        "2020-11-04 00:00:00",
        "2020-11-05 00:00:00",
        "2020-11-06 00:00:00",
        "2020-11-07 00:00:00",
        "2020-11-08 00:00:00",
        "2020-11-09 00:00:00",
        "2020-11-10 00:00:00",
        "2020-11-11 00:00:00",
        "2020-11-12 00:00:00",
        "2020-11-13 00:00:00",
        "2020-11-14 00:00:00",
        "2020-11-15 00:00:00",
        "2020-11-16 00:00:00",
        "2020-11-17 00:00:00",
        "2020-11-18 00:00:00",
        "2020-11-19 00:00:00",
        "2020-11-20 00:00:00",
        "2020-11-21 00:00:00",
        "2020-11-22 00:00:00",
        "2020-11-23 00:00:00",
        "2020-11-24 00:00:00",
        "2020-11-25 00:00:00",
        "2020-11-26 00:00:00",
        "2020-11-27 00:00:00",
        "2020-11-28 00:00:00",
        "2020-11-29 00:00:00",
        "2020-11-30 00:00:00",
        "2020-12-01 00:00:00",
        "2020-12-02 00:00:00",
        "2020-12-03 00:00:00",
        "2020-12-04 00:00:00",
        "2020-12-05 00:00:00",
        "2020-12-06 00:00:00",
        "2020-12-07 00:00:00",
        "2020-12-08 00:00:00",
        "2020-12-09 00:00:00",
        "2020-12-10 00:00:00",
        "2020-12-11 00:00:00",
        "2020-12-12 00:00:00",
        "2020-12-13 00:00:00",
        "2020-12-14 00:00:00",
        "2020-12-15 00:00:00",
        "2020-12-16 00:00:00",
        "2020-12-17 00:00:00",
        "2020-12-18 00:00:00",
        "2020-12-19 00:00:00",
        "2020-12-20 00:00:00",
        "2020-12-21 00:00:00",
        "2020-12-22 00:00:00",
        "2020-12-23 00:00:00",
        "2020-12-24 00:00:00",
        "2020-12-25 00:00:00",
        "2020-12-26 00:00:00",
        "2020-12-27 00:00:00",
        "2020-12-28 00:00:00",
        "2020-12-29 00:00:00",
        "2020-12-30 00:00:00",
        "2020-12-31 00:00:00",
        "2021-01-01 00:00:00",
        "2021-01-02 00:00:00",
        "2021-01-03 00:00:00",
        "2021-01-04 00:00:00",
        "2021-01-05 00:00:00",
        "2021-01-06 00:00:00",
        "2021-01-07 00:00:00",
        "2021-01-08 00:00:00",
        "2021-01-09 00:00:00",
        "2021-01-10 00:00:00",
        "2021-01-11 00:00:00",
        "2021-01-12 00:00:00",
        "2021-01-13 00:00:00",
        "2021-01-14 00:00:00",
        "2021-01-15 00:00:00",
        "2021-01-16 00:00:00",
        "2021-01-17 00:00:00",
        "2021-01-18 00:00:00",
        "2021-01-19 00:00:00",
        "2021-01-20 00:00:00",
        "2021-01-21 00:00:00",
        "2021-01-22 00:00:00",
        "2021-01-23 00:00:00",
        "2021-01-24 00:00:00",
        "2021-01-25 00:00:00",
        "2021-01-26 00:00:00",
        "2021-01-27 00:00:00",
        "2021-01-28 00:00:00",
        "2021-01-29 00:00:00",
        "2021-01-30 00:00:00",
        "2021-01-31 00:00:00"
       ],
       "_view_name": "SelectionRangeSliderView",
       "description": "Date",
       "index": [
        0,
        200
       ],
       "layout": "IPY_MODEL_562649c307994aedbd06ee1d7c00233b",
       "readout": false,
       "style": "IPY_MODEL_42832f0d839947ab9994f2d19d0533d6"
      }
     },
     "0749da38c74141adb0e6dc7d7086e003": {
      "model_module": "@jupyter-widgets/controls",
      "model_module_version": "1.5.0",
      "model_name": "SliderStyleModel",
      "state": {
       "description_width": ""
      }
     },
     "08bd6a46f7e24cc8a1e4394f2d51285c": {
      "model_module": "@jupyter-widgets/controls",
      "model_module_version": "1.5.0",
      "model_name": "IntSliderModel",
      "state": {
       "description": "CV splits",
       "layout": "IPY_MODEL_e993098e3e7547da826680be1d11f378",
       "max": 24,
       "min": 2,
       "style": "IPY_MODEL_0749da38c74141adb0e6dc7d7086e003",
       "value": 5
      }
     },
     "0aa70405d4b2463ca25d564ba69427d1": {
      "model_module": "@jupyter-widgets/base",
      "model_module_version": "1.2.0",
      "model_name": "LayoutModel",
      "state": {}
     },
     "0b405e9071f64e478383faf26f64cbae": {
      "model_module": "@jupyter-widgets/controls",
      "model_module_version": "1.5.0",
      "model_name": "DropdownModel",
      "state": {
       "_options_labels": [
        "Austria",
        "Belgium",
        "Bulgaria",
        "Canada",
        "Cyprus",
        "Czechia",
        "Estonia",
        "France",
        "Germany",
        "Italy",
        "Luxembourg",
        "Netherlands",
        "Portugal",
        "Sweden",
        "United Kingdom",
        "United States"
       ],
       "description": "Country",
       "index": 0,
       "layout": "IPY_MODEL_87b81dbf85674ec7bff8fa9f98313f6b",
       "style": "IPY_MODEL_e2bdc5c754c84f478e69dde14aba4c86"
      }
     },
     "10d0c7acf8174c8b80f85734ecf51e67": {
      "model_module": "@jupyter-widgets/controls",
      "model_module_version": "1.5.0",
      "model_name": "DropdownModel",
      "state": {
       "_options_labels": [
        "Austria",
        "Belgium",
        "Bulgaria",
        "Canada",
        "Cyprus",
        "Czechia",
        "Denmark",
        "Estonia",
        "Finland",
        "France",
        "Germany",
        "Iceland",
        "Ireland",
        "Israel",
        "Italy",
        "Luxembourg",
        "Netherlands",
        "Portugal",
        "Romania",
        "Slovenia",
        "Spain",
        "Sweden",
        "United Kingdom",
        "United States"
       ],
       "description": "country",
       "index": 0,
       "layout": "IPY_MODEL_715ea265044e48dd875c3d0538467745",
       "style": "IPY_MODEL_8080dc666c2e49718c05f79d665ec218"
      }
     },
     "113c51a280154765b8832984e5324a25": {
      "model_module": "@jupyter-widgets/base",
      "model_module_version": "1.2.0",
      "model_name": "LayoutModel",
      "state": {}
     },
     "149a12de968e4fa9a74672b30a926aaf": {
      "model_module": "@jupyter-widgets/controls",
      "model_module_version": "1.5.0",
      "model_name": "IntSliderModel",
      "state": {
       "description": "CV splits",
       "layout": "IPY_MODEL_b07fe92b7d964c0a9b2409c67d516868",
       "max": 24,
       "min": 2,
       "style": "IPY_MODEL_9dd370b83f1c4dad981b8763ea2b090e",
       "value": 5
      }
     },
     "16323bc759f146b79de05c67f0b3fb23": {
      "model_module": "@jupyter-widgets/base",
      "model_module_version": "1.2.0",
      "model_name": "LayoutModel",
      "state": {}
     },
     "197c52cb6ec649dd8b2559b6f5b43ea2": {
      "model_module": "@jupyter-widgets/controls",
      "model_module_version": "1.5.0",
      "model_name": "IntSliderModel",
      "state": {
       "description": "CV splits",
       "layout": "IPY_MODEL_a37a61469f174136b3ef6e9319e8c3cc",
       "max": 24,
       "min": 2,
       "style": "IPY_MODEL_b96043ea868043b9aa76b4cf063aa7a0",
       "value": 5
      }
     },
     "1a4e01307c144d43a7fd5e177027c0c3": {
      "model_module": "@jupyter-widgets/base",
      "model_module_version": "1.2.0",
      "model_name": "LayoutModel",
      "state": {}
     },
     "1de33634f01742fd869f12d1c964d134": {
      "model_module": "@jupyter-widgets/controls",
      "model_module_version": "1.5.0",
      "model_name": "DropdownModel",
      "state": {
       "_options_labels": [
        "Austria",
        "Belgium",
        "Bulgaria",
        "Canada",
        "Cyprus",
        "Czechia",
        "Denmark",
        "Estonia",
        "Finland",
        "France",
        "Germany",
        "Iceland",
        "Ireland",
        "Israel",
        "Italy",
        "Luxembourg",
        "Netherlands",
        "Portugal",
        "Romania",
        "Slovenia",
        "Spain",
        "Sweden",
        "United Kingdom",
        "United States"
       ],
       "description": "Country",
       "index": 0,
       "layout": "IPY_MODEL_a041f1939b36408cac2741ca672b40ba",
       "style": "IPY_MODEL_b43d0b8a974e46d7bfd7145458a18a10"
      }
     },
     "1ecb15dc6006413098f7e2bf4ad00cea": {
      "model_module": "@jupyter-widgets/controls",
      "model_module_version": "1.5.0",
      "model_name": "FloatSliderModel",
      "state": {
       "description": "Exponent",
       "layout": "IPY_MODEL_26741d2260564d80bb204adcdca36461",
       "max": 3,
       "step": 0.1,
       "style": "IPY_MODEL_9d6c50fa3e9d4c6fa7542c345926e927",
       "value": 3
      }
     },
     "1ed2ec3276474d8d958a73d98059480b": {
      "model_module": "@jupyter-widgets/controls",
      "model_module_version": "1.5.0",
      "model_name": "DropdownModel",
      "state": {
       "_options_labels": [
        "Austria",
        "Belgium",
        "Bulgaria",
        "Canada",
        "Cyprus",
        "Czechia",
        "Denmark",
        "Estonia",
        "Finland",
        "France",
        "Germany",
        "Iceland",
        "Ireland",
        "Israel",
        "Italy",
        "Luxembourg",
        "Netherlands",
        "Portugal",
        "Romania",
        "Slovenia",
        "Spain",
        "Sweden",
        "United Kingdom",
        "United States"
       ],
       "description": "Country",
       "index": 0,
       "layout": "IPY_MODEL_16323bc759f146b79de05c67f0b3fb23",
       "style": "IPY_MODEL_d1dbe5fc7dca47e69b3232a2523d4339"
      }
     },
     "20624159048d4ff49ab846bb398e5e72": {
      "model_module": "@jupyter-widgets/controls",
      "model_module_version": "1.5.0",
      "model_name": "DropdownModel",
      "state": {
       "_options_labels": [
        "Austria",
        "Belgium",
        "Bulgaria",
        "Canada",
        "Cyprus",
        "Czechia",
        "Denmark",
        "Estonia",
        "Finland",
        "France",
        "Germany",
        "Iceland",
        "Ireland",
        "Israel",
        "Italy",
        "Luxembourg",
        "Netherlands",
        "Portugal",
        "Romania",
        "Slovenia",
        "Spain",
        "Sweden",
        "United Kingdom",
        "United States"
       ],
       "description": "country",
       "index": 0,
       "layout": "IPY_MODEL_3610b3342b9045d0b0c83fec77dc851d",
       "style": "IPY_MODEL_9c353f7d3c534ea6bf4bb125f26d11bd"
      }
     },
     "26741d2260564d80bb204adcdca36461": {
      "model_module": "@jupyter-widgets/base",
      "model_module_version": "1.2.0",
      "model_name": "LayoutModel",
      "state": {}
     },
     "2af3cac9c3cc48eb8207211efe5f5948": {
      "model_module": "@jupyter-widgets/controls",
      "model_module_version": "1.5.0",
      "model_name": "DropdownModel",
      "state": {
       "_options_labels": [
        "Austria",
        "Belgium",
        "Bulgaria",
        "Canada",
        "Cyprus",
        "Czechia",
        "Denmark",
        "Estonia",
        "Finland",
        "France",
        "Germany",
        "Iceland",
        "Ireland",
        "Israel",
        "Italy",
        "Luxembourg",
        "Netherlands",
        "Portugal",
        "Romania",
        "Slovenia",
        "Spain",
        "Sweden",
        "United Kingdom",
        "United States"
       ],
       "description": "Country",
       "index": 0,
       "layout": "IPY_MODEL_ee28ef51d816436bb927f59d33d8b6ae",
       "style": "IPY_MODEL_cab5c3f0aeaa4494bc75de56158acc8e"
      }
     },
     "30d28921438b49bda0e014f0cf47565a": {
      "model_module": "@jupyter-widgets/output",
      "model_module_version": "1.0.0",
      "model_name": "OutputModel",
      "state": {
       "layout": "IPY_MODEL_e23d0a89e7394781b3c570257042a9d5",
       "outputs": [
        {
         "data": {
          "image/png": "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\n",
          "text/plain": "<Figure size 1008x288 with 2 Axes>"
         },
         "metadata": {
          "needs_background": "light"
         },
         "output_type": "display_data"
        }
       ]
      }
     },
     "317504252e444c6b8bbaf4935c933cd9": {
      "model_module": "@jupyter-widgets/controls",
      "model_module_version": "1.5.0",
      "model_name": "IntSliderModel",
      "state": {
       "description": "CV splits",
       "layout": "IPY_MODEL_e5367192a9de4982a2552d53bf586cc7",
       "max": 24,
       "min": 2,
       "style": "IPY_MODEL_7362e02501a44f488cbb936365ec086b",
       "value": 5
      }
     },
     "327df14f122b44c49b5ca190fb8eeaaa": {
      "model_module": "@jupyter-widgets/controls",
      "model_module_version": "1.5.0",
      "model_name": "IntSliderModel",
      "state": {
       "description": "CV splits",
       "layout": "IPY_MODEL_8256f29b48bf4186acd68621d4653320",
       "max": 24,
       "min": 2,
       "style": "IPY_MODEL_3a5f2821ae854ad9a55766fa75b9a513",
       "value": 5
      }
     },
     "33d55aaf446f48b3b0f215ba69d2ccac": {
      "model_module": "@jupyter-widgets/controls",
      "model_module_version": "1.5.0",
      "model_name": "VBoxModel",
      "state": {
       "_dom_classes": [
        "widget-interact"
       ],
       "children": [
        "IPY_MODEL_3dc7db7c8c2040c6ac0c683301be3994",
        "IPY_MODEL_7d04c3178b9a425c86d77a0dece69f71",
        "IPY_MODEL_e0e05def9ae7431d8e06a531c854f1b3"
       ],
       "layout": "IPY_MODEL_b77350c8db9540b59bb7e310c5be84f8"
      }
     },
     "3519f95b71394cbcb8f67257ca17449d": {
      "model_module": "@jupyter-widgets/base",
      "model_module_version": "1.2.0",
      "model_name": "LayoutModel",
      "state": {}
     },
     "3610b3342b9045d0b0c83fec77dc851d": {
      "model_module": "@jupyter-widgets/base",
      "model_module_version": "1.2.0",
      "model_name": "LayoutModel",
      "state": {}
     },
     "3a5f2821ae854ad9a55766fa75b9a513": {
      "model_module": "@jupyter-widgets/controls",
      "model_module_version": "1.5.0",
      "model_name": "SliderStyleModel",
      "state": {
       "description_width": ""
      }
     },
     "3dc7db7c8c2040c6ac0c683301be3994": {
      "model_module": "@jupyter-widgets/controls",
      "model_module_version": "1.5.0",
      "model_name": "DropdownModel",
      "state": {
       "_options_labels": [
        "Austria",
        "Belgium",
        "Bulgaria",
        "Canada",
        "Cyprus",
        "Czechia",
        "Denmark",
        "Estonia",
        "Finland",
        "France",
        "Germany",
        "Iceland",
        "Ireland",
        "Israel",
        "Italy",
        "Luxembourg",
        "Netherlands",
        "Portugal",
        "Romania",
        "Slovenia",
        "Spain",
        "Sweden",
        "United Kingdom",
        "United States"
       ],
       "description": "Country",
       "index": 0,
       "layout": "IPY_MODEL_b61073403b05405692a22b3c657470c2",
       "style": "IPY_MODEL_0357ee1c045c4c32a5e37cd6d8d4e78b"
      }
     },
     "4197e36026294ae38858ada2d7cd4193": {
      "model_module": "@jupyter-widgets/controls",
      "model_module_version": "1.5.0",
      "model_name": "DropdownModel",
      "state": {
       "_options_labels": [
        "Austria",
        "Belgium",
        "Bulgaria",
        "Canada",
        "Cyprus",
        "Czechia",
        "Denmark",
        "Estonia",
        "Finland",
        "France",
        "Germany",
        "Iceland",
        "Ireland",
        "Israel",
        "Italy",
        "Luxembourg",
        "Netherlands",
        "Portugal",
        "Romania",
        "Slovenia",
        "Spain",
        "Sweden",
        "United Kingdom",
        "United States"
       ],
       "description": "Country",
       "index": 0,
       "layout": "IPY_MODEL_ac99e6575ff04ef1a0b000627e7ff292",
       "style": "IPY_MODEL_85bb2e7abcb14fa2b804dfba1876ad93"
      }
     },
     "42832f0d839947ab9994f2d19d0533d6": {
      "model_module": "@jupyter-widgets/controls",
      "model_module_version": "1.5.0",
      "model_name": "DescriptionStyleModel",
      "state": {
       "description_width": ""
      }
     },
     "434c18352bce4db6a24ca869e532ce10": {
      "model_module": "@jupyter-widgets/base",
      "model_module_version": "1.2.0",
      "model_name": "LayoutModel",
      "state": {}
     },
     "44fb10af49b14199a2bebe6d6faa28d7": {
      "model_module": "@jupyter-widgets/controls",
      "model_module_version": "1.5.0",
      "model_name": "DescriptionStyleModel",
      "state": {
       "description_width": ""
      }
     },
     "45a122ba659d434b84ce573389296e79": {
      "model_module": "@jupyter-widgets/controls",
      "model_module_version": "1.5.0",
      "model_name": "SliderStyleModel",
      "state": {
       "description_width": ""
      }
     },
     "46774841041d473f95909226f75a6352": {
      "model_module": "@jupyter-widgets/base",
      "model_module_version": "1.2.0",
      "model_name": "LayoutModel",
      "state": {}
     },
     "46cb7e085ce74942b039dee7f6313e28": {
      "model_module": "@jupyter-widgets/controls",
      "model_module_version": "1.5.0",
      "model_name": "DescriptionStyleModel",
      "state": {
       "description_width": ""
      }
     },
     "48eab0f3d0cd4b22a79e69e6ab478c9a": {
      "model_module": "@jupyter-widgets/controls",
      "model_module_version": "1.5.0",
      "model_name": "VBoxModel",
      "state": {
       "_dom_classes": [
        "widget-interact"
       ],
       "children": [
        "IPY_MODEL_4197e36026294ae38858ada2d7cd4193",
        "IPY_MODEL_317504252e444c6b8bbaf4935c933cd9",
        "IPY_MODEL_d6b85e2650144794b6fd7d77fb70c793"
       ],
       "layout": "IPY_MODEL_434c18352bce4db6a24ca869e532ce10"
      }
     },
     "4d77215ff3064ada95204bb87adc54b3": {
      "model_module": "@jupyter-widgets/base",
      "model_module_version": "1.2.0",
      "model_name": "LayoutModel",
      "state": {}
     },
     "4deb06acbcea45398139c6c9177f8f94": {
      "model_module": "@jupyter-widgets/controls",
      "model_module_version": "1.5.0",
      "model_name": "VBoxModel",
      "state": {
       "_dom_classes": [
        "widget-interact"
       ],
       "children": [
        "IPY_MODEL_2af3cac9c3cc48eb8207211efe5f5948",
        "IPY_MODEL_149a12de968e4fa9a74672b30a926aaf",
        "IPY_MODEL_e83f62da3616437c81e470da36338ebb"
       ],
       "layout": "IPY_MODEL_5765cbf5ba7749d58c280e0c103f83cc"
      }
     },
     "5203134d6ec14359b05f11c0990e6277": {
      "model_module": "@jupyter-widgets/base",
      "model_module_version": "1.2.0",
      "model_name": "LayoutModel",
      "state": {}
     },
     "56027d661bc0438aa3e4b7a6a8d158db": {
      "model_module": "@jupyter-widgets/base",
      "model_module_version": "1.2.0",
      "model_name": "LayoutModel",
      "state": {}
     },
     "562649c307994aedbd06ee1d7c00233b": {
      "model_module": "@jupyter-widgets/base",
      "model_module_version": "1.2.0",
      "model_name": "LayoutModel",
      "state": {}
     },
     "57177afbae8c494ea9035e1da82bbc39": {
      "model_module": "@jupyter-widgets/base",
      "model_module_version": "1.2.0",
      "model_name": "LayoutModel",
      "state": {}
     },
     "5765cbf5ba7749d58c280e0c103f83cc": {
      "model_module": "@jupyter-widgets/base",
      "model_module_version": "1.2.0",
      "model_name": "LayoutModel",
      "state": {}
     },
     "57fff48ee91a473eae8fc3c45ddfef7c": {
      "model_module": "@jupyter-widgets/base",
      "model_module_version": "1.2.0",
      "model_name": "LayoutModel",
      "state": {}
     },
     "584a0047b95c4e39b445582f177e41df": {
      "model_module": "@jupyter-widgets/base",
      "model_module_version": "1.2.0",
      "model_name": "LayoutModel",
      "state": {}
     },
     "60b30ff5861e43958ad935cf62ab5dbb": {
      "model_module": "@jupyter-widgets/controls",
      "model_module_version": "1.5.0",
      "model_name": "VBoxModel",
      "state": {
       "_dom_classes": [
        "widget-interact"
       ],
       "children": [
        "IPY_MODEL_80523da82df14683bdd5f14fa92d8de5",
        "IPY_MODEL_d3945f67446943328a583eddc3fab04c",
        "IPY_MODEL_84cb03af6739468093af51a5b6fab301"
       ],
       "layout": "IPY_MODEL_cd15be0321574ecf89db34b8d8d1d7e1"
      }
     },
     "621e6860f3ed4b6182fbcd6840a3add6": {
      "model_module": "@jupyter-widgets/base",
      "model_module_version": "1.2.0",
      "model_name": "LayoutModel",
      "state": {}
     },
     "6704362cebac499c978a43699ee36619": {
      "model_module": "@jupyter-widgets/base",
      "model_module_version": "1.2.0",
      "model_name": "LayoutModel",
      "state": {}
     },
     "6d45ea0432074706a1293375888dfc5e": {
      "model_module": "@jupyter-widgets/base",
      "model_module_version": "1.2.0",
      "model_name": "LayoutModel",
      "state": {}
     },
     "6e7f3c8ef5574b9b848dd3693d80235c": {
      "model_module": "@jupyter-widgets/base",
      "model_module_version": "1.2.0",
      "model_name": "LayoutModel",
      "state": {}
     },
     "6fc493fffff34d67912e9ac325862cd5": {
      "model_module": "@jupyter-widgets/base",
      "model_module_version": "1.2.0",
      "model_name": "LayoutModel",
      "state": {}
     },
     "70c1191c33644fe09c21e7385a15b1d0": {
      "model_module": "@jupyter-widgets/base",
      "model_module_version": "1.2.0",
      "model_name": "LayoutModel",
      "state": {}
     },
     "715ea265044e48dd875c3d0538467745": {
      "model_module": "@jupyter-widgets/base",
      "model_module_version": "1.2.0",
      "model_name": "LayoutModel",
      "state": {}
     },
     "7362e02501a44f488cbb936365ec086b": {
      "model_module": "@jupyter-widgets/controls",
      "model_module_version": "1.5.0",
      "model_name": "SliderStyleModel",
      "state": {
       "description_width": ""
      }
     },
     "7763aade5a684af69b58dcb3701b6074": {
      "model_module": "@jupyter-widgets/output",
      "model_module_version": "1.0.0",
      "model_name": "OutputModel",
      "state": {
       "layout": "IPY_MODEL_876ba34030d34e0f843da05910c4210f",
       "outputs": [
        {
         "data": {
          "image/png": "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\n",
          "text/plain": "<Figure size 1008x288 with 2 Axes>"
         },
         "metadata": {
          "needs_background": "light"
         },
         "output_type": "display_data"
        }
       ]
      }
     },
     "7bf0e2c23ce54cfaa068d9d9df199de9": {
      "model_module": "@jupyter-widgets/base",
      "model_module_version": "1.2.0",
      "model_name": "LayoutModel",
      "state": {}
     },
     "7d04c3178b9a425c86d77a0dece69f71": {
      "model_module": "@jupyter-widgets/controls",
      "model_module_version": "1.5.0",
      "model_name": "IntSliderModel",
      "state": {
       "description": "CV splits",
       "layout": "IPY_MODEL_584a0047b95c4e39b445582f177e41df",
       "max": 24,
       "min": 2,
       "style": "IPY_MODEL_45a122ba659d434b84ce573389296e79",
       "value": 5
      }
     },
     "80523da82df14683bdd5f14fa92d8de5": {
      "model_module": "@jupyter-widgets/controls",
      "model_module_version": "1.5.0",
      "model_name": "DropdownModel",
      "state": {
       "_options_labels": [
        "Austria",
        "Belgium",
        "Bulgaria",
        "Canada",
        "Cyprus",
        "Czechia",
        "Denmark",
        "Estonia",
        "Finland",
        "France",
        "Germany",
        "Iceland",
        "Ireland",
        "Israel",
        "Italy",
        "Luxembourg",
        "Netherlands",
        "Portugal",
        "Romania",
        "Slovenia",
        "Spain",
        "Sweden",
        "United Kingdom",
        "United States"
       ],
       "description": "Country",
       "index": 0,
       "layout": "IPY_MODEL_935fe1a39df9441482e38b16fc90e52a",
       "style": "IPY_MODEL_e285307455b44b71901ecd6e47bcdda5"
      }
     },
     "8080dc666c2e49718c05f79d665ec218": {
      "model_module": "@jupyter-widgets/controls",
      "model_module_version": "1.5.0",
      "model_name": "DescriptionStyleModel",
      "state": {
       "description_width": ""
      }
     },
     "82216b8bab6649528506fa627a19cafd": {
      "model_module": "@jupyter-widgets/base",
      "model_module_version": "1.2.0",
      "model_name": "LayoutModel",
      "state": {}
     },
     "8256f29b48bf4186acd68621d4653320": {
      "model_module": "@jupyter-widgets/base",
      "model_module_version": "1.2.0",
      "model_name": "LayoutModel",
      "state": {}
     },
     "8405f98403c0429b94f85a41315debf4": {
      "model_module": "@jupyter-widgets/controls",
      "model_module_version": "1.5.0",
      "model_name": "VBoxModel",
      "state": {
       "_dom_classes": [
        "widget-interact"
       ],
       "children": [
        "IPY_MODEL_be9b262e436f48e3a646da1fa923ca06",
        "IPY_MODEL_327df14f122b44c49b5ca190fb8eeaaa",
        "IPY_MODEL_30d28921438b49bda0e014f0cf47565a"
       ],
       "layout": "IPY_MODEL_57fff48ee91a473eae8fc3c45ddfef7c"
      }
     },
     "84cb03af6739468093af51a5b6fab301": {
      "model_module": "@jupyter-widgets/output",
      "model_module_version": "1.0.0",
      "model_name": "OutputModel",
      "state": {
       "layout": "IPY_MODEL_a0506bee675040b5bac75d57d7d2a7d4",
       "outputs": [
        {
         "data": {
          "image/png": "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\n",
          "text/plain": "<Figure size 1008x288 with 2 Axes>"
         },
         "metadata": {
          "needs_background": "light"
         },
         "output_type": "display_data"
        }
       ]
      }
     },
     "8537003efa884aca9be73e70c1e3a0a5": {
      "model_module": "@jupyter-widgets/base",
      "model_module_version": "1.2.0",
      "model_name": "LayoutModel",
      "state": {}
     },
     "85bb2e7abcb14fa2b804dfba1876ad93": {
      "model_module": "@jupyter-widgets/controls",
      "model_module_version": "1.5.0",
      "model_name": "DescriptionStyleModel",
      "state": {
       "description_width": ""
      }
     },
     "876ba34030d34e0f843da05910c4210f": {
      "model_module": "@jupyter-widgets/base",
      "model_module_version": "1.2.0",
      "model_name": "LayoutModel",
      "state": {}
     },
     "87b81dbf85674ec7bff8fa9f98313f6b": {
      "model_module": "@jupyter-widgets/base",
      "model_module_version": "1.2.0",
      "model_name": "LayoutModel",
      "state": {}
     },
     "8b0c9b439bbb477cbd8a3f0a5d606673": {
      "model_module": "@jupyter-widgets/output",
      "model_module_version": "1.0.0",
      "model_name": "OutputModel",
      "state": {
       "layout": "IPY_MODEL_004dddbb361d46cc810e515a087c56fe",
       "outputs": [
        {
         "data": {
          "image/png": "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\n",
          "text/plain": "<Figure size 1008x288 with 2 Axes>"
         },
         "metadata": {
          "needs_background": "light"
         },
         "output_type": "display_data"
        }
       ]
      }
     },
     "91a66c30d2604d7eb99bfc45f7d4d946": {
      "model_module": "@jupyter-widgets/controls",
      "model_module_version": "1.5.0",
      "model_name": "SelectionSliderModel",
      "state": {
       "_options_labels": [
        "0.9502472623156635",
        "0.9502502398680485",
        "0.9502532531853237",
        "0.950256302694874",
        "0.9502593888291379",
        "0.950262512025666",
        "0.9502656727271804",
        "0.9502688713816344",
        "0.9502721084422724",
        "0.9502753843676919",
        "0.9502786996219041",
        "0.9502820546743977",
        "0.9502854500002007",
        "0.9502888860799449",
        "0.9502923633999304",
        "0.9502958824521907",
        "0.9502994437345583",
        "0.9503030477507319",
        "0.9503066950103434",
        "0.950310386029026",
        "0.9503141213284829",
        "0.9503179014365574",
        "0.9503217268873024",
        "0.9503255982210524",
        "0.9503295159844944",
        "0.9503334807307413",
        "0.9503374930194046",
        "0.9503415534166691",
        "0.9503456624953678",
        "0.9503498208350571",
        "0.9503540290220946",
        "0.9503582876497149",
        "0.950362597318109",
        "0.950366958634503",
        "0.9503713722132379",
        "0.9503758386758501",
        "0.9503803586511534",
        "0.9503849327753217",
        "0.9503895616919709",
        "0.9503942460522449",
        "0.9503989865148994",
        "0.9504037837463881",
        "0.9504086384209498",
        "0.9504135512206962",
        "0.9504185228356997",
        "0.9504235539640843",
        "0.9504286453121149",
        "0.9504337975942895",
        "0.950439011533431",
        "0.9504442878607812",
        "0.9504496273160941",
        "0.9504550306477322",
        "0.9504604986127618",
        "0.950466031977051",
        "0.9504716315153672",
        "0.9504772980114763",
        "0.9504830322582435",
        "0.9504888350577336",
        "0.9504947072213141",
        "0.9505006495697577",
        "0.9505066629333466",
        "0.9505127481519782",
        "0.950518906075271",
        "0.9505251375626724",
        "0.9505314434835667",
        "0.9505378247173848",
        "0.9505442821537149",
        "0.9505508166924139",
        "0.9505574292437204",
        "0.9505641207283684",
        "0.9505708920777023",
        "0.9505777442337928",
        "0.9505846781495546",
        "0.950591694788864",
        "0.9505987951266787",
        "0.9506059801491583",
        "0.9506132508537866",
        "0.950620608249493",
        "0.9506280533567782",
        "0.9506355872078384",
        "0.9506432108466918",
        "0.9506509253293064",
        "0.9506587317237284",
        "0.9506666311102123",
        "0.9506746245813523",
        "0.9506827132422138",
        "0.9506908982104676",
        "0.9506991806165245",
        "0.9507075616036711",
        "0.950716042328207",
        "0.9507246239595831",
        "0.9507333076805417",
        "0.9507420946872566",
        "0.9507509861894758",
        "0.9507599834106648",
        "0.9507690875881508",
        "0.950778299973269",
        "0.9507876218315097",
        "0.950797054442666",
        "0.9508065991009846",
        "0.9508162571153159",
        "0.9508260298092662",
        "0.9508359185213517",
        "0.9508459246051526",
        "0.9508560494294697",
        "0.9508662943784812",
        "0.950876660851902",
        "0.9508871502651428",
        "0.9508977640494717",
        "0.9509085036521765",
        "0.9509193705367288",
        "0.9509303661829486",
        "0.9509414920871708",
        "0.9509527497624131",
        "0.9509641407385443",
        "0.9509756665624551",
        "0.9509873287982293",
        "0.9509991290273168",
        "0.9510110688487072",
        "0.9510231498791056",
        "0.9510353737531091",
        "0.9510477421233846",
        "0.9510602566608481",
        "0.951072919054845",
        "0.9510857310133318",
        "0.9510986942630593",
        "0.9511118105497564",
        "0.951125081638316",
        "0.9511385093129813",
        "0.951152095377534",
        "0.9511658416554832",
        "0.9511797499902562",
        "0.9511938222453896",
        "0.9512080603047222",
        "0.9512224660725889",
        "0.9512370414740162",
        "0.9512517884549182",
        "0.951266708982294",
        "0.9512818050444264",
        "0.9512970786510817",
        "0.9513125318337102",
        "0.9513281666456488",
        "0.9513439851623231",
        "0.9513599894814523",
        "0.9513761817232539",
        "0.95139256403065",
        "0.9514091385694744",
        "0.951425907528681",
        "0.9514428731205522",
        "0.9514600375809104",
        "0.9514774031693273",
        "0.9514949721693372",
        "0.9515127468886493",
        "0.951530729659361",
        "0.9515489228381733",
        "0.9515673288066048",
        "0.9515859499712092",
        "0.951604788763791",
        "0.9516238476416236",
        "0.9516431290876672",
        "0.9516626356107881",
        "0.9516823697459776",
        "0.9517023340545725",
        "0.9517225311244754",
        "0.9517429635703758",
        "0.9517636340339722",
        "0.9517845451841934",
        "0.9518056997174211",
        "0.9518271003577129",
        "0.951848749857025",
        "0.9518706509954354",
        "0.951892806581368",
        "0.9519152194518153",
        "0.9519378924725629",
        "0.9519608285384129",
        "0.9519840305734077",
        "0.952007501531054",
        "0.9520312443945461",
        "0.9520552621769894",
        "0.9520795579216239",
        "0.9521041347020468",
        "0.952128995622435",
        "0.9521541438177676",
        "0.9521795824540473",
        "0.9522053147285217",
        "0.9522313438699032",
        "0.9522576731385896",
        "0.9522843058268822",
        "0.9523112452592047",
        "0.9523384947923199",
        "0.9523660578155461",
        "0.9523939377509717",
        "0.9524221380536697",
        "0.9524506622119101",
        "0.9524795137473708",
        "0.952508696215348",
        "0.9525382132049635",
        "0.9525680683393722",
        "0.9525982652759668",
        "0.9526288077065801",
        "0.9526596993576866",
        "0.9526909439906012",
        "0.9527225454016762",
        "0.9527545074224959",
        "0.9527868339200681",
        "0.9528195287970143",
        "0.9528525959917561",
        "0.9528860394787",
        "0.9529198632684184",
        "0.9529540714078277",
        "0.9529886679803636",
        "0.953023657106153",
        "0.9530590429421824",
        "0.9530948296824627",
        "0.9531310215581905",
        "0.9531676228379056",
        "0.9532046378276436",
        "0.9532420708710863",
        "0.9532799263497049",
        "0.9533182086829026",
        "0.9533569223281482",
        "0.9533960717811086",
        "0.9534356615757743",
        "0.9534756962845802",
        "0.9535161805185215",
        "0.9535571189272636",
        "0.9535985161992466",
        "0.9536403770617843",
        "0.953682706281156",
        "0.9537255086626935",
        "0.9537687890508606",
        "0.9538125523293266",
        "0.953856803421033",
        "0.9539015472882522",
        "0.9539467889326402",
        "0.9539925333952813",
        "0.9540387857567252",
        "0.9540855511370155",
        "0.9541328346957118",
        "0.9541806416319012",
        "0.9542289771842033",
        "0.9542778466307653",
        "0.9543272552892478",
        "0.954377208516802",
        "0.9544277117100373",
        "0.9544787703049786",
        "0.954530389777014",
        "0.9545825756408319",
        "0.954635333450348",
        "0.9546886687986208",
        "0.9547425873177566",
        "0.9547970946788029",
        "0.9548521965916301",
        "0.9549078988048014",
        "0.9549642071054305",
        "0.9550211273190267",
        "0.9550786653093271",
        "0.9551368269781165",
        "0.9551956182650331",
        "0.9552550451473604",
        "0.9553151136398064",
        "0.9553758297942669",
        "0.9554371996995757",
        "0.9554992294812391",
        "0.9555619253011548",
        "0.9556252933573167",
        "0.9556893398835027",
        "0.9557540711489464",
        "0.9558194934579932",
        "0.9558856131497386",
        "0.9559524365976501",
        "0.9560199702091708",
        "0.9560882204253066",
        "0.9561571937201937",
        "0.9562268966006487",
        "0.9562973356056996",
        "0.9563685173060976",
        "0.9564404483038093",
        "0.9565131352314895",
        "0.9565865847519336",
        "0.956660803557509",
        "0.9567357983695668",
        "0.956811575937831",
        "0.9568881430397672",
        "0.956965506479929",
        "0.9570436730892816",
        "0.9571226497245043",
        "0.9572024432672683",
        "0.9572830606234927",
        "0.9573645087225756",
        "0.9574467945166028",
        "0.9575299249795306",
        "0.9576139071063454",
        "0.9576987479121968",
        "0.957784454431507",
        "0.9578710337170535",
        "0.9579584928390262",
        "0.9580468388840585",
        "0.9581360789542308",
        "0.9582262201660486",
        "0.9583172696493922",
        "0.9584092345464389",
        "0.9585021220105585",
        "0.9585959392051792",
        "0.9586906933026259",
        "0.9587863914829301",
        "0.9588830409326096",
        "0.9589806488434204",
        "0.9590792224110779",
        "0.9591787688339495",
        "0.9592792953117156",
        "0.9593808090440022",
        "0.9594833172289814",
        "0.9595868270619422",
        "0.9596913457338301",
        "0.9597968804297553",
        "0.9599034383274705",
        "0.9600110265958157",
        "0.9601196523931332",
        "0.9602293228656493",
        "0.9603400451458249",
        "0.9604518263506739",
        "0.9605646735800496",
        "0.960678593914898",
        "0.9607935944154802",
        "0.9609096821195613",
        "0.9610268640405674",
        "0.9611451471657099",
        "0.9612645384540777",
        "0.9613850448346962",
        "0.961506673204555",
        "0.9616294304266019",
        "0.9617533233277059",
        "0.9618783586965873",
        "0.962004543281715",
        "0.9621318837891737",
        "0.962260386880497",
        "0.9623900591704707",
        "0.9625209072249039",
        "0.9626529375583684",
        "0.9627861566319081",
        "0.9629205708507166",
        "0.9630561865617856",
        "0.9631930100515221",
        "0.963331047543337",
        "0.9634703051952027",
        "0.9636107890971839",
        "0.9637525052689379",
        "0.9638954596571881",
        "0.9640396581331698",
        "0.9641851064900487",
        "0.9643318104403128",
        "0.964479775613139",
        "0.9646290075517342",
        "0.9647795117106519",
        "0.9649312934530844",
        "0.9650843580481328",
        "0.9652387106680538",
        "0.9653943563854854",
        "0.9655513001706512",
        "0.9657095468885453",
        "0.9658691012960979",
        "0.9660299680393235",
        "0.9661921516504501",
        "0.9663556565450346",
        "0.9665204870190615",
        "0.9666866472460277",
        "0.9668541412740155",
        "0.9670229730227525",
        "0.9671931462806613",
        "0.9673646647019004",
        "0.9675375318033962",
        "0.9677117509618685",
        "0.9678873254108503",
        "0.9680642582377044",
        "0.9682425523806356",
        "0.9684222106257031",
        "0.9686032356038321",
        "0.968785629787828",
        "0.9689693954893928",
        "0.9691545348561467",
        "0.9693410498686571",
        "0.969528942337474",
        "0.969718213900176",
        "0.9699088660184283",
        "0.9701008999750529",
        "0.9702943168711141",
        "0.9704891176230214",
        "0.97068530295965",
        "0.970882873419483",
        "0.9710818293477746",
        "0.9712821708937391",
        "0.9714838980077648",
        "0.9716870104386571",
        "0.9718915077309115",
        "0.9720973892220187",
        "0.9723046540398043",
        "0.9725133010998042",
        "0.9727233291026797",
        "0.9729347365316716",
        "0.9731475216500982",
        "0.973361682498897",
        "0.9735772168942143",
        "0.973794122425043",
        "0.9740123964509121",
        "0.9742320360996295",
        "0.9744530382650799",
        "0.9746753996050813",
        "0.9748991165393003",
        "0.9751241852472304",
        "0.9753506016662338",
        "0.9755783614896498",
        "0.9758074601649726",
        "0.9760378928920977",
        "0.9762696546216441",
        "0.9765027400533481",
        "0.9767371436345373",
        "0.9769728595586818",
        "0.9772098817640269",
        "0.9774482039323098",
        "0.977687819487561",
        "0.9779287215949931",
        "0.978170903159979",
        "0.978414356827121",
        "0.9786590749794134",
        "0.9789050497374996",
        "0.9791522729590262",
        "0.9794007362380955",
        "0.9796504309048188",
        "0.9799013480249703",
        "0.9801534783997461",
        "0.9804068125656273",
        "0.9806613407943504",
        "0.9809170530929853",
        "0.981173939204123",
        "0.9814319886061745",
        "0.9816911905137815",
        "0.9819515338783398",
        "0.9822130073886389",
        "0.9824755994716154",
        "0.9827392982932239",
        "0.9830040917594248",
        "0.9832699675172908",
        "0.9835369129562322",
        "0.9838049152093422",
        "0.9840739611548615",
        "0.9843440374177649",
        "0.9846151303714689",
        "0.9848872261396595",
        "0.9851603105982435",
        "0.9854343693774205",
        "0.9857093878638771",
        "0.9859853512031033",
        "0.98626224430183",
        "0.9865400518305882",
        "0.9868187582263898",
        "0.9870983476955277",
        "0.9873788042164977",
        "0.9876601115430385",
        "0.9879422532072909",
        "0.988225212523075",
        "0.9885089725892842",
        "0.9887935162933938",
        "0.9890788263150869",
        "0.9893648851299909",
        "0.9896516750135274",
        "0.9899391780448725",
        "0.9902273761110263",
        "0.9905162509109885",
        "0.990805783960041",
        "0.9910959565941334",
        "0.99138674997437",
        "0.9916781450915966",
        "0.9919701227710851",
        "0.9922626636773126",
        "0.9925557483188341",
        "0.9928493570532444",
        "0.9931434700922295",
        "0.9934380675067018",
        "0.9937331292320187",
        "0.9940286350732807",
        "0.9943245647107058",
        "0.9946208977050798",
        "0.9949176135032746",
        "0.9952146914438372",
        "0.9955121107626419",
        "0.9958098505986043",
        "0.9961078899994534",
        "0.9964062079275591",
        "0.9967047832658105",
        "0.9970035948235427",
        "0.9973026213425085",
        "0.9976018415028896",
        "0.9979012339293467",
        "0.9982007771971034",
        "0.998500449838059",
        "0.9988002303469282",
        "0.9991000971874044",
        "0.9994000287983412",
        "0.9997000035999482",
        "1.0",
        "1.0002999964000518",
        "1.0005999712016587",
        "1.0008999028125953",
        "1.0011997696530717",
        "1.001499550161941",
        "1.0017992228028965",
        "1.0020987660706533",
        "1.0023981584971104",
        "1.0026973786574915",
        "1.002996405176457",
        "1.0032952167341895",
        "1.003593792072441",
        "1.0038921100005465",
        "1.0041901494013956",
        "1.0044878892373579",
        "1.0047853085561627",
        "1.0050823864967253",
        "1.0053791022949201",
        "1.005675435289294",
        "1.0059713649267192",
        "1.0062668707679812",
        "1.0065619324932982",
        "1.0068565299077705",
        "1.0071506429467556",
        "1.007444251681166",
        "1.0077373363226874",
        "1.008029877228915",
        "1.0083218549084032",
        "1.00861325002563",
        "1.0089040434058665",
        "1.009194216039959",
        "1.0094837490890114",
        "1.0097726238889737",
        "1.0100608219551275",
        "1.0103483249864726",
        "1.010635114870009",
        "1.010921173684913",
        "1.0112064837066062",
        "1.0114910274107158",
        "1.011774787476925",
        "1.012057746792709",
        "1.0123398884569614",
        "1.0126211957835023",
        "1.0129016523044723",
        "1.0131812417736101",
        "1.0134599481694118",
        "1.01373775569817",
        "1.0140146487968966",
        "1.0142906121361228",
        "1.0145656306225794",
        "1.0148396894017564",
        "1.0151127738603405",
        "1.015384869628531",
        "1.015655962582235",
        "1.0159260388451385",
        "1.0161950847906578",
        "1.0164630870437676",
        "1.016730032482709",
        "1.016995908240575",
        "1.017260701706776",
        "1.0175244005283846",
        "1.017786992611361",
        "1.0180484661216602",
        "1.0183088094862185",
        "1.0185680113938254",
        "1.018826060795877",
        "1.0190829469070146",
        "1.0193386592056495",
        "1.0195931874343727",
        "1.019846521600254",
        "1.0200986519750297",
        "1.0203495690951812",
        "1.0205992637619044",
        "1.0208477270409737",
        "1.0210949502625004",
        "1.0213409250205865",
        "1.021585643172879",
        "1.021829096840021",
        "1.0220712784050068",
        "1.0223121805124389",
        "1.0225517960676902",
        "1.022790118235973",
        "1.023027140441318",
        "1.0232628563654627",
        "1.0234972599466519",
        "1.023730345378356",
        "1.0239621071079021",
        "1.0241925398350273",
        "1.0244216385103502",
        "1.0246493983337661",
        "1.0248758147527695",
        "1.0251008834606996",
        "1.0253246003949186",
        "1.02554696173492",
        "1.0257679639003705",
        "1.0259876035490878",
        "1.026205877574957",
        "1.0264227831057855",
        "1.026638317501103",
        "1.0268524783499018",
        "1.0270652634683284",
        "1.0272766708973202",
        "1.0274866989001958",
        "1.0276953459601956",
        "1.0279026107779812",
        "1.0281084922690884",
        "1.0283129895613428",
        "1.028516101992235",
        "1.0287178291062609",
        "1.0289181706522252",
        "1.0291171265805168",
        "1.02931469704035",
        "1.0295108823769785",
        "1.0297056831288858",
        "1.0298991000249471",
        "1.0300911339815717",
        "1.030281786099824",
        "1.030471057662526",
        "1.0306589501313428",
        "1.0308454651438532",
        "1.0310306045106072",
        "1.0312143702121719",
        "1.0313967643961677",
        "1.0315777893742968",
        "1.0317574476193643",
        "1.0319357417622956",
        "1.0321126745891496",
        "1.0322882490381315",
        "1.0324624681966037",
        "1.0326353352980995",
        "1.0328068537193387",
        "1.0329770269772474",
        "1.0331458587259845",
        "1.0333133527539722",
        "1.0334795129809384",
        "1.0336443434549654",
        "1.0338078483495499",
        "1.0339700319606764",
        "1.034130898703902",
        "1.0342904531114547",
        "1.0344486998293487",
        "1.0346056436145146",
        "1.034761289331946",
        "1.0349156419518672",
        "1.0350687065469155",
        "1.035220488289348",
        "1.0353709924482657",
        "1.0355202243868609",
        "1.035668189559687",
        "1.0358148935099512",
        "1.0359603418668302",
        "1.0361045403428117",
        "1.036247494731062",
        "1.0363892109028159",
        "1.036529694804797",
        "1.036668952456663",
        "1.0368069899484778",
        "1.0369438134382143",
        "1.0370794291492833",
        "1.0372138433680917",
        "1.0373470624416314",
        "1.0374790927750959",
        "1.0376099408295292",
        "1.037739613119503",
        "1.0378681162108263",
        "1.037995456718285",
        "1.0381216413034127",
        "1.038246676672294",
        "1.038370569573398",
        "1.038493326795445",
        "1.0386149551653037",
        "1.0387354615459223",
        "1.03885485283429",
        "1.0389731359594325",
        "1.0390903178804387",
        "1.0392064055845198",
        "1.039321406085102",
        "1.0394353264199503",
        "1.039548173649326",
        "1.039659954854175",
        "1.0397706771343507",
        "1.0398803476068668",
        "1.0399889734041843",
        "1.0400965616725295",
        "1.0402031195702446",
        "1.04030865426617",
        "1.0404131729380577",
        "1.0405166827710184",
        "1.0406191909559976",
        "1.0407207046882843",
        "1.0408212311660505",
        "1.040920777588922",
        "1.0410193511565795",
        "1.0411169590673903",
        "1.0412136085170698",
        "1.041309306697374",
        "1.0414040607948207",
        "1.0414978779894415",
        "1.041590765453561",
        "1.0416827303506078",
        "1.0417737798339513",
        "1.041863921045769",
        "1.0419531611159414",
        "1.0420415071609737",
        "1.0421289662829465",
        "1.042215545568493",
        "1.0423012520878032",
        "1.0423860928936546",
        "1.0424700750204692",
        "1.0425532054833972",
        "1.0426354912774243",
        "1.0427169393765072",
        "1.0427975567327314",
        "1.0428773502754956",
        "1.0429563269107183",
        "1.043034493520071",
        "1.0431118569602327",
        "1.043188424062169",
        "1.0432642016304332",
        "1.043339196442491",
        "1.0434134152480663",
        "1.0434868647685103",
        "1.0435595516961906",
        "1.0436314826939024",
        "1.0437026643943004",
        "1.0437731033993511",
        "1.0438428062798062",
        "1.0439117795746933",
        "1.043980029790829",
        "1.0440475634023498",
        "1.0441143868502611",
        "1.0441805065420067",
        "1.0442459288510535",
        "1.0443106601164973",
        "1.0443747066426832",
        "1.044438074698845",
        "1.0445007705187608",
        "1.0445628003004241",
        "1.044624170205733",
        "1.0446848863601936",
        "1.0447449548526395",
        "1.0448043817349668",
        "1.0448631730218834",
        "1.044921334690673",
        "1.0449788726809732",
        "1.0450357928945695",
        "1.0450921011951986",
        "1.0451478034083699",
        "1.0452029053211969",
        "1.0452574126822434",
        "1.045311331201379",
        "1.0453646665496519",
        "1.045417424359168",
        "1.045469610222986",
        "1.0455212296950214",
        "1.0455722882899625",
        "1.045622791483198",
        "1.0456727447107521",
        "1.0457221533692347",
        "1.0457710228157966",
        "1.0458193583680988",
        "1.0458671653042881",
        "1.0459144488629843",
        "1.0459612142432748",
        "1.0460074666047185",
        "1.0460532110673597",
        "1.0460984527117478",
        "1.046143196578967",
        "1.0461874476706732",
        "1.0462312109491394",
        "1.0462744913373065",
        "1.0463172937188439",
        "1.0463596229382155",
        "1.0464014838007532",
        "1.0464428810727364",
        "1.0464838194814785",
        "1.0465243037154197",
        "1.0465643384242256",
        "1.0466039282188913",
        "1.0466430776718516",
        "1.0466817913170974",
        "1.0467200736502948",
        "1.0467579291289137",
        "1.0467953621723562",
        "1.0468323771620944",
        "1.0468689784418093",
        "1.0469051703175372",
        "1.0469409570578176",
        "1.046976342893847",
        "1.0470113320196364",
        "1.0470459285921723",
        "1.0470801367315814",
        "1.0471139605212998",
        "1.0471474040082438",
        "1.0471804712029857",
        "1.0472131660799318",
        "1.0472454925775039",
        "1.0472774545983237",
        "1.0473090560093987",
        "1.0473403006423134",
        "1.04737119229342",
        "1.047401734724033",
        "1.0474319316606275",
        "1.0474617867950364",
        "1.047491303784652",
        "1.047520486252629",
        "1.0475493377880898",
        "1.04757786194633",
        "1.0476060622490282",
        "1.0476339421844538",
        "1.0476615052076799",
        "1.0476887547407951",
        "1.0477156941731178",
        "1.0477423268614103",
        "1.0477686561300967",
        "1.0477946852714783",
        "1.0478204175459527",
        "1.0478458561822324",
        "1.047871004377565",
        "1.047895865297953",
        "1.047920442078376",
        "1.0479447378230105",
        "1.0479687556054538",
        "1.047992498468946",
        "1.0480159694265923",
        "1.048039171461587",
        "1.048062107527437",
        "1.0480847805481845",
        "1.048107193418632",
        "1.0481293490045644",
        "1.048151250142975",
        "1.048172899642287",
        "1.0481943002825789",
        "1.0482154548158065",
        "1.0482363659660277",
        "1.0482570364296242",
        "1.0482774688755245",
        "1.0482976659454275",
        "1.0483176302540222",
        "1.0483373643892118",
        "1.0483568709123328",
        "1.0483761523583763",
        "1.048395211236209",
        "1.0484140500287908",
        "1.0484326711933951",
        "1.0484510771618267",
        "1.0484692703406389",
        "1.0484872531113507",
        "1.0485050278306627",
        "1.0485225968306726",
        "1.0485399624190896",
        "1.0485571268794476",
        "1.048574092471319",
        "1.0485908614305255",
        "1.04860743596935",
        "1.048623818276746",
        "1.0486400105185476",
        "1.048656014837677",
        "1.0486718333543512",
        "1.0486874681662897",
        "1.0487029213489183",
        "1.0487181949555735",
        "1.0487332910177058",
        "1.0487482115450817",
        "1.0487629585259837",
        "1.048777533927411",
        "1.0487919396952778",
        "1.0488061777546103",
        "1.0488202500097437",
        "1.0488341583445167",
        "1.048847904622466",
        "1.0488614906870186",
        "1.048874918361684",
        "1.0488881894502435",
        "1.0489013057369407",
        "1.0489142689866682",
        "1.048927080945155",
        "1.0489397433391519",
        "1.0489522578766153",
        "1.0489646262468908",
        "1.0489768501208943",
        "1.0489889311512928",
        "1.049000870972683",
        "1.0490126712017704",
        "1.0490243334375449",
        "1.0490358592614557",
        "1.049047250237587",
        "1.0490585079128292",
        "1.0490696338170513",
        "1.049080629463271",
        "1.0490914963478235",
        "1.0491022359505282",
        "1.0491128497348572",
        "1.0491233391480979",
        "1.0491337056215186",
        "1.0491439505705302",
        "1.0491540753948474",
        "1.0491640814786483",
        "1.0491739701907337",
        "1.049183742884684",
        "1.0491934008990151",
        "1.049202945557334",
        "1.0492123781684903",
        "1.049221700026731",
        "1.049230912411849",
        "1.0492400165893352",
        "1.0492490138105242",
        "1.0492579053127433",
        "1.0492666923194582",
        "1.0492753760404168",
        "1.049283957671793",
        "1.049292438396329",
        "1.0493008193834754",
        "1.0493091017895324",
        "1.0493172867577862",
        "1.0493253754186476",
        "1.0493333688897875",
        "1.0493412682762715",
        "1.0493490746706935",
        "1.049356789153308",
        "1.0493644127921615",
        "1.0493719466432216",
        "1.049379391750507",
        "1.0493867491462134",
        "1.0493940198508416",
        "1.0494012048733212",
        "1.049408305211136",
        "1.0494153218504454",
        "1.049422255766207",
        "1.0494291079222977",
        "1.0494358792716314",
        "1.0494425707562796",
        "1.049449183307586",
        "1.049455717846285",
        "1.0494621752826152",
        "1.0494685565164332",
        "1.0494748624373276",
        "1.049481093924729",
        "1.0494872518480218",
        "1.0494933370666533",
        "1.0494993504302421",
        "1.0495052927786857",
        "1.0495111649422664",
        "1.0495169677417564",
        "1.0495227019885236",
        "1.0495283684846328",
        "1.049533968022949",
        "1.0495395013872382",
        "1.0495449693522678",
        "1.049550372683906",
        "1.0495557121392187",
        "1.0495609884665689",
        "1.0495662024057104",
        "1.049571354687885",
        "1.0495764460359156",
        "1.0495814771643002",
        "1.0495864487793038",
        "1.04959136157905",
        "1.0495962162536119",
        "1.0496010134851006",
        "1.049605753947755",
        "1.049610438308029",
        "1.0496150672246782",
        "1.0496196413488463",
        "1.04962416132415",
        "1.0496286277867621",
        "1.0496330413654968",
        "1.0496374026818909",
        "1.049641712350285",
        "1.0496459709779054",
        "1.0496501791649426",
        "1.049654337504632",
        "1.0496584465833307",
        "1.0496625069805954",
        "1.0496665192692587",
        "1.0496704840155053",
        "1.0496744017789474",
        "1.0496782731126975",
        "1.0496820985634425",
        "1.049685878671517",
        "1.049689613970974",
        "1.0496933049896564",
        "1.049696952249268",
        "1.0497005562654416",
        "1.0497041175478092",
        "1.0497076366000695",
        "1.049711113920055",
        "1.0497145499997993",
        "1.0497179453256023",
        "1.0497213003780956",
        "1.0497246156323081",
        "1.0497278915577275",
        "1.0497311286183655",
        "1.0497343272728195",
        "1.049737487974334",
        "1.049740611170862",
        "1.049743697305126",
        "1.0497467468146762",
        "1.0497497601319514",
        "1.0497527376843365"
       ],
       "description": "Factor",
       "index": 1,
       "layout": "IPY_MODEL_57177afbae8c494ea9035e1da82bbc39",
       "style": "IPY_MODEL_cb696d1b175a40669c987453559a6f18"
      }
     },
     "935fe1a39df9441482e38b16fc90e52a": {
      "model_module": "@jupyter-widgets/base",
      "model_module_version": "1.2.0",
      "model_name": "LayoutModel",
      "state": {}
     },
     "9421aeec599a41379f3b36afbf069d51": {
      "model_module": "@jupyter-widgets/base",
      "model_module_version": "1.2.0",
      "model_name": "LayoutModel",
      "state": {}
     },
     "990813dfacc44dd597ee82a2981161ae": {
      "model_module": "@jupyter-widgets/output",
      "model_module_version": "1.0.0",
      "model_name": "OutputModel",
      "state": {
       "layout": "IPY_MODEL_82216b8bab6649528506fa627a19cafd",
       "outputs": [
        {
         "data": {
          "image/png": "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\n",
          "text/plain": "<Figure size 1008x288 with 2 Axes>"
         },
         "metadata": {
          "needs_background": "light"
         },
         "output_type": "display_data"
        }
       ]
      }
     },
     "9c353f7d3c534ea6bf4bb125f26d11bd": {
      "model_module": "@jupyter-widgets/controls",
      "model_module_version": "1.5.0",
      "model_name": "DescriptionStyleModel",
      "state": {
       "description_width": ""
      }
     },
     "9d6c50fa3e9d4c6fa7542c345926e927": {
      "model_module": "@jupyter-widgets/controls",
      "model_module_version": "1.5.0",
      "model_name": "SliderStyleModel",
      "state": {
       "description_width": ""
      }
     },
     "9dd370b83f1c4dad981b8763ea2b090e": {
      "model_module": "@jupyter-widgets/controls",
      "model_module_version": "1.5.0",
      "model_name": "SliderStyleModel",
      "state": {
       "description_width": ""
      }
     },
     "a041f1939b36408cac2741ca672b40ba": {
      "model_module": "@jupyter-widgets/base",
      "model_module_version": "1.2.0",
      "model_name": "LayoutModel",
      "state": {}
     },
     "a0506bee675040b5bac75d57d7d2a7d4": {
      "model_module": "@jupyter-widgets/base",
      "model_module_version": "1.2.0",
      "model_name": "LayoutModel",
      "state": {}
     },
     "a27d6e48c3e44cd3805141b0b89649d1": {
      "model_module": "@jupyter-widgets/controls",
      "model_module_version": "1.5.0",
      "model_name": "SliderStyleModel",
      "state": {
       "description_width": ""
      }
     },
     "a37a61469f174136b3ef6e9319e8c3cc": {
      "model_module": "@jupyter-widgets/base",
      "model_module_version": "1.2.0",
      "model_name": "LayoutModel",
      "state": {}
     },
     "a4d80d4fac4b4d5089607e6d303eed6c": {
      "model_module": "@jupyter-widgets/controls",
      "model_module_version": "1.5.0",
      "model_name": "IntSliderModel",
      "state": {
       "description": "CV splits",
       "layout": "IPY_MODEL_6e7f3c8ef5574b9b848dd3693d80235c",
       "max": 24,
       "min": 2,
       "style": "IPY_MODEL_a27d6e48c3e44cd3805141b0b89649d1",
       "value": 5
      }
     },
     "ac99e6575ff04ef1a0b000627e7ff292": {
      "model_module": "@jupyter-widgets/base",
      "model_module_version": "1.2.0",
      "model_name": "LayoutModel",
      "state": {}
     },
     "b07fe92b7d964c0a9b2409c67d516868": {
      "model_module": "@jupyter-widgets/base",
      "model_module_version": "1.2.0",
      "model_name": "LayoutModel",
      "state": {}
     },
     "b1c2ac2a701c455e833caaaa7d69038d": {
      "model_module": "@jupyter-widgets/controls",
      "model_module_version": "1.5.0",
      "model_name": "DropdownModel",
      "state": {
       "_options_labels": [
        "Austria",
        "Belgium",
        "Bulgaria",
        "Canada",
        "Cyprus",
        "Czechia",
        "Denmark",
        "Estonia",
        "Finland",
        "France",
        "Germany",
        "Iceland",
        "Ireland",
        "Israel",
        "Italy",
        "Luxembourg",
        "Netherlands",
        "Portugal",
        "Romania",
        "Slovenia",
        "Spain",
        "Sweden",
        "United Kingdom",
        "United States"
       ],
       "description": "Country",
       "index": 0,
       "layout": "IPY_MODEL_f66dff392b654fb58ba2147d7b6c9420",
       "style": "IPY_MODEL_be8f22e643634036b29dbe8282de581c"
      }
     },
     "b22098cd29f0469f832a3acc30a261ae": {
      "model_module": "@jupyter-widgets/base",
      "model_module_version": "1.2.0",
      "model_name": "LayoutModel",
      "state": {}
     },
     "b38947217e324e0ca67775ea61b45f05": {
      "model_module": "@jupyter-widgets/base",
      "model_module_version": "1.2.0",
      "model_name": "LayoutModel",
      "state": {}
     },
     "b43d0b8a974e46d7bfd7145458a18a10": {
      "model_module": "@jupyter-widgets/controls",
      "model_module_version": "1.5.0",
      "model_name": "DescriptionStyleModel",
      "state": {
       "description_width": ""
      }
     },
     "b61073403b05405692a22b3c657470c2": {
      "model_module": "@jupyter-widgets/base",
      "model_module_version": "1.2.0",
      "model_name": "LayoutModel",
      "state": {}
     },
     "b75f9a79456c491a91335fc8bfdf9a3b": {
      "model_module": "@jupyter-widgets/controls",
      "model_module_version": "1.5.0",
      "model_name": "IntSliderModel",
      "state": {
       "description": "CV splits",
       "layout": "IPY_MODEL_56027d661bc0438aa3e4b7a6a8d158db",
       "max": 24,
       "min": 2,
       "style": "IPY_MODEL_e9c302c00bc348b48d1fd3e4928f0977",
       "value": 5
      }
     },
     "b77350c8db9540b59bb7e310c5be84f8": {
      "model_module": "@jupyter-widgets/base",
      "model_module_version": "1.2.0",
      "model_name": "LayoutModel",
      "state": {}
     },
     "b96043ea868043b9aa76b4cf063aa7a0": {
      "model_module": "@jupyter-widgets/controls",
      "model_module_version": "1.5.0",
      "model_name": "SliderStyleModel",
      "state": {
       "description_width": ""
      }
     },
     "be8f22e643634036b29dbe8282de581c": {
      "model_module": "@jupyter-widgets/controls",
      "model_module_version": "1.5.0",
      "model_name": "DescriptionStyleModel",
      "state": {
       "description_width": ""
      }
     },
     "be9b262e436f48e3a646da1fa923ca06": {
      "model_module": "@jupyter-widgets/controls",
      "model_module_version": "1.5.0",
      "model_name": "DropdownModel",
      "state": {
       "_options_labels": [
        "Austria",
        "Belgium",
        "Bulgaria",
        "Canada",
        "Cyprus",
        "Czechia",
        "Denmark",
        "Estonia",
        "Finland",
        "France",
        "Germany",
        "Iceland",
        "Ireland",
        "Israel",
        "Italy",
        "Luxembourg",
        "Netherlands",
        "Portugal",
        "Romania",
        "Slovenia",
        "Spain",
        "Sweden",
        "United Kingdom",
        "United States"
       ],
       "description": "Country",
       "index": 0,
       "layout": "IPY_MODEL_70c1191c33644fe09c21e7385a15b1d0",
       "style": "IPY_MODEL_c3f8d15bd7c74ea29bea6bfe36db3fe2"
      }
     },
     "c0c2bb1f536f4d17aacbf99c35c8e85e": {
      "model_module": "@jupyter-widgets/output",
      "model_module_version": "1.0.0",
      "model_name": "OutputModel",
      "state": {
       "layout": "IPY_MODEL_6704362cebac499c978a43699ee36619",
       "outputs": [
        {
         "data": {
          "image/png": "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\n",
          "text/plain": "<Figure size 1080x360 with 1 Axes>"
         },
         "metadata": {
          "needs_background": "light"
         },
         "output_type": "display_data"
        }
       ]
      }
     },
     "c3f8d15bd7c74ea29bea6bfe36db3fe2": {
      "model_module": "@jupyter-widgets/controls",
      "model_module_version": "1.5.0",
      "model_name": "DescriptionStyleModel",
      "state": {
       "description_width": ""
      }
     },
     "c73b4949cf7c4ffba4de91da98a1fe5a": {
      "model_module": "@jupyter-widgets/controls",
      "model_module_version": "1.5.0",
      "model_name": "VBoxModel",
      "state": {
       "_dom_classes": [
        "widget-interact"
       ],
       "children": [
        "IPY_MODEL_1de33634f01742fd869f12d1c964d134",
        "IPY_MODEL_a4d80d4fac4b4d5089607e6d303eed6c",
        "IPY_MODEL_7763aade5a684af69b58dcb3701b6074"
       ],
       "layout": "IPY_MODEL_9421aeec599a41379f3b36afbf069d51"
      }
     },
     "c740731737fa4f8a80ede5e0911e540e": {
      "model_module": "@jupyter-widgets/output",
      "model_module_version": "1.0.0",
      "model_name": "OutputModel",
      "state": {
       "layout": "IPY_MODEL_6fc493fffff34d67912e9ac325862cd5",
       "outputs": [
        {
         "data": {
          "image/png": "iVBORw0KGgoAAAANSUhEUgAAA+gAAAEYCAYAAADPrtzUAAAAOXRFWHRTb2Z0d2FyZQBNYXRwbG90bGliIHZlcnNpb24zLjMuNCwgaHR0cHM6Ly9tYXRwbG90bGliLm9yZy8QVMy6AAAACXBIWXMAAAsTAAALEwEAmpwYAABtCUlEQVR4nO3dd3hVVdbH8e9KgRA6odfQexHpXRQpFlTEXrD3XsZxHMuMjjq+dh0drKNir6hgRwHpvXeQIr13Utb7xzlAgCQESHIT8vs8z31y7z777LPO4ZLcdXc55u6IiIiIiIiISGRFRToAEREREREREVGCLiIiIiIiIpInKEEXERERERERyQOUoIuIiIiIiIjkAUrQRURERERERPKAmEgHcCzKli3riYmJkQ5DRETyqYkTJ65z93KRjkNynz5DiIjIscipzxD5OkFPTExkwoQJkQ5DRETyKTP7I9IxSGToM4SIiByLnPoMoSHuIiIiIiIiInmAEnQRERERERGRPEAJuoiIiIiIiEgekK/noIuIHO+SkpJYvnw5u3btinQo+VpcXBxVq1YlNjY20qGIiIiIZEgJuohIHrZ8+XKKFy9OYmIiZhbpcPIld2f9+vUsX76cmjVrRjocERERkQxpiLuISB62a9cuEhISlJwfAzMjISFBoxBEREQkz8vfCfrubZGOQEQkxyk5P3a6hiIiIpIf5O8EfcMi2Lw80lGIiIiIiIiIHLN8Pgfd4fv74bx3Ih2IiMhxKzo6mqZNm5KcnEzNmjV59913KVWq1BG38/bbbzNhwgReeuml7A9S5AhNX7GZxPu+jXQYcpxa8sRpkQ5BRPKp/N2DXrwCzPoKFvwc6UhERI5bRYoUYcqUKcyYMYMyZcrw8ssvRzokERERkeNSvu5BX51Skg1xpeDT23iz2fukRBU6YHuh6Ciu7FSTkkV0Wx0RkezQvn17pk2bBsDChQu56aabWLt2LfHx8bz22ms0aNCAr7/+mkcffZQ9e/aQkJDAoEGDqFChQoQjFxEREcn78nWCvnbbHu7edhVvxjxO1OiXGJh69gHb96SkUqJILFd10m11RCT/e+Trmcz6c0u2ttmocgkeOqNxluqmpKTw888/c9VVVwFw7bXX8uqrr1K3bl3Gjh3LjTfeyC+//EKnTp0YM2YMZsbrr7/Ov//9b55++ulsjVtERETkeJSvE/QmVUry5qP3wUczuXP+YO686W9Qusa+7d2f/pXh89YqQRcROQY7d+6kRYsWrFixgoYNG9KjRw+2bdvGqFGj6N+//756u3fvBoJ7t59//vmsXLmSPXv26N7jIiIiIlmUrxP0fXo9HsxD/+6vcOH7+4q71C3Hh+OXsisphbjY6AgGKCJy7LLa053d9s5B37FjBz179uTll19mwIABlCpViilTphxS/5ZbbuHOO+/kzDPP5Ndff+Xhhx/O9ZhFRERE8qP8vUjcXiWrQtd7Ye63MO/7fcVd65djV1Iq4xZviGBwIiLHh/j4eF544QWefvpp4uPjqVmzJp988gkA7s7UqVMB2Lx5M1WqVAHgf//7X8TiFREREclvcixBN7M4MxtnZlPNbKaZPRKWn2xmk8xsipmNNLM6YXlhM/vIzBaY2VgzSzyiA7a7EcrWhyH3QNLOoKhmAoViohg+b202n52ISMF0wgkn0KxZMz744AMGDRrEG2+8QfPmzWncuDFfffUVAA8//DD9+/fnxBNPpGzZshGOWERERCT/yMkh7ruB7u6+zcxigZFmNhR4Bejr7rPN7EbgAWAAcBWw0d3rmNkFwJPA+Vk+Wkwh6PMUvHMmjHwOTvorRQpF07ZmGYbPV4IuInK0tm3bdsDrr7/+et/z77777pD6ffv2pW/fvoeUDxgwgAEDBmR7fCIiIiLHixzrQffA3k91seHDw0eJsLwk8Gf4vC+wdyzkp8DJZmZHdNBaXaFJPxj5LGxYBATz0Oet3safm3Ye9bmIiIiIiIiI5LQcnYNuZtFmNgVYA/zo7mOBq4EhZrYcuBR4IqxeBVgG4O7JwGYgIZ02rzWzCWY2Ye3adHrGT30MogvBkHvBnS71ygEw4uBe9I1LYMr7sGp6Npxp/rdy805Gzl/Hqs27cPdIhyMiIiIiIlLg5Ogq7u6eArQws1LAF2bWBLgD6OPuY83sHuAZgqQ9q20OBAYCtGrV6tBMskQlOOmv8P39MOdb6jU4jYol4pg+czrnx46ExSNgyUjYvDSoX6k5XDf8GM80f1uwZiv9XhnN5p1JABQvHEPt8sWoW74YdSsUo075YtQtX5wqpYoQFXVkgxpEREREREQka3LlNmvuvsnMhgG9geZhTzrAR8DeCYwrgGrAcjOLIRj+vv6oDtjmWpj8Hgz9CzZ3KEP8J8osWQVLgCJlILEjdLgF1i+Acf+FraugeMVjOcV8a83WXQx4azyx0VG8dlkrVm3eyfw125i/ehvD5q7lk4nL99UtW6wQP93ZlVLxhSIYsYiIiIiIyPEpxxJ0MysHJIXJeRGgB8HCbyXNrJ67zwvLZoe7DAYuB0YD5wK/+NGOtY6OhdOehrdPhznfsKdsKx5eeirnnXsBjZq3h6hwZP+qGUGCvuAnOOGSYzndfGn77mSuensC67ft4aPr2tGsaqlD6mzasYcFa7YxeuF6nv9xFqMWrqdP00q5H6yIiIiIiMhxLifnoFcChpnZNGA8wRz0b4BrgM/MbCrBHPR7wvpvAAlmtgC4E7jvmI5eowPcPR/uXUyRSz/kndRefLeu3P7kHKBCYyheGeb/cEyHyo+SU1K55YPJzPxzMy9ddEK6yTlAqfhCtKpRmhtT3mNm4atg9EuQmpq7wYqIiIiIiBQAObmK+zR3P8Hdm7l7E3f/R1j+hbs3dffm7t7N3ReF5bvcvb+713H3NnvLj0nRBIiKomR8LM2rleK3g++HbgZ1e8DCYZCSdMyHyy/cnQcHz+SXOWv451lNOLlhhcwqw3f3ET3qOTbEVqDPny/BoHNh6+rcC1hEIio6OpoWLVrQpEkT+vfvz44dO466rQEDBvDpp58CcPXVVzNr1qwM6/7666+MGjXqiI+RmJjIunXrjjpGERERkUjJ0VXc85Ku9coxbfkmNm7fc+CGuqfC7i2wdExkAouA//y6kPfHLuWGbrW5uG2NjCumpsI3d8DYV6HdjXzd+Uv+lnQlvuR3eKUDzCt4Iw9ECqIiRYowZcoUZsyYQaFChXj11VcP2J6cnHxU7b7++us0atQow+1Hm6BLZJlZjv2jmVl/M5tpZqlm1iqTer9mtl1ERCSvKjAJepd65XCHEQsO6lWp1RWiYgvMMPcvJ6/gqe/n0rdFZe45tX7GFVNTYPDNMPEt6HQH9PwX7WuXZ1DKKQzr+nGwqN77/WHofZC0K/dOQEQiqnPnzixYsIBff/2Vzp07c+aZZ9KoUSNSUlK45557aN26Nc2aNeO///0vEIzYufnmm6lfvz6nnHIKa9as2ddWt27dmDBhAgDfffcdLVu2pHnz5px88sksWbKEV199lWeffZYWLVowYsQI1q5dS79+/WjdujWtW7fm999/B2D9+vWceuqpNG7cmKuvvlq3iowwd++Qg83PAM4BCvbtV0RE5LiVK6u45wXNq5aiZJFYhs9by5nNK+/fULh4MF99/o9w6j8jEtuG7XsoHR+LWc7ewmzUwnXc8+lU2tUqw7/PbZbxLdNSkuGL62DGp9Dtr9D1L2BGo8olKBEXw/drStP96p/hp4dh7CuwZAT0ewPKN8jR+EUKvKH3warp2dtmxabQ+4ksVU1OTmbo0KH06tULgEmTJjFjxgxq1qzJwIEDKVmyJOPHj2f37t107NiRU089lcmTJzN37lxmzZrF6tWradSoEVdeeeUB7a5du5ZrrrmG4cOHU7NmTTZs2ECZMmW4/vrrKVasGHfffTcAF110EXfccQedOnVi6dKl9OzZk9mzZ/PII4/QqVMnHnzwQb799lveeOON7L1GckTMbJu7Fwuf/wW4BEgFhrr7fWb2K3C3u08ws7LABHdPzErb7j47bPfgYxYB3gKaA3OAItlzNiIiIrmrwCTo0VFGp7plGT5vLe5+4B/3ej2D+6ZvWgqlqudqXD/OWs0170ygRkI8vZtUoneTijSrWvLA+GZ8Drs2Q+3uUDqTIemZmLtqK9e9O5HEhKL895JWFI6JTr9i8h747CqYPRhOfgg637lvU3SU0bZWAqMXrYfYuOBDfe3u8OUNMLAr9PwXtLoymNsvIseNnTt30qJFCyDoQb/qqqsYNWoUbdq0oWbNmgD88MMPTJs2bd/88s2bNzN//nyGDx/OhRdeSHR0NJUrV6Z79+6HtD9mzBi6dOmyr60yZcqkG8dPP/10wJz1LVu2sG3bNoYPH87nn38OwGmnnUbp0qWz7dzl6JlZb6Av0Nbdd5hZ+v+w2eMGYIe7NzSzZsCkDGK6FrgWILpEuRwMR0RE5OgUmAQdoGvdcnw7bSVzVm2lYaUS+zfUPTVI0Of/CK2vyrV4UlOd//t+LlVLF6F6mXheH7GIV39bSJVSRejVpCJ9mlbkhNJ7iPr8GkgN53iWqR0kxbVPgsTOEFfisMcYOmMV//xmFnGx0bx1RWtKxsemXzlpF3xyOcz7Dno+Du1vPKRKh9oJ/DhrNcs37qBq6XiodyrcMAq+vB6+vRM8Fdpcc6yXRkTSk8We7uy2dw76wYoWLbrvubvz4osv0rNnzwPqDBkyJNviSE1NZcyYMcTFxWVbm5KjTgHecvcdAO6+IQeP1QV4ITzOtPAOModw94HAQIDClepqLoSIiOQ5BWYOOgTz0IFDV3NPqAOlE4ME/QjsTk5h6PSVhy48l0XfTF/J3NVbuadnfd69qi0THjiFp85tRoOKxXl39B/0e2U0/3n+n5CazOyTXie15xNBrFPehw8vgicT4c1e8Nu/Ydn4A1aiT0l1vpqyglOfG85N708ivlA0b1/ROkiq07NnB3x4YZCcn/Z0usk5QPvaCQCMXrh+f2HxCnDxZ1CuAczNvg/jIpJ/9OzZk1deeYWkpOD30Lx589i+fTtdunTho48+IiUlhZUrVzJs2LBD9m3Xrh3Dhw9n8eLFAGzYEORxxYsXZ+vWrfvqnXrqqbz44ov7Xu/90qBLly68//77AAwdOpSNGzfmyDlKtklm/+ePTL9tMbO3zGyKmemPi4iIFAgFqge9Ysk46lcozvB5a7m+a+39G8yCXvTJ7wW9yLGZ987sSkrhw3FLefW3RazasovuDcrzxuWtjmgOeXJKKs/9NI96FYpxRrNgTnyp+EL0b1WN/q2qsXVXEr/MXk37IfcwPrkB/YfGk1C0Dqc27kifcxJoX3gRMYuHwcJfYNi/YNhjUKgYqdXaMiO2Oa/8UYkfNlakdoWSvHDhCZzWtBLRaeecJ+2ClVNhxQRYPh6WjoWtK6Hvy3DCJRnGXa98cRKKFmL0wvX0b1Vt/4aoKKjZJbiGKUkQnUEvvYgcl66++mqWLFlCy5YtcXfKlSvHl19+ydlnn80vv/xCo0aNqF69Ou3btz9k33LlyjFw4EDOOeccUlNTKV++PD/++CNnnHEG5557Ll999RUvvvgiL7zwAjfddBPNmjUjOTmZLl268Oqrr/LQQw9x4YUX0rhxYzp06ED16rk7VUky9CPwoJkN2jvEPexFXwKcCIwDzs2sAXe/IovHGg5cBPxiZk2AZkcftoiISORYfl7ttlWrVr53BeCs+teQ2bz9+xImP9iDooXTfD8x/8fg/t6XfAZ1Tkl33x17khk0Zin/Hb6Iddt20yaxDHUqFOP9sUt59ZIT6dWkYpbj+Gzicu76ZCqvXNyS3k0rpV9p8Qj43+nsPuNlfi50MkOmr2TYnDVs35NCySKx9GhUgd5NKtKpihG1ZCSLJ3xH7LJR1PRlACTHFCU6sSNWszNUbR3MsV8+PkjKV03fP2y+ZDWociK0uCiYj38YNw2axKSlGxl1X/cDv5SY+WUwRP6qH6FamyxfCxHJ2OzZs2nYsGGkwzgupHctzWyiu+t2XNnooEXi7gMuA/YAQ9z9fjNrAHwMpADfApdkdZE4MzsbeBEoB2wCprh7z4MWiZsNVAFucvcMPyQUrlTXK13+3FGdo8jhLHnitEiHICI5LKc+QxSoHnSALnXLMXD4IsYsWs/JDSvs35DYCWLigkT9oAR9664k3hn9B2+MXMyG7XvoWCeBl7qfQLtaCSSlpDLpj4088vVMOtcte2DSn4GklFSe/3k+jSqVoGfjTJL6Sf+DwiUp3PQc+hSKp0/TSuxKSmHE/HUMnb6S72eu4tOJyyleOIb4wiVYvaUvzatdzt0dStEpdi4xS0bAkpHwY5pbyMUWhSotocMtUKUVVG0V3DLtCLSvncC301eyZP0OapbdPweVGh2Dn0tGKEEXESmg9ibn4fMngCcO2j6HA3u4HziCtr8AvkinfCdwwREHKyIikscUuAS9VWJpisRGM3ze2gMT9NgiwRDt+T9A7yeBoMd84PBFvPX7EjbvTKJb/XLc0r0uJ9bYv0JwbHQUj53dhH6vjOb5n+dzf5/D93R9NnE5Szfs4PXLWmV8q7MdG2DWYGh5GRTaP288LjaaHo0q0KNRBfYkpzJq4TqGTl/Fum27eercRDrXLRv2ajeGJucEO21dBSsmBSvAl2sAURms4J5FaeehH5CgFysH5RrCkt+h813HdAwREREREZGCpsAl6HGx0bSrVebQheIgmIc+/wdYv5BlVolr3pnAnFVb6dGoArd0r0OzqqXSbfPEGmW4oHU13hi5mHNaVqFBxTQrq69bAMk7g3sNEyws9+IvC2herRQnNyyfcaDTPoaU3UGCnoFCMVF0q1+ebvUzaQeCHvIGfTKvcwRqlS1KhRKFGbVwHRe1PWiuZ2KnYBE7zUMXyTaH3BpSjlh+ns5VEJhZT+DJg4oXu/vZkYhHREQkUgrUKu57dalXjiXrd/DH+u0HbqjbA4DFoz/nzJdG8uemnbxzZRteu6xVhsn5Xn/p1YCSRWJ54IsZpKY6JO2Enx6B/7QNVlrfshKAj8cvY8WmndzZo17GH7jdg+HtlU+ASnlvnRszo32tBMYsWn/oh97ETpC0Hf6cEpHYRI43cXFxrF+fzv81yTJ3Z/369bo9Wx7m7t+7e4uDHkrORUSkwClwPegAXcPbrQ2ft5ZL26e5j2+pGmwuWotl4waTUKoNr1/WisS0Q7gzUbpoIe7r3YB7P53GiO8+ouv8x2HjEmjSD2Z/Az89xK4zXuGlYQtoVaM0XeqWzbixFRNhzSw4/bljOMuc1aF2Wb6c8ifz12yjXoXi+zccMA+9dWSCEzmOVK1aleXLl7N2bTqjfiTL4uLiqFq1aqTDEBEREclUgUzQa5YtStXSRfht3joubZ8IBEPPH/xyJrU3N+SKmB/44urmFC+RteR8r3PrFaJSqYF0HvcrKaVrE33518G89l8eheFP8VNsT1ZviePZ81tkPlx14tvBYm5NM737TESlnYd+QIJerFwwz33JSOh8Z4SiEzl+xMbGUrNmzUiHISIiIiK5oEAOcTczutYrx+iF69iTnMqarbu46LWxfDRhGSWb9SGWJIr/OSrrDaamwsS3ifpPazruGcULKf34e6VXg+QcoNOdpJaoQt2J/6BDzVJ0qJ1J7/nurTDjc2hyNhQunnG9CKtWJp6qpYswauG6QzcmdoJlY4N56CIiIiIiIpIlBTJBh2Ae+vY9Kfxv1BL6vvQ7s/7cwksXncD555wHhYoFi8VlxZrZ8FZv+Po2qNCUqBt+Z3uHe3h/0lomLNkQ1CkUz0/VbqM+S3i8xmHu2z7js2AOd8sBx3R+uSGYh74hmHOfVmIn2LMNVk6NTGAiIiIiIiL5UIFN0DvUTiAmynhsyGyizPj0hvac3qwyxBSCWt2C+6EfblGm2d/Af7vCurnQ92UY8A2Uq8dtJ9elSqki/O2LGSSlpLJtdzJ/mZXIzMItqDHladieTq/zXhP/B+UbBfcnz+M61Elg884kZq3ccuCGGp2Cn0tG5H5QIiIiIiIi+VSBTdCLx8VyZvPKdK1XjsE3d6Rx5ZL7N9Y9FbYsD3rHMzLxbfj40uD2aTeNhxMugXBeeXyhGB46oxFzV2/lrd8X89bIxWzcmUzUaU/Bnu3w8z/Sb3PVdPhzUnBrtXxwS6X2tYKh+mMWrT9wQ9p56CIiIiIiIpIlOZagm1mcmY0zs6lmNtPMHgnLzcweM7N5ZjbbzG5NU/6CmS0ws2lm1jKnYtvrmfNb8L8r25BQrPCBG8LbraU7zN0dfvt3MKS99slw+eAgIT3IqY0rckrD8jz743wGjljEKQ3L07BZG2h7PUx6B1ZMOrTtSe9AdGFodn42nF3Oq1gyjlplizJq4fpDNyZ2gqVjNA9dREREREQki3KyB3030N3dmwMtgF5m1g4YAFQDGrh7Q+DDsH5voG74uBZ4JQdjy1yJykHP+PwfDyxPTYEh98Cwx6DZBXDhB1Ao45XeHzqjMY6zdVcyd/SoFxR2/QsULRe0k5q6v3LSTpj2ETQ6E+LL5MBJ5Yx2tRMYt3gDySmpB26o0fGQeegfjFvKk9/NyeUIRURERERE8occS9A9sC18GRs+HLgB+Ie7p4b11oR1+gLvhPuNAUqZWaWciu+w6p4KS0fDrs3B6+Td8OmVMP416HALnPUKRMdm2kS1MvE8e14L/tan4f4h9HEloMc/YMUEmPrB/sqzBgfHanlZDp1QzuhQO4Ftu5OZvmLzgRsS985DD4a5fzPtT/76+XT++9tCtuxSr7qIiIiIiMjBcnQOuplFm9kUYA3wo7uPBWoD55vZBDMbamZ1w+pVgGVpdl8elh3c5rXhvhPWrl2bc8HXPRU8BRYOg11bYNC5MOtL6PFPOPVRiMrapevdtBLXdKl1YGGz86FqG/jpIdi5KSib9D8oUwsSO2fraeS0drXC+6EfMg+9PJStD0tGMm7xBu78aCqVS8aR6jB+8YYIRCoiIiIiIpK3xeRk4+6eArQws1LAF2bWBCgM7HL3VmZ2DvAmkOWs1N0HAgMBWrVqdZhl1o9BlVYQVwqmfggjnoY1s+Ds/0LzC4697ago6PMUDOwGvz4Bra+CP36HUx7OF4vDpVW2WGHqVyjO6IXrubFbnQM3JnYideqHXL9gLFXLFOH9q9vR5alhjF64npMbVohMwCIiIkDTKiWZ8MRpkQ5DRETkALmyiru7bwKGAb0IesY/Dzd9ATQLn68gmJu+V9WwLDKiY6DOyTBvKKxfABd+mD3J+V6VW0CrK2DcQPjh7xAVA80vyr72c1H72gmMX7KBPckHzkPfUrEdUUnbaRq9mLcHtKFiyThaVi91aG+7iIiIiIiI5Ogq7uXCnnPMrAjQA5gDfAmcFFbrCswLnw8GLgtXc28HbHb3lTkVX5a0vCy4Xdhlg/ev7J6duv89mJM+byjU6wXF82evcvvaCexKSmXKsk37ynbsSebmUXEAPN5yC9UT4gHoULsss1ZuYdOOPZEIVUREREREJM/KyR70SsAwM5sGjCeYg/4N8ATQz8ymA48DV4f1hwCLgAXAa8CNORhb1tTqBjeNhWqtc6b9+DJw8oPB81ZX5swxckG7mgmYwejwdmvJKanc8v5kRq6MZnvxWlTeNHFf3fa1E3CHMYs0D11ERERERCStHJuD7u7TgBPSKd8EHDLpy90duCmn4smzTrwCqreH8g0jHclRKxkfS+PKJRi1cB23nlyHhwbP5Oc5a3j0rCYUXdcNpn0CKckQHUPzqqUoEhvN6IXr6NWkYqRDFxERERERyTNyZQ66ZMIsXyfne7WvlcDkpZt47qf5DBq7lOu71uaSdjWC263t2QqrgvuhF4qJolVi6fTnoackw7wfgvvNi4iIiIiIFDBK0CVbdKhdlj0pqTz/83zObF6Ze3vWDzbUOPB+6Hvrzlu9jbVbd+9vwB2G3gvv94e5Q3MxchERERERkbxBCbpki9Y1y1A4Joq2NcvwVP9mREWFt4srXgHK1jsgQW9fO7h3+pi0vejjBsKEN4Lni4fnVtgiIiIiIiJ5Ro7eB10KjmKFY/j21s5ULV2EwjHRB26s0RGmf7pvHnqTyiUoXjiGUQvXc0bzyjD/R/juPmhwOuzeCktGROYkREREREREIkg96JJt6pQvRlxs9KEb9s1DnwZATHQUbWqWCXrQV8+CT66ACk3gnIFQswusmQXb1+Vy9CIiIiIiIpGlHnTJeYlp5qFXaQkEw9ynzJlP8qCbiSlUFC78EAoVDRL0vXUbnxWZeEVE5Lg3fcVmEu/7NtJhSB615IlDbjgkIpIr1IMuOa94RUioe+BCcTWK8t9Cz8L2tXDhB1CySrCh8gkQW1TD3EVEREREpMBRgi65I7ETLB0dzEN3p+H4B2gVNY/3K92/r1cdgOhYqN7ugGReRERERESkIFCCLrkjsRPs3hLMQx/xf9j0j/mqzJX8d11T3P3AujU7w9o5sG1NZGIVERERERGJACXokjtqdAx+/vQw/PIoNDufza1uZcWmnSzbsPPAuol756FrmLuIiIiIiBQcStAld5SoBAl1YPFvUK0dnPki7WuXBWD0ooNWbK/UHAoV1zB3EREREREpUJSgS+5pcDqUqQ0XDIKYwtQpX4yyxQozauH6A+tFx0CN9rBYPegiIiIiIlJwKEGX3NPjEbh5PBQNes7NjPa1Exi9cP2h89ATO8P6+bBlZQQCFRERERERyX1K0CV3RUUf8LJD7QTWbN3NonXbD6y3997pf/yeS4GJiIiIiIhElhJ0iaj2tRIADh3mXqk5FC4Ji4dHICoREREREZHcpwRdIqpGQjyVS8Yx5uAEPSoaanTQQnEiIiIiIlJgKEGXiDIz2tVOYPSi9aSmHjwPvRNsWAhb/oxMcCIiIiIiIrlICbpEXIfaZdmwfQ/z1mw9cEPNzsFPreYuIiIiIiIFQI4l6GYWZ2bjzGyqmc00s0cO2v6CmW1L87qwmX1kZgvMbKyZJeZUbJK3tK8dzkNfcNAw9wpNIa4ULAkS9E079nDbh5MZNPaPXI5QREREREQk5x02QTez2mZWOHzezcxuNbNSWWh7N9Dd3ZsDLYBeZtYubKcVUPqg+lcBG929DvAs8GSWz0LytSqlilAjIZ7Riw6ehx4FNTrCkhHMW72VM1/6na+m/Mm/v5vLjj3JkQlWREREREQkh2SlB/0zIMXM6gADgWrA+4fbyQN7e8hjw4ebWTTwFHDvQbv0Bf4XPv8UONnMLAvxyXGgfa0ExixaT8rB89BrdoaNS7jx5a/YmZTCA6c1ZPPOJD6ftCIygWbRrqSUQ+/tLiIiIiIikomsJOip7p4MnA286O73AJWy0riZRZvZFGAN8KO7jwVuBga7+8qDqlcBlgGEx9sMJGTpLCTfa187ga27kpn155Z9ZampzqA1NQA4vcRCvr65E1d1qknTKiV56/fFhy4ql0fsSkqhy7+H8fevZkQ6FBGRDJnZqBxsu384vS01HDWXUb1fM9t+UN0BZvZS+Px6M7ssfN7AzKaY2eRw1N+tZjbbzAZlz9mIiIjknqwk6ElmdiFwOfBNWBablcbdPcXdWwBVgTZm1gXoD7x4FLECYGbXmtkEM5uwdu3ao21G8pj990NfB8D23cnc9P4kHhiVwrboktxcayUVS8ZhZlzZKZGFa7fz2/y8+e8/bM4a1mzdzXtjljJs7ppIhyMiki5375CDzc8AzgGG50Tj7v6qu78TvjwL+NTdT3D3hcCNQA93vzgnji0iIpKTspKgXwG0Bx5z98VmVhN490gO4u6bgGHASUAdYIGZLQHizWxBWG0FwfB5zCwGKAmsT6etge7eyt1blStX7kjCkDysfIk46pQvxuhF61m2YQf9XhnF9zNXcX+fxhSt14WYP37fV/e0ppUpX7wwb45cHMGIM/b55BWUL16YehWK8ZdPp7Fpx55IhyQicoiDFmr9i5lNDxd2fSIs29e7bWZlw7/bWeLus919bjrHLGJmH4Y93F8ARQ4T4xVmNs/MxgEd05Q/bGZ3m1kf4HbgBjMbZmavArWAoWZ2R1bjFRERySuykqD3cPdb3f0DAHdfDOw63E5mVm7vYnJmVgToAUx094runujuicCOcFE4gMEEvfQA5wK/uCbxFih756Gf+dJI/ty0k7euaMM1XWphiV1g81LYGKzeXigmisva12DE/HXMW731MK3mro3b9/Dr3DX0bVGZZ85rwYbte3jwq5mHVkxJgl2bcz9AEZGDmFlvgnVg2oYLu/47Bw93A8Hf/obAQ8CJmcRVCXiEIDHvBDQ6uI67DwFeBZ5195Pc/XrgT+Akd382nTb3jcJL2aHfwSIikvdkJUG/PJ2yAVnYrxIwzMymAeMJ5qB/k0n9N4CEsEf9TuC+LBxDjiMdaiewKymVhGKF+ermTnStF46QSOwU/Fyy/37oF7WtQeGYKN76fUnuB5qJb6avJCnFOeuEKjSpUpJbutdl8NQ/+XbaQUsufP83eKElbNMQeBGJuFOAt9x9B4C7b8jBY3UB3guPMw2YlkndtsCv7r7W3fcAHx3rwdOOwouOL3mszYmIiGS7DBN0M7vQzL4GaprZ4DSPYcBh/3i7+7RwPlgzd2/i7v9Ip06xNM93uXt/d6/j7m3cfdHRnpTkT6c2rshz57fgixs7ULNs0f0byjeE+LKweH+CXqZoIc5pWYXPJy1nw/Y0Q8i3roZFv+Ze0Af5cvIK6lcoTqNKJQC48aTaNKtakge+nM6areHAk5QkmP4J7FgHQ+6OWKwiIoeRzP7PCXGZVTSzt8KF2obkfFgiIiLHr8x60EcBTwNzwp97H3cBPXM+NClooqOMs06oQvG4g9YgNAt60ZeMhDSzHq7oWJPdyal8MG5pULByKgzsCu/0hRUTczHywNL1O5j4x0bOOqEKe+8QGBsdxTPnNWf7nhTu/3xGcOu1xcNh5wZI7AyzvoKZX+Z6rCIiafwIXGFm8QBmViYsX8L+IejnZtaAu1/h7i3cvc9hjjUcuCg8ThOgWSZ1xwJdzSzBzGIJFpkVERE5rmWYoLv7H+7+q7u3d/ff0jwmhbdBE8k9iZ1gy3LYuH9huHoVitO5blneGb2EpNlD4M3eYNFQpDQM+1euh/jF5BWYQd8WlQ8or1O+OPf2rM9Ps1fz6cTlMPMLKFQcLvwQKrWAb++C7Yeshygikivc/TuCdWAmhLdG3Tu05/8IFl+bDJQ9kjbN7GwzW06wyOy3ZvZ9uOkVoJiZzQb+AWT4bWp4O9aHgdHA78DsI4lBREQkP4o5XAUzOwd4EigPWPhwdy+Rw7GJ7FezS/Bz8QgoU2tf8ZUdazLs3UeJ+ehdqNQMLvoIpn4IPz0ES8dA9XYHNDN75RZu/WAyiWWL0qdpRU5uWIESB/fYHwV358spK2hXM4HKpQ5dlPjKjjX5YdZq/vX1NPrFfU1Ugz5QuBic9R/4b1cYei+c+8YxxyEiklUHTTN7AnjioO1zOLCH+4EjaPsL4It0yncCFxxBO28Bb6VT/nB6z8PXiVltX0REJK/JyiJx/wbOdPeS7l7C3YsrOZdcV7YeFC0fDHPfKzWFbouf4R+x/2NsoTb4gG+heEVocw0ULQe/PHpAEzNWbObC18awaWcS05dv5o6PpnLiP39kwFvj+Hj8MjZuP/rboU1ZtonF67Zz9glV0t0eFWU83b85bXwaUbs3kdrwrGBDhcbQ5R6Y8SnMzmwNRREREREROd4dtgcdWO3uGlYmkbVvHvqIYB560g747Bps7rfMrnEJF83txccr99AqEShUFDrfBd/dB4t+g1pdmbJsE5e9MZbicbF8cE07qpYuwpTlm/huxiqGTF/JvZ9NI/oLo32tBHo1qcjpzSpRKr5QlsP7cvIKCsdE0atpxQzrVCsTz1+qzWbL8iJ8tb4Ol+7d0PlOmP01fHMH1OgA8WUybENEJJLMrCfBqLq0Frv72cfY7lig8EHFl7r79GNpV0REJL/JSg/6BDP7KFzV/Zy9jxyPTORgNTvD1pXwxyh4qw/MGwq9n6LGxc9TvEhh3vx9//x0TrwCileGYY8xccl6Lnl9LCXjY/nounZUT4gnKspoWb009/dpyIh7T+KbWzpxXZdarNi0kwe+nMHZ/xnFjj1ZW2ohKSWVr6et5JRGhxkun7yHmuuGMa1YJx77fiGL1m4LyqNj4ayXg4XjvvvrMVwgEZGc5e7fh4vBpX0cU3Ietts2nXaVnIuISIGTlQS9BLADOBU4I3ycnpNBiaQrMZyH/k5fWDcfLvgA2l5LfKEYLmxTne9mrGL5xh1Bndg46HI3LBvLwDcHUq54YT6+rj1VS8cf0qyZ0aRKSe7t1YBf7urKOxfVo/T6ybz2+fewfR2kZJ6oD5+3lg3b93BOBsPb91n4C7Z7C417DKBwTDR3fjyVpJTUYFul5tDpTpj2Icz7PvN2RERERETkuHTYIe7ufkVuBCJyWAm1oVQNSNkTLAZXqfm+TZe1r8FrIxbxv1FL+NtpjQAYXaI31fxx7oz5hFLX3E6Fkocu3nYw27ycLj/1pUvhFcENBueEGwqXhPjSUKRMsEp82Xpw8oNQKJ7PJ6+gdHwsXeqVy7zxmV9AXElKNzmVf0Wt56b3J/HE0Dn8/fQgXrrcA3O+ga9vgxvHQJFSR36NREREREQk3zpsD7qZ1TOzn81sRvi6mZlleSVXkWxjBlcMhRtHH5CcA1QuVYTeTSry4fhlbNudzPB5axnw7lQ+jL+Q+qkLqfDnz4dvf/t6eO8c2L2VPWe9xmNxd/B0zFXs6ngPND8fqrYOkvMd62HsKzDmP2zZlcRPs1ZzRvPKxEZn8t8paRfMHQINzoCYQpzWrBIDOiTyxsjFDJ2+MqgTUwj6vgzb1sAPfzuGCyUiIiIiIvlRVhaJew24B/gvgLtPM7P3gUcz3UskJ5TMeBj5lZ1q8s20ldz32TR+mLma2uWLccUV98Hb3wb3Ra/fB6IySKJ3b4P3+8OmpXDJ5xRK7MhpCZvo98oo/txYhafPO/ALAT64CEY+x7CoHuxOTs1w9fZ9Fv4Cu7dA4/1TNe/v05ApyzZxz6fTqF+xOLXKFYMqLaHjrTDy2aBunVOyemVERERERCSfy8oc9Hh3H3dQWdZWzxLJRS2rl+aE6qX4ZtpK6lcszgfXtCWhRFHo9ldYMxNmHXJL3kDyHvjoEvhzCpz7FiR2BKBFtVLc2K02n01azg8zVx24zykPQdJ2Co1+hppli9KiWqnMg5v5RdD7XqvrvqJCMVG8fHFLYqONGwdNYueelGBD1/ugbH0YfBvs2nJ0F0NERERERPKdrCTo68ysNuAAZnYusDJHoxI5Sg+c1pD+J1blvavb7r9NWpNzoFwDGPb4oQu+pabAF9fBomFw5gvQoM8Bm2/pXpdGlUpw/xfTWb9t9/4N5eqzvfHFnLztay6v75hZxkEl7QyGtzc8I1ixPY0qpYrw3AUnMHf1Vh74cgbuHixw1/flYMX6r28LbisnIiIiIiLHvawk6DcRDG9vYGYrgNuBG3IyKJGjdWKNMjzVvzkli6RJhKOi4aT7Yf18mP7J/nJ3GHovzPwcevwDTrjkkPYKxUTxzPnN2bIzmb99ESbQoU+LX0IyMfTf8mbmQS34CfZsO2B4e1pd65Xj1u51+WzScj4avyworNYauj8QxDb+9Syfv4iIiIiI5F+HTdDdfZG7nwKUAxq4eyd3X5LjkYlkpwZnQMWm8NsTkJIUlP32ZJD8drgVOt6W8a4VS3BHj3p8N3MVX035EwB3Z9Cs3Xxb7ByKzh8MKyZmfOyZXwSrv++9TVw6bj25Lp3rluXBwTOZsWJzUNjxdqh7Knx/P6yYdKRnLCIiIiIi+UyGCbqZXRL+vNPM7gSuA65J81ok/4iKgpMegI1LYMogGPca/Po4tLg46D0/jGu71KJl9VI8+NUMVm3exayVW5i3ehvJ7W+F+LLww4PpD0XfswPmfgeNzoTojNdkjI4ynju/BQlFC3HDoIls3pEUxHz2f6FYBfjkcti58RgugIiIiIiI5HWZ9aAXDX8WT+dRLIfjEsl+9XpClVbw40Mw5J5gVfczXghu33YY0VHG0+e1ICnF+ctn0/h80gpio41eJ9SBbvfBHyNh/g+H7jj/B0jaDo3POewxEooV5qWLWrJy0y7u+mRqMJw+vgz0fxu2rIQvb9J8dBERERGR41iGXXru/t/w6U/u/nvabWbWMUejEskJZtD9b/Du2VCjI5z7Zqa92gerWbYof+3TgAe/msnvC9ZxUoPylC5aCE4cAGNeCRL/OqcEc973mvkFFC0XHC8LTqxRmvv7NOQf38ziv8MXcX3X2lC1FZz6T/juPhj9MnS4+QhPXEREDta0SkkmPHFapMMQERE5QFaykxeBllkoE8n7aneHK4ZCxWYQW+SId7+kbQ2+n7mK3xes33/v8+jY4LZrH18GU96HlpcG5Xu2w7zvocVFR/RFwBUdE5n4x0ae/G4Or49YFBR6bf5tbenyw4Nc+7MzzRoAkJhQlF5NKtK7aSWqlDry8xERERERkbwjw6zBzNoDHYByB805LwFEp7+XSD5Qo8NR7xoVZTx7Xgs+Gr+MHo0q7N/Q8Eyo2hqGPQZN+kGh+CA5T96Z4ertGTEznjy3GYll49m0I2lf+ciUR2g+70qe8Rd4ud6bbIsuxeSlG3n029k8+u1smlctSe+mlejdpCI1EopmcgQREREREcmLMuvWK0Qw1zyGYN75XluAcw/XsJnFAcOBwmEbn7r7Q2Y2CGgFJAHjgOvcPcmCG0k/D/QBdgAD3F1LV0ueU75EHLecXPfAQjPo8U94qxeMfQU63xUMby9W4ai+EChWOIZ7ejY4dMOfH8Abp/K33c/BRZ9AVBSL121n6IyVfDdjFU8MncMTQ+fQqFIJejepyBnNK5NYVsm6iIiIiEh+YH6YRafMrIa7/3HEDQcJd1F332ZmscBI4DagDDA0rPY+MNzdXzGzPsAtBAl6W+B5d2+b2TFatWrlEyZMONLQRHLOBxfB4uFww0h4uS20vAz6PJW9x5jwJnxzB3T/O3S5+4BNyzbs4PuZqxg6YxUT/9hIbLTx4bXtObFG6eyNQeQ4YWYT3b1VpOOQ3KfPECIicixy6jNEVibG7jCzp4DGQNzeQnfvntlOHmT+28KXseHD3X3I3jpmNg6oGr7sC7wT7jfGzEqZWSV3X5nlsxGJtFMehv+0g/fOheRdRzy8PUtOvAL+GBUMp0/ZE8yBT9oFybuolryLq5N3cXW5XewstoOfl+zh74N28t5tZ1CmaKHsj0VERERERLJNVhL0QcBHwOnA9cDlwNqsNG5m0cBEoA7wsruPTbMtFriUoFcdoAqwLM3uy8OyAxJ0M7sWuBagevXqWQlDJPeUqxcsEjfxbSheCaq1y/5jmMHpz8HaufDbk3sLg0XvYuKCR2wcRWLi6MNCWu+eyMv/28j9119FdNThbyknIiIiIiKRkZUEPcHd3zCz29z9N+A3MxuflcbdPQVoYWalgC/MrIm7zwg3/4dgePuIIwnY3QcCAyEYnnYk+4rkim5/hemfQdNzISoqZ45RuBhc+2uwUnxMXNCLns793KNWzaDIOxfx19X3MOqdJXS+/J9Zuu+7iIiIiIjkvqxkD3uXkV5pZqeZ2QkE88izzN03AcOAXgBm9hBQDki7OvwKoFqa11XDMpH8pXhFuGViMEc8J0VFQ1wJiCmUcdJdsQnFbx3BjBKd6bzkRda93g92bszZuERERERE5KhkpQf9UTMrCdxFcP/zEsAdh9vJzMoBSe6+ycyKAD2AJ83saqAncLK7p6bZZTBws5l9SLBI3GbNP5d8q3iFw9fJJRZXkvo3f84rz93H1SveJPmVzsRc8C5UPiHSoYmIRMz0FZtJvO/bSIeRo5Y8cVqkQxARkSN02B50d//G3Te7+wx3P8ndT3T3wVlouxIwzMymAeOBH939G+BVoAIw2symmNmDYf0hwCJgAfAacOPRnJCIHKpI4Rh6Xvkwl/sjbNy2C3/jVBj/BhzmLg4iIiIiIpJ7DtuDbma1CO5P3h5IBUYDd7j7osz2c/dpwCFddO6e7jHD1dtvykLMInIUapUrxiXnnkuPQeX4pPxb1P32Tlg6Gs54HgrpXukiIiIiIpGWlTno7wMfAxWBysAnwAc5GZSI5Iw+TStxTsdmnLrmZuY0ug1mfAZf3qCedBERERGRPCArCXq8u7/r7snh4z3S3A9dRPKXv/ZpQMsaCfSb0YF1be+DWV/B+NcjHZaIiIiISIGXlQR9qJndZ2aJZlbDzO4FhphZGTM7otXcRSTyYqOjeOmiEygcG83Fs9qQUvsU+P5+WDk10qGJiIiIiBRoWUnQzwOuI7hN2q/ADcAFwERgQo5FJiI5plLJIrxwwQnMW7uDxwvfBvFl4ZMBsGtLpEMTERERESmwsrKKe81MHrVyI0gRyX6d6pbl2s61eH3SVia1+T/Y+Ad8fZvmo4uIiIiIREhWetBF5Dh1R4961KtQjOuHF2Znp7/AzM9h4luRDktEREREpEBSgi5SgMXFRvPMeS3YsH0Pf11zCtTuDkPvg1XTIx2aiIiIiEiBowRdpIBrUqUkt3Svy5dTV/FTg39CkdLBfPTdWyMdmoiIiIhIgZJhgm5mLQ96nGBm1XIzOBHJHTeeVJtmVUtyz9A/2dTnVdiwCL65Q/PRRURERERyUWY96E8f9HgG+MbMZptZi1yITURySWx0FM+c15zte1K4e3xxvOt9MP0TmPROpEMTERERESkwYjLa4O4npVduZq2AF4AuORWUiOS+OuWLc2/P+jz67Ww+a3wB59YaBUPvhaqtoELjSIcnIiIiInLcO+I56O4+ASiWA7GISIRd2bEmbWqW4ZGv57Dy5BchriR8fBns3BTp0EREREREjntHnKCbWQVAE1NFjkNRUcbT/ZuT4s7dQ/8ktd9bwf3RP70SUlMiHZ6IiIiIyHEtwyHuZvYihybiZYAOwG05GZSIRE61MvE8cFoj7v9iOu81bsxlp/0ffH0b/Pgg9Hws0uGJiIiIiBy3MkzQgQkHvXZgPXCnu6/JuZBEJNIubFON72eu4l9DZtP5tv7UbDMTRr8UzEVvcVGkwxOR40i48Gxldx8Svn4Y2Obu/3eU7Q0AWrn7zdkVo4iISG7JLEEfApRz91lpC82skZm5u6/N2dBEJFLMjCf7NePUZ3+j+9O/Usi68GbMKFp/cQsXf7KGyV5vX93SRQvx9hWtaVy5ZAQjFpF8rAXQiuBzh4iISIGW2Rz0F4Gy6ZQnAM/nTDgikldULBnHe1e35cZutbm6a10mtXmG7XEVeTv+ee5qV5Trutbiuq61ALjzo6nsTs6/c9SXbdjBk9/NYdLSjZEORfI4M0sMbzf6mpnNNLMfzKyImdU2s+/MbKKZjTCzBmYWbWaLLVDKzFLMrEvYznAzq5vBMYqZ2VtmNt3MpplZv7D8FTObEB73kTT1nzCzWWHd/wvLypnZZ2Y2Pnx0DMu7mtmU8DHZzIpnEEOlMMYpZjbDzDqH5dvM7Kkwhp/MrI2Z/Wpmi8zszLBOXJr4J5vZSRmVm1kh4B/A+eGxzg9DaJSm3VvTxHWJmY0L6/7XzKLD8ivMbJ6ZjQM6Hv2/sIiISGRl1oNex92HH1zo7iPM7JUcjElE8ohmVUvRrGqp/QVtPoPXT+GGlQ/CFUOhUDwn1ijNlW9P4Nkf53Nf7wYRi/VoLF63nZeHLeCLyStISXVeH7GIR89qwvmtq0c6NMnb6gIXuvs1ZvYx0A+4Arje3eebWVvgP+7e3czmAo2AmsAkoLOZjQWqufv8DNr/O7DZ3ZsCmFnpsPxv7r4hTEp/NrNmwArgbKCBu7uZlQrrPg886+4jzaw68D3QELgbuMndfzezYsCuDGK4CPje3R8LjxcflhcFfnH3e8zsC+BRoEd4jv8DBgM3Ae7uTc2sAfCDmdVLrxyoBzxImiHp4RD3BsBJQHFgbvi5ow5wPtDR3ZPM7D/AxWb2I/AIcCKwGRgGTE7vpMzsWuBagOgS5TI4dRERkcjJrAc93W/VQ7GHazj8pnycmU1N+22/mdU0s7FmtsDMPgq/PcfMCoevF4TbE4/oTEQk55VvAP1eh5VTYfDN4E73BhU4v1U1Bg5fyMQ/NkQ6wiyZv3ort304mZOf/pWvp/7JZe1r8P3tXWhbM4G/fDadhwfPJCklNajsDgt+hvf6waD+sGdHZIOXvGCxu08Jn08EEgkWUP3EzKYA/wUqhdtHAF3Cx+NAJ6A1MD6T9k8BXt77wt33Du04z8wmESSfjQmS4s0ESfYbZnYOsCNNGy+F8QwGSoQJ+e/AM2GvdCl3T84ghvHAFWGy3NTdt4ble4DvwufTgd/cPSl8nhiWdwLeC2OfA/xBkIhnVJ6eb919t7uvA9YAFYCTCZLw8eF5nQzUAtoCv7r7WnffA3yUQZu4+0B3b+XuraLjNS1HRETynswS9AVm1ufgQjPrDSzKQtu7ge7u3pxgflkvM2sHPEnwrX4dYCNwVVj/KmBjWP5sWE9E8pr6veCUh2DGZzDiaQAeOL0hlUoW4a6Pp7JjT0af9yNv1p9buHHQRE59bjg/zlrNNZ1rMfIv3XnojMbUr1ict69ozZUda/L2qCVc/cZIto95C/7THt47J/hSYv6PwX3hU5IifSoSWbvTPE8huMPJJndvkebRMNw+HOgMtCGYY10K6EaQuGeZmdUk6P0+2d2bAd8CcWGC3Qb4FDid/clzFNAuTTxV3H2buz8BXA0UAX4Pe7IPEY6g60LQQ/+2mV0Wbkpy9713eEndey3cPZXMR+UdqYOvcQxgwP/SnFN9d384G48pIiIScZn9Mb0d+NbMziPoIYBgEZf2BB8CMhX+Ad8WvowNHw50Jxg6B8FwuIeBV4C+4XMIPmi8ZBasRpe1UxGRXNPxdlg9E375J5RvSPEGp/FU/2Zc9NpYnhw6h0f6Nol0hAdYvnEHDw+exU+zV1O8cAw3davDlZ1qUqZooQPqxURH8WD38pyzdRAV575L0T83syuhIXFnvQJN+sGU9+Gb2+HLG+Hs/0JU8B1nSqozfskGRi9cv7/nPQOnN6tMo8olcupUJTK2AIvNrL+7f2JmBjRz96nAOOBdYJG77wp7fq8j87+jPxIMB78d9g1xLwFsBzabWQWgN/Br2Cse7+5DzOx39n+B/gNwC/BU2EYLd59iZrXdfTow3cxaEwwln3NwAGZWA1ju7q+ZWWGgJfBOFq/HCOBi4JdwaHt1YG4m5XXJfNTeXj8DX5nZs+6+xszKhPuNBZ43swSCf4v+wNQsxioiIpKnZJigh/PomhIk03s/bf8GXOfuGc1ZO0A4b20iwbyxl4GFBL0Me7vYlgNVwudVgGXhsZPNbDPBgnTrDmpz3/yx6tU1T1QkIszgzBdh/UL4ZACUqk6HQkX5tWwUCyfA2g1VKJdQBgoVg8LFofkFUKZWREL9Y/12Lhw4hq27krnjlHoM6JhIySLpzNJZtwBGvwhTP6RJ8i42V+vGTSu7MmxtQ56JOYFeMYWh1RWwYz388k9SipRhVJ27GDpzNT/MXMW6bXswg5goyzCW5FRnzKL1fH6j1rA6Dl0MvGJmDxB8If0hMNXdd5vZMmBMWG8EcCHBkPCMPAq8bGYzCHqPH3H3z81sMkEyvYxgqDoECepXZhZH0MN8Z1h+a9jGNIK/9cOB64Hbw0XbUoGZwNAMYugG3GNmSQRftl+WQb30/IfgWkwHkoEB4XXIqHwYcF/45cXjGTXq7rPC6/uDmUUBSQTz6ceEQ/FHA5uAKUcQq4iISJ5iudFBHS5a8wXBwjdvh8PYMbNqwFB3bxJ+EOnl7svDbQuBtuH8s3S1atXKJ0w4+HbtIpJrtq4KhrlvXwd7tpG6exsLlq8mzndQtWgqUXt2wJ5tQXJ+/UgoFH/4NrPRwrXbuOi1MexJTuW9q9tmfCu4xcODOeZY8GVCuxuhfANWb9nFte9OZOqyTdx+Sl2u71qbUQvWEvPjA3TZ8AlPJZ3HW9H96N6gPL2bVKJb/XIULZzxwKQ3Ri7mn9/MYsitndWLnkeY2UR3bxXpOCT3Fa5U1ytd/lykw8hRS544LdIhiIgct3LqM0SGnyTNbCvBkPRDNhGMYM/yp0t33xR+Q94eKGVmMWEvelWC+W2EP6sBy80sBigJrM/qMUQkAopXhD5P7XsZBWxfupFer4zinEZV+b/+zYPk939nwM+PQO/cW1pi/uqtXPT6WNydD69tT/2KGYygXTUDPrw4+BLhssFQvMK+TRVKxPHRte24/4vpPPfTfP4zbCF7UlIpUbgfb5bcxD1bPub2Xm2JbdcrSzGd27Iq//5uDu+N/YN/nd00O05TRERERI4jmQ1xz8p8sAyZWTmCxWQ2mVkRgtuwPElw+5NzCYb/XQ58Fe4yOHw9Otz+i+afi+Q/J1QvzY3d6vDSsAX0bFyRHo26QNvrYeyr0OA0qNllX92UVGfCkg3MXrkl0zZjoqM4tVEFypeIy1IMc1Zt4eLXxhIVZXx4bTvqlM/g19mmZTDo3GAo/iWfHZCc7xUXG83T/ZvTqkYZZv65mVMaVqBDnQQK2ynw4cXEfnc3FE+AxmdnHlTybkquGs0dtVfy0eQNbO1Vn+JFCmW+jxzXzOwK4LaDin9395tyMYamBHPk09rt7m1zKwYRERHZL8eGuIf3Z/0fEE3Qsfaxu//DzGoRJOdlCG4Vc0k4By2O4EPCCcAG4AJ3z3S1eA1xF8mb9iSn0vfl31m7dRc/3NGVMrHJ8GonSEki+boRjFmRzNAZK/l+5mrWbdt9+AaBQjFRXNC6Gtd3rU3lUkUyrDdjxWYufWMshWOief+attQqVyz9ijs2wJu9gmH6Vw6FCo2P4kR3wLtnw4qJcPEnUPukQ48x/weYOyS4Vduebfs2JUfHEVOuLiTUhbJ1IaFO8CjXINenAhRkGuJecGmIu4iIHIuc+gyRK3PQc4oSdJG8a/bKLZz50kh6NKrAs+e3YMaYHznhpwv5kpO4c9dVFImNpnuD8vRqUpG2tcoQG5XxXR/Xb9/Na8MX89mk5ZjBuSdW45YTi1B54zhY9GswjL5Udea1fJBzv9pO8bhY3r+mLTUSiqbfYNJOeOcs+HMSXPI51Ox89Ce6cxO81Qc2LoHLv4YipYKEfO5QWDoaPBWKVYT6vaF+bzymMP/57HsqJS/n7Go7sfXzYdPSoB5AqRpw01iIzfhLCMk+StALLiXoIiJyLHJ9DrqIyLFoWKkEd/Sox7+/m8uvc39kx54UHih8BlfbV1Q/+Xwadz2XIoWis9RW6aKFePL0GtyTuID5Y76h/NTRVJ72JwApRRKIrtWFpIUjqP3l6TwQezodBjxD1YyS89QU+OxqWDYWzn3z2JJzCBLySz+HN06FN0+F1PAmFRWaQue7g8S8Uot9t2QzIKFrLe78fDrVL2xPq8QykLwbNiyGhb/A938NEvwm/Y4tLhERERHJd5Sgi0iOubZzLRau2Y4Z9GlakY6JJ8Eb82g19UHo2AMKlTl8I8snwA9/h2VjKesplI2NZ3fN9nyf3I+Xl1Rl5qYq9NxTmSk7z+C+2I84L/lreH8S9P43NDzoVtPuMPRemPMN9HoCmpyTPSdavCJc9iX8+gRUaQX1e0GpjG8DeWaLyjz27WzeG/NHkKDHFIbyDaBsPRj9Mkz5QAm6iIiISAGkBF1EckxMdBRPn9f8wMKzX4XXTw4S5X6vZ7xz0i749XEY9QIUrwSd74Ra3aBqawrHFKYn0HLrbl4fsYh3x/xBxZIJtL3mHdg8Db6+HT66GOr3CRL1UtWCNkc8DeNfhw63Qrsbsvdky9SCcwZmqWp8oRjOaVmFD8Yt4++n7yahWOFgQ1QUNDsPfn8Otq5Od9E6ERERETl+ZTzpU0QkJ1RuAV3uhemfwMwv06+zYiIM7Bokqi0uhhtHQ/cHILFT0NscKle8MH/t05Cx95/Mt7d0pkKJOKjWBq77DXr8I5if/nJbGPUiTHoHfvknND0PTnkkF040cxe3q8GelFQ+nbj8wA3NLwzmo0//ODKBiYiIiEjEKEEXkdzX+c5gXva3d8K2tfvLk3fDz/+A13vAri1w8afQ9yWIK5lpc8XjYg+czx4dCx1vgxvHBEn9Dw/A4FuCHvi+L++bDx5J9SoUp03NMrw/bimpqWkW6yxXD6qcCFM/jFxwIiIiIhIRkf+UKiIFT3RsMNR991b45vZgbvifk2Fgt2AYevMLgl7zuj2O7Tila8BFH8F578CJA+C8dyEm79x7/JJ2Nfhj/Q5GLFh34IbmF8LqGbByWmQCExEREZGIUIIuIpFRvmEwbH3ON/DRJfDaycF9wy/6GM76T7A6enYwg0Z94YznIa5E9rSZTXo2rkBC0UK8N+aPAzc06QdRsTD1g8gEJiIiIiIRoQRdRCKn/c1QrW2QpDc7D24aA/V6RjqqXFM4JprzWlfj59mr+XPTzv0b4ssEK8FP/wRSkiIXoIiIiIjkKiXoIhI5UdFw4Ydw9c/BkPcipSMdUa67qE11HPhw3NIDNzS/CLavhQU/RyQuEREREcl9us2aiERWfJngUUBVKxNPt3rl+HD8Mm45uS6x0eH3pnV7QHwCTH0/6E0XkWzVtEpJJjxxWqTDEBEROYB60EVEIuzitjVYs3U3P81avb8wOhaa9oe5Q2HnxsgFJyIiIiK5Rgm6iEiEndSgPFVKFeG9sQctFtf8QkjZAzM+j0xgIiIiIpKrlKCLiERYdJRxYZtq/L5gPYvWbtu/oVJzKNdQ90QXERERKSCUoIuI5AHnta5GTJQxaGyaxeLMoMWFsHwcrFsQueBEREREJFcoQRcRyQPKF4+jZ+OKfDBuKZ9MWIa7BxuangcWpXuii4iIiBQAStBFRPKIv53WkEaVSnDPp9O4/K3xLN+4A0pUglonwbSPIDU10iGKiIiISA5Sgi4ikkdULlWEj69rzyNnNmbCkg30fHY474xeQmrzC2HzMvhjZKRDFBEREZEcpARdRCQPiYoyLu+QyPe3d6FljdI8+NVMLv09gdTYYjBFw9xFREREjmcxOdWwmVUD3gEqAA4MdPfnzawF8CoQByQDN7r7ODMz4HmgD7ADGODuk3IqPhGRvKxamXjeubINn05czj+/mcVnqa05a/oXWK9/E1OkeKTDE8n3pq/YTOJ930Y6jBy15InTIh2CiIgcoZzsQU8G7nL3RkA74CYzawT8G3jE3VsAD4avAXoDdcPHtcArORibiEieZ2b0b1WNn+7sypKqZxKbupMXXn6WwVP/ZNvu5EiHJyIiIiLZLMd60N19JbAyfL7VzGYDVQh600uE1UoCf4bP+wLveLB08RgzK2VmlcJ2REQKrPIl4rj76svZ8X9P03n7j/T/4EQKxUTRpW45ejepyCkNK1AyPjbSYYqIiIjIMcqxBD0tM0sETgDGArcD35vZ/xH04HcIq1UBlqXZbXlYpgRdRAo8i4omvvUltPrtSQZfVJkv/yjMdzNW8tPs1cREGR3rlKV3k4qc2rgiZYoWinS4IiIiInIUcnyRODMrBnwG3O7uW4AbgDvcvRpwB/DGEbZ3rZlNMLMJa9euzf6ARUTyqhYXYjGFafZtXx4sO4zf7+nElzd15KpONVm8bjv3fT6d1o/9xP99PzfSkYqIiIjIUcjRBN3MYgmS80Hu/nlYfDmw9/knQJvw+QqgWprdq4ZlB3D3ge7eyt1blStXLmcCFxHJi0onwnXDoWor+P5+7JUOtNg5jr/2achv93Tj21s7cVL98rz620JWb9kV6WhFRERE5AjlWIIersr+BjDb3Z9Js+lPoGv4vDswP3w+GLjMAu2AzZp/LiJykHL14ZLP4KKPg9fv94f3+mHr5tG4ckkePL0RKe68M3pJRMMUERERkSOXkz3oHYFLge5mNiV89AGuAZ42s6nAvwhWbAcYAiwCFgCvATfmYGwiIvmXGdTrCTeMhp7/gmXj4T/tYehfqB6/mx4NK/D+2KXs3JMS6UhFRERE5Ajk5CruIwHLYPOJ6dR34KacikdE5LgTUwja3wTNzodfHoVxA2Hax/yt8Y30mlWLL6es4MI21SMdpYiIiIhkUY4vEiciIjmsaFk447lgfnrFJtSY8ChjitzOnp//hW9fH+noRERERCSLlKCLiBwvKjaFy7+GK79ne/mWXL77A1KfaQxD74NNyw6/v4iIiIhElBJ0EZHjTfV2JFzzOedFP8vouE4w/jV4oQV8cT2smR3p6EREREQkA0rQRUSOQ4VjounYvjOXrL+CJRePgtbXwKyv4D/t4OPLIHl3pEMUERERkYMoQRcROU5d3K46hWKieH36Huj9BNwxEzrdESTqUz+MdHgiIiIichAl6CIix6myxQpzVovKfDZxBZt27IH4MnDyQ1CxGYx6EVJTIx2iiIiIiKShBF1E5Dh2Rcea7ExK4YNx4SJxZtDxNlg/H+Z9F9ngREREROQAStBFRI5jDSuVoEPtBN4ZvYSklLDHvNFZULI6jHohorGJiIiIyIGUoIuIHOeu6lSTlZt3MXTGqqAgOgba3whLR8Oy8ZENTkRERET2UYIuInKcO6l+eRIT4nlz5OL9hSdcCnEl1YsuIiIikocoQRcROc5FRRlXdKzJlGWbmLR0Y1BYuBi0ugpmfw3rF0Y2QMkTzCzRzGab2WtmNtPMfjCzImZW28y+M7OJZjbCzBqYWbSZLbZAKTNLMbMuYTvDzaxuBscoZmZvmdl0M5tmZv3C8lfMbEJ43EfS1H/CzGaFdf8vLCtnZp+Z2fjw0TEs72pmU8LHZDMrnvNXTUREJHspQRcRKQDOPbEqxeNiDuxFb3sdRMfC6Jez9Vibduzh4/HL2J2ckq3tSq6oC7zs7o2BTUA/YCBwi7ufCNwN/MfdU4C5QCOgEzAJ6GxmhYFq7j4/g/b/Dmx296bu3gz4JSz/m7u3ApoBXc2smZklAGcDjcO6j4Z1nweedffWYXyvh+V3Aze5ewugM7Dz4IOb2bXhFwETUnZsPprrIyIikqNiIh2AiIjkvKKFY7igdTXe/H0JKzbtpEqpIlC8IjQ7H6YMgpPuh6Jlj/k4Q6ev5O9fzWTdtt2s276bG7vVyYboJRctdvcp4fOJQCLQAfjEzPbWKRz+HAF0AWoCjwPXAL8BmS1scApwwd4X7h4O6eA8M7uW4HNJJYLEfxawC3jDzL4BvknTRqM08ZQws2LA78AzZjYI+Nzdlx98cHcfSPCFA4Ur1fVM4hQREYkI9aCLiBQQl3dIxN15Z/SS/YUdboHkXTDutWNqe83WXdzw3kRuGDSJCiUK06pGaQYOX8TWXUnHFrTktt1pnqcAZYBN7t4izaNhuH04QU91G2AIUAroRpC4Z5mZ1STo/T457Cn/Fohz9+Sw7U+B04G99wWMAtqliaeKu29z9yeAq4EiwO9m1uAIz11ERCTi1IMuIlJAVC0dT68mFXl39B9MXrppX/m9hdtSb8Qr3Di3HXssDgOaVClJn6YVOaFaaaKiLMM23Z3PJ63gH9/MYmdSCvf2qs+1nWsxZ9VWTn9xJG+OXMJtp6Q7HVnyhy3AYjPr7+6fWNBt3czdpwLjgHeBRe6+y8ymANcRJNMZ+RG4CbgdwMxKAyWA7cBmM6sA9AZ+DXvF4919iJn9DiwK2/gBuAV4KmyjhbtPMbPa7j4dmG5mrYEGwJxsuxIiIiK5QD3oIiIFyK0n1+XEGqWJMvY9vinWnxKpmzlp509EGSSnOu+O/oN+r4ym/RM/89BXMxi9cD0pqQeOCF6xaScD3hrPXZ9MpW75Ygy9rTM3dqtDTHQUTaqUpGfjCrw+chGbdxzUi77xD3itO/zw96M+D3fn59mrWbh221G38cf67Ue9bwFzMXCVmU0FZgJ9Adx9N7AMGBPWGwEUB6Zn0tajQGkzmxG2d1KY7E8mSKbfJxiqTtjWN2Y2DRgJ3BmW3wq0CheOmwVcH5bfHrY7DUgChh7jeYuIiOQ6c8+/U7BatWrlEyZMiHQYIiL5mzu8fgrsWA+3TISoaLbsSuKX2WsYOmMlv85dy+7kVMoWK0SPRhXp07QiS9Zt54mhc3DgL70acGm7Gof0tM9ZtYXez4/gpm51uLtn/aBw2Xj48ELYvhYwuOZnqHLiEYbrPPL1LN4etQSAehWK0btJJXo3rUj9CsVJMzf5EAvWbGXo9FUMmbGK2Su38MeTp08MFyeTAqZwpbpe6fLnIh1GjlryxGmRDkFE5LhlZjnyGUIJuoiIwMwv4ZPL4bx3oFHfAzZt353Mr3PXMnTGSobNWcP2PcHq7J3rluVfZzelWpn4DJu9+f1JDJuzhuH3nkTCkm/hyxuCxen6vQkfXAClqsFVP0FU1gZ0paY6Dw6ewXtjljKgQyKJCfEMmbGK8Us24A41yxald5OK9G5SiSbJM2D7WmaX7Mx3s9YxdMYq5q8JetxPrFGa3k0qck2X2krQCygl6CIicixyKkHXHHQREYGGZ0DpmvD7C9DwTEjTC120cAynNavEac0qsSspheHz1mJmnNKwfKa91QC3n1KPIdP/ZPqHD9Jt+atQrR1c8D4UTYBT/wlfXBesIt/y0sOGmJrq/PXz6Xw0YRnXd63NX3rVx8wY0LEma7bu4oeZq/luxir+O3wRa0e8weOxrxNDKmW8NJ5yCjWr9OOSMxvTs3FFKpaMA4JlxyX7mdkVwG0HFf/u7jdFIh4REZH8IsfmoJtZNTMbZmazzGymmd2WZtstZjYnLP93mvK/mtkCM5trZj1zKjYRETlIVDS0vwlWTIClozOsFhcbzamNK9KjUYXDJucAdcoU4sPy79Jt+avsanAOXPZVkJxDcIu3au3gp4dh58ZM20lJde7+dCofTVjGrd3r7EvO9ypfPI5L2tXgvavaMKP7VJ6KHcicuBN4vuzDpJZrxF0xnzBw3WVcvvpJKm7XumE5zd3fOmjl9xZKzkVERA4vJ3vQk4G73H2SmRUHJprZj0AFggVmmrv7bjMrD2BmjQjujdoYqAz8ZGb13D0lB2MUEZG9WlwMvz4Oo16EGh2Ovb0dG+Djy2izeQTPJfdjU5E7eTg2bv92M+jzFAzsCsMehz7/TreZ5JRU7vx4KoOn/smdPepx68kZrAqfmgJD7qbIhDeh2QU0OfNFmsQUAu6AtfNg3ECY8j5MfR+qt4e21x37OYqIiIhkoxxL0N19JbAyfL7VzGYDVQhGFD4Rrv6Ku68Jd+kLfBiWLzazBQT3P824K0dERLJPoXhofQ389gSMfx0w2LMd9mzb/3N3+NyigrnkJSoHj+KVoEQVKFEJCheH9Qvh/fNg01I45zVWzmvAF+OWcV232lQqWWT/MSs1g1ZXwvjXoOVlULHJASElpaRy24eTGTJ9FX/p1YAbutVOP/aknfDpVTD3W+h0B5z80AHD9ClXD077P+j+QDCkftxA+GRAtl9CERERkWORK3PQzSwROAEYS3Df0s5m9hiwC7jb3ccTJO9j0uy2PCw7uK1rgWsBqlevnrOBi4gUNG2ugdEvwbd3HVheqBgUKho+igW91UtHpT80vVBx8BSIiYPLBkON9txSbQefT17OS78s4LGzmx5Y/6S/wYzPYcg9cMWQfYn17uQUbn5/Mj/OWs0DpzXk6s610o95x4Zgwbll46D3U9D22ozPr0ipYCh/2+th/g/wSJ+sXxsRERGRHJbjCbqZFQM+A2539y1mFgOUAdoBrYGPzSyDT12HcveBwEAIVnHPgZBFRAquomXhlklBb/neZDw2PuNV1pN2wtaVsOVP2LIStv4ZPE/aAR1vh4Sgx7tq6XjOb12Nj8YHC7wdsPJ7fBk45SH4+jaY/ik068+upBRuHDSJX+as4R99G3NZ+8T0j79pKbzXL7i3ev+3ofFZWTvPqGio3zuLF0VEREQkd+Rogm5msQTJ+SB3/zwsXg587sH93caZWSpQFlgBVEuze9WwTEREclPxCgTLhWRBbBEoUyt4HMbNJ9Xl4wnLefGX+fz73OYHbjzhUpj4Nv7D3xm0sSEvj1rNys27+NfZTbmobQajpVZOg0H9gy8JLv0CEjtmLWYRERGRPConV3E34A1gtrs/k2bTl8BJYZ16QCFgHTAYuMDMCptZTaAuMC6n4hMRkdxVsWQcF7etzmeTVrBk3fYDtu1Idr6sdAe2bSXbfnyCaqXjef+atukn59vXw8//gDd7BT3hV36n5FxERESOCznZg94RuBSYbmZTwrL7gTeBN81sBrAHuDzsTZ9pZh8DswhWgL9JK7iLiBxfbuhWmw/GLeX5n+fz7Pkt2LoriXdG/8EbIxezYXsMpcr05Npd33F9vwehXNkDd962Fka/CONeD4bQN+oLPf8FJQ9ZrkREREQkX8rJVdxHAhndJPeSDPZ5DHgsp2ISEZHIKl88jsvbJzJwxCLKFC3EpxOXs3lnEt3ql+OW7nU5MaENvHgiDL03GLZuBltXw6gXYPwbkLIbmvSDzndD+QaRPh0RERGRbJUrq7iLiIjsdV3X2rw3Jug179GoArd0r0OzqqX2V+j+tyBBn/AGrJsPE9+GlD3Q7HzofBeUzeA+6CIiIiL5nBJ0ERHJVWWKFuKj69oTE200qFji0AqtroKJ/wtu9WbR0PxC6HznvhXhRURERI5XStBFRCTXNalSMuON0TFwzkCY/gmcOADK1My1uKTgaFqlJBOeOC3SYYiIiBxACbqIiOQ9FZsEDxEREZECJMdusyYiIiIiIiIiWacEXURERERERCQPUIIuIiIiIiIikgcoQRcRERERERHJA5Sgi4iIiIiIiOQBStBFRERERERE8gAl6CIiIiIiIiJ5gLl7pGM4ama2FZh7mGolgc05uD2/HCM72lCcuXuM7GjjeDlGVuqUBdbl8DHyy7XIC8fIjjZy4xj13b34YY4hx6EsfoaQjB3ud64cnq7hsdH1Oza6fscuZz5DuHu+fQATslBnYE5uzy/HUJz57xj5Jc48dC0y/X1QwK5FxI+RX+LMyt8RPY7Ph/7tdf0i/dA11PXT9cvfj5y6hgVhiPvXObw9vxwjO9pQnLl7jOxo43g5Rlbr5PQx8su1yAvHyI42citOERERkTwhvw9xn+DurSIdh4hEnn4fyNHQ+6bg0r/9sdH1O3a6hsdG1+/Y6Podu5y6hvm9B31gpAMQkTxDvw/kaOh9U3Dp3/7Y6PodO13DY6Prd2x0/Y5djlzDfN2DLiIiIiIiInK8yO896NnOzHqZ2VwzW2Bm9x207QUz2xap2LKTmb1pZmvMbEaasv5mNtPMUs3suBjyksF5tjCzMWY2xcwmmFmbSMaYXcysmpkNM7NZ4b/jbWH5w2a2IjzfKWbWJ9KxStal9zvJzE42s0nhv+dIM6sT6TiPVQb/V/XeFRERkQJFCXoaZhYNvAz0BhoBF5pZo3BbK6B0BMPLbm8DvQ4qmwGcAwzP9Whyztscep7/Bh5x9xbAg+Hr40EycJe7NwLaATftff8Cz7p7i/AxJHIhypHI5HfSK8DF4Xv4feCBiAWZfd7m0P+roPeuiIiIFCBK0A/UBljg7ovcfQ/wIdA3/JD8FHBvRKPLRu4+HNhwUNlsdz+u7gmb3nkCDpQIn5cE/szVoHKIu69090nh863AbKBKZKOSY5Tu7ySOw/dwBv9XRY5KZqPh0tR50symmdk7acouMbPbcy3QPCSjUVjhtjJm9qOZzQ9/HtJhYWYdw+s5wczqhmWlzOwHMyswnzfNLNrMJpvZN2nKaprZ2PD9+JGZFUpnv37hdR9hZglhWW0z+yg344+k8P3yqZnNMbPZZtY+LNf7L4vM7I7wfTTDzD4ws7iwXO/BDKQ3gi8sT/d9Z4EXwms5zcxaptNmuXCE4wwzOytN+VdmVvlwMRWYN2wWVQGWpXm9PCy7GRjs7isjEpVkt9uBp8xsGfB/wF8jG072M7NE4ARgbFh0c/hL5M30/rBJnpXR76SrgSFmthy4FHgiArHlFr135YhkNhouTZ2SQEt3bwbsMbOmZlYEuCLctyDKbBTWfcDP7l4X+Dl8fbC7gD4Ef2OvD8seAP7l7qk5GXgecxvBF+RpPUkwGqgOsBG4Kp39bgFaA/8FLgrLHuX4GCGVVc8D37l7A6A5+6+j3n9ZYGZVgFuBVu7eBIgGLgg36z2YsbdJfwRfRu+73kDd8HEtwajGg10IvErQ0XI7gJmdAUx298N2qihBP7x4oD/wYqQDkWxzA3CHu1cD7gDeiHA82crMigGfAbe7+xaCXxy1gRbASuDpyEUn2eQOoI+7VwXeAp6JcDw5Re9dORoZjTxJKxWINTMj+DufBNwNvOjuSbkabR5xmFFYfYH/hc//B5yVThNJBNcyHkgys9pANXf/NQfDzlPMrCpwGvB6mjIDugOfhkUZXb9UoDD7r19nYJW7z8/JmPOK8EuzLoSfydx9j7tvCjfr/Zd1MUARM4shuBZ/6j2YuUxG8GX0vusLvOOBMUApM6t00L5734+FgZTw3+N2sjitNuZITqAAWAFUS/O6KrCQ4Bu5BcH7m3gzWxB+AyX50+UE33ADfEKaP6T5nZnFEiTng9z9cwB3X51m+2vANxnsLnlPer+TVgO93X3v6IiPgO9yO7DcoPeuHKX0Rp60TVvB3bea2RBgMkHPyGagrbv/M9eizMPSGYVVIc0owlVAhXR2exx4B9hJMLLn/zj+e94O9hzBdMjiacoSgE3unhy+3jsS6mCPAz8RTFm6hODzyQXp1Dte1QTWAm+ZWXNgInCbu29H778scfcVZvZ/wFKC6/CDu/9gZmXRe/BoZPS+y2h0Y9qR1u+Hj2uBvwA3Au+6+46sHFg96AcaD9QN52kUInhTfunuFd090d0TgR1KzvO9P4Gu4fPuwHHxzWD4DekbwGx3fyZNedpv9c4mWAxQ8of0ficNBkqaWb2wTg8OHU55XNB7V3KSu/87XHzwLuCfwINmdrWZfWxmBeqDfVrpjMI6gAf35z3kHr3uPsXd27n7SUAtgg+rFs53fc/M0kuqjhtmdjqwxt0nHs3+7v6ju5/o7mcQ9NANAeqFc7JfM7P47Iw3D4oBWgKvuPsJwHbSGcqu91/GwmlgfQm+7KgMFDWzS7K6v96DGcvofZdJ/c3ufpq7twImAWcAe6/jpxaur5AR9aCn4e7JZnYz8D3BvI033X1mhMPKEWb2AdANKBvOY32IYHjHi0A54Fszm+LuPSMX5bHL4DyvAZ4Ph5vsIvh263jQkeBb4+lmNiUsu59g/mULgl8sS4DrIhGcHLkMfidNNbNrgM/MLJVgLtmVkYwzO2Twf7Wb3rtyFNIbebIio8pmdgJgwFzgcXfvaWZvmVnd431o58HSG4UVWm1mldx9ZfjF2ZpM2jCCnssLCD5T3AskEsyN/VtOxZ4HdATOtOB2kHFACTN7j+Dvcikziwl7MA/3fowHBgA9CUYNnQOcC1wMvJajZxBZy4HlaUaHfcr+BF3vv6w5BVjs7msBzOxzoAMwCL0Hj0ZG77sj+hsD/B14jGBe+kiC9/bnBNc3XUrQDxLexifDW/m4e7FcDCfHuPuFGWz6IlcDyWGZnOeJuRpILnD3kQQfMg+mW1PlY+n9TnL3LygY/1ePq/UhJNfsG3lC8KHpAvYveJSefxJ8URtL8EUYBHMxC1RvUUajsEKDCaaHPRH+/CqTpi4Dhrj7hvCDfioF4Hq6+18JF501s27A3e5+Sfh6GEGC8yGHv373AC+4e1K4cKFTMK7fKjNbZmb1wzsKnQzMCjfr/Zc1S4F24XnvJLiGE9zd9R48Khm97wYTLGD7IcH0qc0ZLSRuwR0Fqrr7r+HUjV0E17NIZge2oMdeRERE5PgQ9mI+x/6RJ49lUO8soIW7Pxy+/j+CXo1p7n5xrgSbR5hZJ2AEMJ3gwzjA/e4+xIJbLn0MVAf+AM5z90MWVQoTg2+BU8MP952B/wB7gIv8OLuVa0bSJOinh69rESRGZQjWPbjE3Xens19l4DV3Py183R94GNgEnLW3Z/R4FY6Yeh0oBCwCrnD3jXr/ZZ2ZPQKcT3BXhsnA1e6+W+/BjKUdwUewzs9D7v5GRu+78MvMlwhWft9B8D6dkEHbHwN/c/f5ZlYe+JLg9rgPuvtnGcakBF1EREREREQk8rRInIiIiIiIiEgeoARdREREREREJA9Qgi4iIiIiIiKSByhBFxEREREREckDlKCLiIiIiIiI5AFK0EVEREREspGZpZjZFDObYWZfm1mpw9R/2MzuPkyds8ysUZrX/zCzU7Ih1mxp5wiPeXt4WzQROYgSdBERERGR7LXT3Vu4exNgA3BTNrR5FrAvQXf3B939p2NtNLvaySoziwZuB5Sgi6RDCbqIiIiISM4ZDVQBMLPaZvadmU00sxFm1uDgymZ2jZmNN7OpZvaZmcWbWQfgTOCpsGe+tpm9bWbnmlkvM/skzf7dzOyb8PmpZjbazCaZ2SdmViyd471tZueGz5eY2ePhMSaYWUsz+97MFprZ9WnaH25m35rZXDN71cyiwm0Xmtn0cOTAk2mOsc3MnjazqcDfgMrAMDMbFm5/JTzeTDN7JM1+S8zskTD+6Xuvl5kVM7O3wrJpZtYvq+crktcpQRcRERERyQFhb/HJwOCwaCBwi7ufCNwN/Ced3T5399bu3hyYDVzl7qPCNu4Je+YXpqn/E9DWzIqGr88HPjSzssADwCnu3hKYANyZhbCXunsLYATwNnAu0A54JE2dNsAtBD36tYFzzKwy8CTQHWgBtDazs8L6RYGx7t7c3f8B/Amc5O4nhdv/5u6tgGZAVzNrluZY68L4XwmvGcDfgc3u3tTdmwG/HMP5iuQpMZEOQERERETkOFPEzKYQ9JzPBn4Me3M7AJ+Y2d56hdPZt4mZPQqUAooB32d2IHdPNrPvgDPM7FPgNOBeoCtBAv17eLxCBL35h7P3y4TpQDF33wpsNbPdaebSj3P3RQBm9gHQCUgCfnX3tWH5IKAL8CWQAnyWyTHPM7NrCXKTSmHc08Jtn4c/JwLnhM9PAS5Icw02mtnpR3m+InmKEnQRERERkey1091bhAuhfU8wB/1tYFPYO52Zt4Gz3H2qmQ0AumXheB8CNxPMd5/g7lstyFJ/dPcLjzD23eHP1DTP977emzv4Qfsc/Ppgu9w9Jb0NZlaToGe8dZhovw3EpRNPCpnnLkd7viJ5ioa4i4iIiIjkAHffAdwK3AXsABabWX8ACzRPZ7fiwEoziwUuTlO+NdyWnt+AlsA1BMk6wBigo5nVCY9X1MzqHeMp7dXGzGqGc8/PB0YC4wiGp5cNh/ZfGMaVnrTnUgLYDmw2swpA7ywc/0fSLLxnZqXJ2fMVyTVK0EVEREREcoi7TyYYrn0hQcJ9VbhY2kygbzq7/B0YC/wOzElT/iFwj5lNNrPaBx0jBfiGILn9JixbCwwAPjCzaQTDvQ9ZlO4ojQdeIhi+vxj4wt1XAvcBw4CpwER3/yqD/QcC35nZMHefCkwmONf3Cc77cB4FSoeL0U0lmM+ek+crkmvM/XAjUkRERERERIJV3IG73f30CIciclzKFz3oZrYt0jGISGSZWUp425e9j8RM6v5qZq1yMTwRERERkWOmReJEJL/YmYWFdURERCQHufuvwK8RDkPkuJUvetABzKyYmf1sZpPMbLqZ9Q3LE81stpm9ZmYzzewHMysS6XhFJOeZ2Ylm9puZTTSz782sUprNl4Y97TPMrE3EghQRERERyaJ8k6ADu4Cz3b0lcBLwtO2/iWRd4GV3bwxsAvpFJkQRyUFF0gxv/yJc3fZF4Fx3PxF4E3gsTf34sMf9xnCbiIiIiEielp+GuBvwLzPrQnAfxipAhXDbYnefEj6fCCTmenQiktMOGOJuZk2AJsCP4Xd10cDKNPU/AHD34WZWwsxKufum3AtXREREROTI5KcE/WKgHHCiuyeZ2RIgLty2O029FEBD3EWOfwbMdPf2GWw/+BYVumWFiIiIiORp+WmIe0lgTZicnwTUiHRAIhJRc4FyZtYewMxizaxxmu3nh+WdgM3uvjkCMYqIiIiIZFme70E3sxiCHvJBwNdmNh2YAMyJaGAiElHuvsfMzgVeMLOSBL/PngNmhlV2mdlkIBa4MjJRioiIiIhknbnn7VGfZtYceM3dtQqziIiIiIiIHLfy9BB3M7ueYKGnByIdi4iIiIiIiEhOyvM96CIiIiIiIiIFQZ7uQRcREREREREpKPJUgm5m1cxsmJnNMrOZZnZbWF7GzH40s/nhz9Jh+cVmNs3MppvZqHC++t623jSzNWY2I1LnIyIiIiIiIpJVeSpBB5KBu9y9EdAOuMnMGgH3AT+7e13g5/A1wGKgq7s3Bf4JDEzT1ttAr9wKXERERERERORY5KkE3d1Xuvuk8PlWYDZQBegL/C+s9j/grLDOKHffGJaPAaqmaWs4sCF3IhcRERERERE5NnkqQU/LzBKBE4CxQAV3XxluWgVUSGeXq4ChuROdiIiIiIiISPaKiXQA6TGzYsBnwO3uvsXM9m1zdzczP6j+SQQJeqdcDVREREREREQkm+S5HnQziyVIzge5++dh8WozqxRurwSsSVO/GfA60Nfd1+d2vCIiIiIiIiLZIU8l6BZ0lb8BzHb3Z9JsGgxcHj6/HPgqrF8d+By41N3n5WasIiIiIiIiItnJ3P3wtXKJmXUCRgDTgdSw+H6CeegfA9WBP4Dz3H2Dmb0O9AvLAJLdvVXY1gdAN6AssBp4yN3fyKVTERERERERETkieSpBFxERERERESmo8tQQdxEREREREZGCSgm6iIiIiIiISB6gBF1EREREREQkD1CCLiIiIiIiIpIHKEEXERERERERyQOUoIscB8zsYTO7O5PtZ5lZo9yMSUREREREjowSdJGC4SxACbqIiIiISB6m+6CL5FNm9jfgcmANsAyYCGwGrgUKAQuAS4EWwDfhts1Av7CJl4FywA7gGnefk4vhi4iIiIjIQZSgi+RDZnYi8DbQFogBJgGvAm+5+/qwzqPAand/0czeBr5x90/DbT8D17v7fDNrCzzu7t1z/0xERERERGSvmEgHICJHpTPwhbvvADCzwWF5kzAxLwUUA74/eEczKwZ0AD4xs73FhXM6YBERERERyZwSdJHjy9vAWe4+1cwGAN3SqRMFbHL3FrkXloiIiIiIHI4WiRPJn4YDZ5lZETMrDpwRlhcHVppZLHBxmvpbw224+xZgsZn1B7BA89wLXURERERE0qMEXSQfcvdJwEfAVGAoMD7c9HdgLPA7kHbRtw+Be8xsspnVJkjerzKzqcBMoG9uxS4iIiIiIunTInEiIiIiIiIieYB60EVERERERETyACXoIiIiIiIiInmAEnQRERERERGRPEAJuoiIiIiIiEgeoARdREREREREJA9Qgi4iIiIiIiKSByhBFxEREREREckD/h9OAiDUw8uYCAAAAABJRU5ErkJggg==\n",
          "text/plain": "<Figure size 1008x288 with 2 Axes>"
         },
         "metadata": {
          "needs_background": "light"
         },
         "output_type": "display_data"
        }
       ]
      }
     },
     "c9d4f459ec9242329498a9699171f683": {
      "model_module": "@jupyter-widgets/controls",
      "model_module_version": "1.5.0",
      "model_name": "VBoxModel",
      "state": {
       "_dom_classes": [
        "widget-interact"
       ],
       "children": [
        "IPY_MODEL_1ed2ec3276474d8d958a73d98059480b",
        "IPY_MODEL_b75f9a79456c491a91335fc8bfdf9a3b",
        "IPY_MODEL_c740731737fa4f8a80ede5e0911e540e"
       ],
       "layout": "IPY_MODEL_3519f95b71394cbcb8f67257ca17449d"
      }
     },
     "cab5c3f0aeaa4494bc75de56158acc8e": {
      "model_module": "@jupyter-widgets/controls",
      "model_module_version": "1.5.0",
      "model_name": "DescriptionStyleModel",
      "state": {
       "description_width": ""
      }
     },
     "cb696d1b175a40669c987453559a6f18": {
      "model_module": "@jupyter-widgets/controls",
      "model_module_version": "1.5.0",
      "model_name": "DescriptionStyleModel",
      "state": {
       "description_width": ""
      }
     },
     "cd15be0321574ecf89db34b8d8d1d7e1": {
      "model_module": "@jupyter-widgets/base",
      "model_module_version": "1.2.0",
      "model_name": "LayoutModel",
      "state": {}
     },
     "d1dbe5fc7dca47e69b3232a2523d4339": {
      "model_module": "@jupyter-widgets/controls",
      "model_module_version": "1.5.0",
      "model_name": "DescriptionStyleModel",
      "state": {
       "description_width": ""
      }
     },
     "d3945f67446943328a583eddc3fab04c": {
      "model_module": "@jupyter-widgets/controls",
      "model_module_version": "1.5.0",
      "model_name": "IntSliderModel",
      "state": {
       "description": "CV splits",
       "layout": "IPY_MODEL_b22098cd29f0469f832a3acc30a261ae",
       "max": 24,
       "min": 2,
       "style": "IPY_MODEL_d5a3f255ca54480399d0e9d7170ec98a",
       "value": 5
      }
     },
     "d5a3f255ca54480399d0e9d7170ec98a": {
      "model_module": "@jupyter-widgets/controls",
      "model_module_version": "1.5.0",
      "model_name": "SliderStyleModel",
      "state": {
       "description_width": ""
      }
     },
     "d5bb14d827c14b44ad168c21a0170c3a": {
      "model_module": "@jupyter-widgets/controls",
      "model_module_version": "1.5.0",
      "model_name": "VBoxModel",
      "state": {
       "_dom_classes": [
        "widget-interact"
       ],
       "children": [
        "IPY_MODEL_20624159048d4ff49ab846bb398e5e72",
        "IPY_MODEL_ea86241d67434d49b8e8acb780c3c6b2"
       ],
       "layout": "IPY_MODEL_ecfc9ffc18bc48499294510fe71892f7"
      }
     },
     "d6b85e2650144794b6fd7d77fb70c793": {
      "model_module": "@jupyter-widgets/output",
      "model_module_version": "1.0.0",
      "model_name": "OutputModel",
      "state": {
       "layout": "IPY_MODEL_46774841041d473f95909226f75a6352",
       "outputs": [
        {
         "data": {
          "image/png": "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\n",
          "text/plain": "<Figure size 1008x288 with 2 Axes>"
         },
         "metadata": {
          "needs_background": "light"
         },
         "output_type": "display_data"
        }
       ]
      }
     },
     "e0e05def9ae7431d8e06a531c854f1b3": {
      "model_module": "@jupyter-widgets/output",
      "model_module_version": "1.0.0",
      "model_name": "OutputModel",
      "state": {
       "layout": "IPY_MODEL_113c51a280154765b8832984e5324a25",
       "outputs": [
        {
         "data": {
          "image/png": "iVBORw0KGgoAAAANSUhEUgAAA+gAAAEYCAYAAADPrtzUAAAAOXRFWHRTb2Z0d2FyZQBNYXRwbG90bGliIHZlcnNpb24zLjMuNCwgaHR0cHM6Ly9tYXRwbG90bGliLm9yZy8QVMy6AAAACXBIWXMAAAsTAAALEwEAmpwYAABnUUlEQVR4nO3dd3hUZdrH8e+dQu9FpIcqvQbpCIiCFRv2gg1de1/Xtb6ru6676toVxd7FLmBBQYoCht4UkCZFeq8p9/vHOYEQkhBCJpPA73Ndc2XmOec85z6HIZl7nmbujoiIiIiIiIhEV0y0AxARERERERERJegiIiIiIiIihYISdBEREREREZFCQAm6iIiIiIiISCGgBF1ERERERESkEIiLdgCHokqVKp6QkBDtMEREpIiaPHnyWnevGu04pODpM4SIiByKSH2GKNIJekJCAklJSdEOQ0REiigzWxLtGCQ69BlCREQORaQ+Q6iLu4iIiIiIiEghoARdREREREREpBBQgi4iIiIiIiJSCBTpMegiIoe75ORkli1bxs6dO6MdSpFWokQJatWqRXx8fLRDEREREcmWEnQRkUJs2bJllC1bloSEBMws2uEUSe7OunXrWLZsGfXq1Yt2OCIiIiLZUhd3EZFCbOfOnVSuXFnJ+SEwMypXrqxeCCIiIlLoFe0EfdfWaEcgIhJxSs4Pne6hiIiIFAVFO0FfvxC2rIp2FCIiIiIiIiKHrIiPQU+D0f+E056KdiAiIoet2NhYWrZsSUpKCvXq1eOtt96iQoUKB13P66+/TlJSEs8++2z+BylykGYu30TC3cOiHYZIRCx+9JRohyAieVS0W9BLVYEpb8LqX6MdiYjIYatkyZJMmzaNWbNmUalSJZ577rlohyQiIiJyWCraCXrZo6FYWRj5QLQjERE5InTu3Jnly5cD8Pvvv9OvXz/at29P9+7d+fXX4MvSL7/8ko4dO9K2bVv69OnDqlUaiiQiIiKSG0W7i3tMHHS/LUjQF42Bej2iHZGISMQ89OVs5qzYnK91NqtRjgdOa56rfVNTU/n++++58sorARg0aBAvvvgijRo1YuLEiVx33XX88MMPdOvWjQkTJmBmvPLKKzz22GM8/vjj+Rq3iIiIyOGoaCfoAB2vhV9egW/vhatHQ0zR7hQgIlLY7NixgzZt2rB8+XKaNm3KCSecwNatW/npp58YMGDAnv127doFBGu3n3feeaxcuZLdu3dr7XERERGRXCr6CXp8CTj+fvjkapj5EbQ+L9oRiYhERG5buvNb+hj07du307dvX5577jkGDhxIhQoVmDZt2n7733jjjdx2222cfvrpjB49mgcffLDAYxYREREpig6P5uYW50D11vDDPyB5Z7SjERE5LJUqVYqnn36axx9/nFKlSlGvXj0++ugjANyd6dOnA7Bp0yZq1qwJwBtvvBG1eEVERESKmiKdoM9btYXjHx/N8U+O4faN58CmPxj8n7uCssdH89CXs6MdoojIYaVt27a0atWK9957j3feeYchQ4bQunVrmjdvzueffw7Agw8+yIABA2jfvj1VqlSJcsQiIiIiRYe5e7RjyLOj6jfzAQ+/vef1tcvvoeGOGTxQ7x1mro9jweotTLv/REoXL/o9+UXkyDR37lyaNm0a7TAOC1ndSzOb7O6JUQpJoqh49UZe/bL/RTsMkYjQOugikRepzxBFOnOtU6kUz13Ybm/B6v/BC515rMrXjO98Jxe9MpGJi9bRu0m1qMUoIiIiIiIikhtFuov7fo5qAu0ug19eIbHsekrExzBm3tpoRyUiIiIiIiJyQBFL0M2shJlNMrPpZjbbzB4Ky483sylmNs3MxplZw7C8uJl9YGYLzGyimSXk6cQ9/waxxSk++h90rFeZsfPX5N9FiYiIiIiIiERIJLu47wJ6u/tWM4sHxpnZCOAFoL+7zzWz64B7gYHAlcAGd29oZucD/wYOfs20stWg680w+p+c064/D83bzar5SVSzjbB1dYbHKjjmJGh5Tj5droiIiIiIiEjeRSxB92D2ua3hy/jw4eGjXFheHlgRPu8PPBg+Hwo8a2bmeZnFrssNkPQqp025ktNKAO9k2l6sDLjDsl+UoIuIiIiIiEihENFJ4swsFpgMNASec/eJZnYVMNzMdgCbgU7h7jWBPwDcPcXMNgGVgbWZ6hwEDAKoU6dO1icuVhoGvI7//j3/GbeBStVqcdVJnaHMUVD6KCheBia9DMPvgPULoVL9fL92ERERERERkYMR0Uni3D3V3dsAtYBjzawFcCtwsrvXAl4DnjjIOge7e6K7J1atWjX7Het2xnrfy6oml/Lsquak1uoYJOLFywTbG/QOfv7+w0FfV1GWlubc8+lMuvzrey4ZMpH/+3IO709ayuQlG9i8Mzna4YlIIRQbG0ubNm1o0aIFAwYMYPv27Xmua+DAgQwdOhSAq666ijlz5mS77+jRo/npp58O+hwJCQmsXasJQkVERKToKZBZ3N19IzAKOAlo7e4Tw00fAF3C58uB2gBmFkfQ/X3doZ67R+MqbNyezOwVm/bdUKk+VKgDv4861FMUKf/99jfenbiUhtXKsmH7bt6dtIS7P5nJ2S/8RKsHv6XTP4PE/dvZf0Y7VBEpJEqWLMm0adOYNWsWxYoV48UXX9xne0pKSp7qfeWVV2jWrFm22/OaoEt0mVnE/tHMbEA48WyamWW79qyZjc5pu4iISGEVyVncq5pZhfB5SeAEYC5Q3swah7ullwF8AVwWPj8H+CFP488z6dqwCgBj52dqTTGD+r1g0RhIzduHy6Lmw1/+4PnRv3Nhxzq8cXkHvrqxO3Me6seYO3vxyqWJ/LVfE7o0qMzclVt44rt50Q5XRAqh7t27s2DBAkaPHk337t05/fTTadasGampqdx555106NCBVq1a8dJLLwHg7txwww0cc8wx9OnTh9WrV++pq2fPniQlJQHw9ddf065dO1q3bs3xxx/P4sWLefHFF3nyySdp06YNY8eOZc2aNZx99tl06NCBDh06MH78eADWrVvHiSeeSPPmzbnqqqvIhz8dcgjcvcuB98qzWcBZwJgInkNERCRqIjkGvTrwRjgOPQb40N2/MrOrgY/NLA3YAFwR7j8EeMvMFgDrgfPzI4gqZYrTrHo5xsxbw/W9Gu67sUFvmPIGLJ8MdTrmx+kKrfEL1nLPpzPp3qgKD53eHDMDICbGqFO5FHUql6JPs2oAPDdqAf/55jfWb9tNpdLFohm2iGQ04m74c2b+1nl0Szjp0VztmpKSwogRI+jXrx8AU6ZMYdasWdSrV4/BgwdTvnx5fvnlF3bt2kXXrl058cQTmTp1Kr/99htz5sxh1apVNGvWjCuuuGKfetesWcPVV1/NmDFjqFevHuvXr6dSpUpce+21lClThjvuuAOACy+8kFtvvZVu3bqxdOlS+vbty9y5c3nooYfo1q0b999/P8OGDWPIkCH5e4/koJjZVncvEz7/K3AxkAaMcPe7zWw0cIe7J5lZFSDJ3RNyU7e7zw3rzXzOkgTD5loDvwIl8+dqREREClYkZ3GfAbTNovxT4NMsyncCAyIRS/fGVXh13CK27UqhdPEMl1yvB2CwcNRhnaAvWL2Fa9+eTP2qpXnuonbEx+bQcSJlN+ct/xdN4xewfNQiKvW+EEpVKrhgRaTQ2bFjB23atAGCFvQrr7ySn376iWOPPZZ69eoB8O233zJjxow948s3bdrE/PnzGTNmDBdccAGxsbHUqFGD3r1771f/hAkT6NGjx566KlXK+nfOyJEj9xmzvnnzZrZu3cqYMWP45JNPADjllFOoWLFivl275J2ZnUSwQktHd99uZpH8Y/IXYLu7NzWzVsCUbGLaM9FsbLkc5rERERGJkojO4l5Y9GhUlZd+XMjERevo3aTa3g2lKkHNdsFEcT3vjl6AEbR26y4GvvYLxeNieXVgB8qViM9+59QU+PhKqiz4gqYxlame9HeY8gDUOw6anwFNTlWyLhJNuWzpzm/pY9AzK1269J7n7s4zzzxD375999ln+PDh+RZHWloaEyZMoESJEvlWp0RUH+A1d98O4O7rI3iuHsDT4XlmmNmMrHZy98HAYIDi1RtpLISIiBQ6BTJJXLS1r1uREvExjJmXxay+DXrDsiTYuWn/bUXczuRUrn4zibVbdzHkskRqVSyV/c5pqfDpIJj7BfT9F3fVfpcbyzwBna+HdQvgixvhPw3hrTNh8uuQvKPArkNECr++ffvywgsvkJwcrAYxb948tm3bRo8ePfjggw9ITU1l5cqVjBq1/8ScnTp1YsyYMSxatAiA9euDPK5s2bJs2bJlz34nnngizzzzzJ7X6V8a9OjRg3fffReAESNGsGHDhohco+SbFPZ+/sjx2xYze83MpplZ/n3TIyIiUogdEQl6ifhYOtarzNj5a/bfWL8XeCosGlugMaWmRfaL+7Q05/YPpzPtj43877y2tK5dIaed4fPrYdbH0Och6HwdnRpU4cu1R7Ohy71w83QY9CN0vQnWL4Ivb4bvHoho/CJStFx11VU0a9aMdu3a0aJFC6655hpSUlI488wzadSoEc2aNePSSy+lc+fO+x1btWpVBg8ezFlnnUXr1q0577zzADjttNP49NNP90wS9/TTT5OUlESrVq1o1qzZntnkH3jgAcaMGUPz5s355JNPqFOnToFeu2TrO+ByMysFkKGL+2Kgffj8nJwqcPfL3b2Nu598gHONAS4Mz9MCaJXXoEVERKLJivJst4mJiZ4+A/CBvDJ2IQ8Pm8v4u3tTs0KGuWNSdsNj9aDVeXDqQS3JnmdTl27gvJcm0LxmOU5pWZ2TWlbfN6Z88NjXv/L86N+55+QmDOrRIPsd09Lgq5thypvQ61447k4AJi9Zz9kv/MyLF7enX4uj9+7vDu+dD2t+g5un5WvMIrK/uXPn0rRp02iHcVjI6l6a2WR313Jc+SjTJHF3A5cCu4Hh7n6PmTUBPgRSgWHAxbmdJM7MzgSeAaoCG4Fp7t430yRxc4GawPXunu2HhOLVG3n1y/6Xp2sUKewWP3pKtEMQOexF6jPEETEGHaB7o6rAXMbNX8N5HTK0rsQVg4TuwTj0AvLEd/MoVTyW3SlpPDxsLg8Pm0vbOhXyJVnftCOZF3/8nRfC5dSu7l4/+53dYcSdQXLe4849yTlAy5oVKBkfy4SF6/ZN0M2CMenzvoZNy6B8rTzHKiIih5/05Dx8/ijwaKbtv7JvC/e9B1F3dhPN7iCfVn8RERGJpiOiiztA42plOKps8f3XQwdo0As2LAq6b+fC7pQ0hs9cyZotuw46jqTF6xk7fy3X92zIsJu6M/qOntzZ9xh2JQfJetdHf+DM58fzytiFLN+Y+3Hem3Yk87+R8+j27x94YfTvnNm25j7Lqe3HHb65B355BbreDL3+vs/mYnExJCZUZMLCdfsfW6978LOAhwWIiIiIiIgczo6YFnQzo3ujqnz/6ypS05zYmAyJa4Nw2Z+Fo6BSvWzr2J2SxtDJy3hu1AKWb9xBt4ZVeOvKY7NPgrPw1PfzqVKmGBd1ClrxE6qU5vpeDbm+V0MWr93GsJkrGTZjJU8Nm8zDw0rtaVk/uWV1amTRsr5pRzKvjV/EkHGL2LIzhb7Nq3HT8Y1oXqN89kG4w8gHYMLz0PEvwbjzLK6hU/3K/Oeb39iwbTcVM66HflRzKFkJFo+FNhfk+tpFJG/c/aB+z8j+ivJwriOBmfUF/p2peJG7nxmNeERERKLliEnQAXo0rsLHU5Yxe8UmWtWqsHdD5YZQrhb8PgoSr9jvuMyJeZvaFejVpCpvT1jKiFl/cnLL6rk6f3rr+d9PbkqpYvvf+j3JepVp8PFVrC9Vn5Gb2vHB8Ob8c1gj2tSpxMlhsl66eNzBJ+YAW/6EUY8E3doTr4R+/8oyOQfoVD+Yz2fiovX7dnOPiYGErmpBFykAJUqUYN26dVSuXFlJeh65O+vWrdPybIWYu38DfBPtOERERKLtiErQuzasAsDY+Wv3TdDNgm7uc78I1gKPDW5LVon5I2e24LjGVUlNcyYv2cg/vprDcY2rUrr4gW9l5tbzLKWlwY+PQcUEKpWvyblLP+Pc4kPZEV+B8RvbMXREK54c1pK0+DLsSE7NfWK+dTWM+x8kDYHUZOh8A5zwj2yTc8hhHDpAQg+Y+yVsWAwVEw547SKSN7Vq1WLZsmWsWZPFKhSSayVKlKBWLc2ZISIiIoXbEZWgVylTnGbVyzFm3hqu79Vw340NesPUt2DFVKjdgU+mLOPxb+ftl5int2DFxRr/6N+cc178mWdHLeCv/ZrsrSt5JywaA/V6QHzQYpPeen7PyU2ybD3f47dhsPY3OHsItDwHdmyEBSMpOe9r+sz/lj7FfiDV4llYujXlmvamWqsToVoO65tvWwvjn4JJL0PqLmh9AfS4AyrlMHlcKNfj0JWgi0RMfHw89eplP/RGRERERA4fR1SCDtC9cRVeHbeIbbtS9m31rt8TMFIX/MCDk0vy1oQltM4iMc8oMaESZ7erxStjF3JO+1o0KLEtmHQt6VXYvhY6XgsnBUPqnvp+PpVLF+PiTnWzD84dxj4OFetBszOCspIVgkS95TlB6/4fE4j9bQSNFoyEXx4LHsXKQJ1OkNAtaNmu3hp2bYafnoaJgyFlB7QcAD3ugioNsz9/FrIdh161CZSuGoxDb3fJQdUpIiIiIiIi+zviEvQejary0o8LmbhoHb2bVNu7oVQlUo5uzYKfP+etzS245rj63NW3yb6TyWXh7pOasHTOz6x47TLq7/wRS0uBxv2CruO/vAIdriJpa+XctZ4vHB204J/21J5u9vuIjQuT8G7Q9xHYugaWjIPF44KW7JEPBvsVKws47N4GLc6G4/4KVRsf7K0CchiHbhbEsWhs8MWCxsaKiIiIiIgckiMuQW9ftyIl4mMYM2/tPgn6wjVb+XldQ87d/SlP9q/PmZ2b5lxRWir8NoKqE17gI8axbVtxljQ8j4STb4PKDYIx30+3g2/v5akdtx249RyC1vOy1YNu6LlRpio0PzN4QHDOxeOCVu3U3cE486MOcB0HkPM49O4w+1NYvzC4ZhEREREREcmzIy5BLxEfS8d6lRk7f++ES+Pmr+W6dybTMaYFF9lQzqy4CMghsd28At46C9bMhfK1Se3zDy77pRErlhVjZNm6lAIoc1Qw1nvkA/jutlzTb0DOred//BIk1ic+AnHF83ZxZY6CFmcFj3xSLC6G9nWzG4feI/i5aIwSdBERERERkUMUE+0AoqF7oyr8vmYbyzfu4K2fF3PZa5OoXr4k9187EOJLw+8/ZH/w1tXwxumwaRmc8yrcNI3Ybjdx95kdWbFpJ8/+sGDvvp3+wqrY6jxY7B0uPrZmzkGNewJKVoT2A/PjEvNVp/qV+PXPLWzYtnvfDZUbQpmjgy8WRERERERE5JAcoQl6VQCufiOJ+z6fTc/GVfn4ui7UPqpisL73wlFZH7h9Pbx5RpCcX/RhML47HCuePmHcy2MX8vuarQAkLdvGAzvOoyFLKTXznewDWjUHfhseTCpXvEx+Xmq+6FS/MhCMQ9+HWTCbe/o4dBEREREREcmzIzJBb1ytDEeVLc6clZu5pkd9Bl+aSJn0Gd0b9IZ1C2DDkn0P2rkJ3j4r2HbBe1C3y3713n1SE0rEx/LgF7Nxd576fj6/lOhKau0uMOqRoI6sjHsyaLk/dlA+X2n+aFWrAiXiY7Lu5p7QHbathrXzCj4wERERERGRw8gRmaCbGY+d04qXLmnP305uuu9M7Q16Bz8ztqLv3gbvnAt/zoRz34QGvbKst2rZ4tx+QmPGzl/LP4fPZez8tVzTswGxJ/0raH0f85/9D1q/CGZ9DImXQ6lK+XiV+adYXAyJdSsdYD30MQUblIiIiIiIyGEmYpPEmVkJYAxQPDzPUHd/wIIFxR8GBgCpwAvu/nRY/hRwMrAdGOjuUyIVX89jjsp6Q5XGULYG/D4qGA+evBPeuwCWTQrGnB/TL8d6L+5Ulw+SlvHy2EV7Z24vFgdtLoIJL0L7y/edUO2npyEmNphxvRDrVL8S//123v7roVesB+VqBePQj70agAWrt1CrYilKxMdGKVoREZGctaxZnqRHT4l2GCIiIvuIZAv6LqC3u7cG2gD9zKwTMBCoDTRx96bA++H+JwGNwscg4IUIxpY9s6AVfeHoIDn/8FJY9CP0f37vcmY5iIuN4R/9mxMbY1zXq+HemduPvw9ii8F39+/decufMPUdaHMhlKsemevJJwcch754HKSl8e3sPznhyTG8PGZhFKIUEREREREpuiKWoHtga/gyPnw48Bfg/9w9LdxvdbhPf+DN8LgJQAUzi07W2qAX7NwIr50E87+BU56ANrlcm5xgwrhJ9xzPld3q7S0sezR0vw1+/Wpvd/Cfn4O0ZOh6c/7GHwEHHIe+fR3zZv3Cze9Pwx3GLVhb8EGKiIiIiIgUYREdg25msWY2DVgNfOfuE4EGwHlmlmRmI8ysUbh7TeCPDIcvC8sy1zkoPDZpzZo1mTfnj/o9g58rpkDff0KHKw+6isplsljLvPP1UL42fHMPbFsHSa9C87OgUv1Di7cA5GYc+hefvU+l0sU4q21Npv6xkZ3JqVlXtnOTZn0XERERERHJJKIJurununsboBZwrJm1IBiTvtPdE4GXgVcPss7B7p7o7olVq1bN95gBKF0FutwEJz0WJNX5Jb4knPBQMNnc22fC7q3Q7db8qz/CslsPfWvJGqyMqUbb1Jm8OrADp7auzu6UNKYu3bh/JYvGwmP1g54EIiIiIiIiskeBzOLu7huBUUA/gpbxT8JNnwKtwufLCcamp6sVlkXHif+Ajtfkf73Nz4LaHWHldGjcD45ukf/niJD0ceiTFu8dh56SmsYN705hbHJTehSfxzFHlSYxoRIxxv6t7dvXwyeDIC0FFowsyNBFREREREQKvYgl6GZW1cwqhM9LAicAvwKfAenrlB0HpC+g/QVwqQU6AZvcfWWk4osaMzjp31CmGhx3V7SjOSiZx6G7Ow99OYfRv62hVtsTid+9CVbNpFyJeFrULL9vgu4OX94E29ZAlWNgyc9RugoREREREZHCKZIt6NWBUWY2A/iFYAz6V8CjwNlmNhP4F3BVuP9wYCGwgKDr+3URjC26arSFO+ZBzfbRjuSg7B2HHrSgvzp+MW9NWMKgHvXp0iec4X7RWCBobd9nHPqUN2Dul9DnAWh9Pqz9DbZpIjkREREREZF0kZzFfYa7t3X3Vu7ewt3/Lyzf6O6nuHtLd+/s7tPDcnf36929QbgtKVKxSd4F49A382HSHzw8bA79mh/N3f2aQLkaUKlBsB56uN+ecehr5sGIu6F+L+h0PdTtElS2VK3oIiIiIiIi6QpkDLocPjrVr4w73DV0Bq1qlufJ89oQE2PBxnrdYclPkJqyZxz6LwtWwsdXQLFScOaLEBMT9CCIK6Fu7iIiIiIiIhnERTsAKVpa1apAqWKxVCxVjJcvS6Rksdi9GxO6w+TX4c/plKvZnhY1y1N/xuOwbSZc8H6wFjxAXHGomQhLxkflGkRERGYu30TC3cOiHUaht/jRU6IdgojIEUUt6HJQisXF8NrADnxwTSeOKlti340JwXro6ePQL6i8gFO3fUJK+6vgmJP23bduZ/hzBuzaUgBRi4iIiIiIFH5K0OWgdaxfmVoVS+2/oWy1YIb2xWNh6xrOWvIPfkurxeTGt+2/b90u4Gnwx8TIBywiIiIiIlIEKEGX/FWvezC2/LO/UCx5C7ek3MBPS7ftv1+tY8FiNQ5dREREREQkpARd8ldCd0jeBgu+w078B/E1Wu67Hnq64mWgeutgUjkRERERERFRgi75LKFb0DLe6EQ4dtD+66FnVLcLLJ8MKbsKPk4REREREZFCRgm65K/SVeCq7+Cc18Bs3/XQM6vbBVJ3wfIpBR6miIiIiIhIYaMEXfJfzfZBF3bYsx56lt3c63QOfmq5NRERERERESXoElnlSsTTvEb5rBP0UpWgalNYqoniRERERERElKBLxHWqXymHceidYelESMtim4iIiIiIyBFECbpEXKf6lXMYh94Vdm+BP2cWeFwiIiIiIiKFiRJ0ibjcjUPXcmsiIiIiInJkU4IuEVe+ZA7j0MvXhAp1YKkSdBERERERObIpQZcCkfM49K6w5GdwL/jARERERERECokDJuhm1sDMiofPe5rZTWZWIeKRyWElx3HodTrD9rWwdn6BxyUiIiIiIlJY5KYF/WMg1cwaAoOB2sC7EY1KDjs5jkOv2zX4uWQ8aWnOnBWbCzY4ERERERGRQiA3CXqau6cAZwLPuPudQPUDHWRmJcxskplNN7PZZvZQpu1Pm9nWDK+Lm9kHZrbAzCaaWcJBXosUYjmOQ6/cAEpXJXnReAa9NZmTnx7LiJkrCz5IEZEjiJlFbPIPMxsQ/u1PM7PEHPYbndP2TPsONLNnw+fXmtml4fMmZjbNzKaGvf5uMrO5ZvZO/lyNiIhIwclNgp5sZhcAlwFfhWXxuThuF9Db3VsDbYB+ZtYJIPxjXDHT/lcCG9y9IfAk8O9cnEOKkGzHoZuxvXpH1s/5kR9+XUX5kvG8Nn5xVGIUETlSuHuXCFY/CzgLGBOJyt39RXd/M3x5BjDU3du6++/AdcAJ7n5RJM4tIiISSblJ0C8HOgOPuPsiM6sHvHWggzyQ3kIeHz7czGKB/wB3ZTqkP/BG+HwocLyZWS7ikyIiu3Hok5es57mFVanmq3nv3Frc2LshkxavZ9byTVlXlLwz8sFm452JSxiu1n0ROQxk6sX2VzObGfZ6ezQs29O6bWZVzGxxbut297nu/lsW5yxpZu+HLdyfAiUPEOPlZjbPzCYBXTOUP2hmd5jZycAtwF/MbJSZvQjUB0aY2a25jVdERKSwyE2CfoK73+Tu7wG4+yIgVxmSmcWa2TRgNfCdu08EbgC+cPfMWU5N4I/wHCnAJqByFnUOMrMkM0tas2ZNbsKQQiKrcegfT17GBYMn8luxlgB0jP2NAYm1KRkfyxs/Ld63Anf4+h54rD6s+70AIw9s2ZnMQ1/O4dYPprFo7bYCP7+ISCSY2UkEX5J3DHu9PRbB0/0F2O7uTYEHgPY5xFUdeIggMe8GNMu8j7sPB14EnnT3Xu5+LbAC6OXuT2ZR557PEKnbs/kSWEREJIpyk6BflkXZwNxU7u6p7t4GqAUca2Y9gAHAM7kNMIs6B7t7orsnVq1aNa/VSBRkHIeemuY8OuJXbv9oOokJFfnvDRdC8XKwZDzlS8ZzVruafD59Beu37Q4Odoev74YJz0HyNkh6tcDj/3rWn+xOScOBOz+aTmqaloUTkcNCH+A1d98O4O7rI3iuHsDb4XlmADNy2LcjMNrd17j7buCDQz15xs8QsaXKH2p1IiIi+S7bBN3MLjCzL4F6ZvZFhsco4KD+eLv7RmAU0AtoCCwIu8qVMrMF4W7LCWaIx8zigPJAFjOKSVHWqX4lpi7dyDVvJfHij79zUcc6vHHFsVQoUxLqdArWQwcGdklgd0oa701aGiTnI+6CiS9C5xug2Rkw9W1I3lGgsX8xfQW1K5XkX2e2JGnJBl4bv6hAzy8iUsBS2Ps5oUROO5rZa+FEbcMjH5aIiMjhK6cW9J+Ax4Ffw5/pj9uBvgeq2Myqpq+XbmYlgROAye5+tLsnuHsCQTe3huEhX7C3tf4c4Ad3VxPlYaZT/crsTk3jh19X89DpzXn4jBbEx4ZvwzqdYe1vsG0tjaqVpVvDKrz982JSh90BkwYHyfmJD0OHq2DnRpj1SYHFvXrLTsYvWEv/1jU5q11N+jQ9iv9885u6uovI4eA74HIzKwVgZpXC8sXs7YJ+Tk4VuPvl7t7G3U8+wLnGABeG52kBtMph34nAcWZW2cziCXrgiYiIHNayTdDdfYm7j3b3zu7+Y4bHlHCM+IFUB0aZ2QzgF4Ix6F/lsP8QoHLYon4bcPfBXIgUDV0aVOHsdrV4/fJjuaxLAvvMA1g3nFB4adCKflnnOly3/QVik16BLjcFybkZJHSDKsdA0pACi/ur6StJc+jfpgZmxj/PbEnxuJj9u7rPHAqr5xZYXCIih8rdvyb4kjwpnDfmjnDTfwkmX5sKVDmYOs3sTDNbRjDJ7DAz+ybc9AJQxszmAv8HTM4hrpXAg8DPwHhAv1xFROSwZwdqpDazswiWPDsKsPDh7l4u8uHlLDEx0ZOSkqIdhuSXlF3waB1IvAJOfIS0YbcTM/lVPit9LmfcMThIztNNeBG+/isM+hFqtIl4aP2fG09yShrDb+6+p+yTKcu47cPp3HdqM67sVg+2robHj4FKDeAv4yGueMTjEpFDY2aT3T1X63DL4aV49UZe/bL/RTuMQm/xo6dEOwQRkUIpUp8hcjNJ3GPA6e5e3t3LuXvZwpCcy2EorjjUTITF42DYrcRMfpVpdS/nlnX9mbVi8777tj4f4ksVSCv64rXbmP7HRvq3qbFP+Zlt07u6/xp0dZ/7BXgarJsPPz0d8bhEREREROTwkpsEfZW7q1uZFIy6XeDPGTD5deh+O/XOe4yS8XH7L7lWsgK0PAdmfAQ7Nu4pHj5zJZe/Nom3fl7M6i35s17659NWYAantd43QTczHjmzJcVig67uPutTqNIYmvWHMf+F9ZpETkQOL2bWN5wMLuPj03yod2IW9bbMj5hFRESKktwk6Elm9kE4q/tZ6Y+IRyZHpoZ9AIMed0Lv+yhfqtj+S66lS7wSUnbA9PcB+HL6Cm54dwpJizdw3+ez6fTP7zl/8M+HlKy7O59PX86xCZWoUaHkfturlSvBg6c3Z8mSRbBkPDQ/E/o9CjFxMPzOYAZ6EZHDhLt/E04Gl/FxZj7U2zGLemfmR8wiIiJFSW4S9HLAduBE4LTwcWokg5IjWJ2OcOfv0PvePWPO91lyLaMabaBme0h6lS+nLefm96eSWLcSE+45nm9u6cENvRuxduvu/ZL1dVt35Tqc2Ss2s3DNNvq3qZntPme2rcnNNeZiOMtq9INyNaDX32HBd0G3dxERERERkVyIO9AO7n55QQQiskfpyvu8bFStLF0bVubtCUsY1KP+3mXZIGhF//w63v3wXRLrduO1yztQungcxxxdlmOOLsutfRoxb9VWhs1cyfCZK3n9i2+ZP/IPbrnxDipVKH/AUD6bupz4WOOkFkdnu4+ZcW7JJBZQi7t/2MkHjZzYYwfB9HdhxN3QoDcUL5vn2yEiIiIiIkeGA7agm1ljM/vezGaFr1uZ2b2RD01kr4Fd6rFy006+nb1qn/Jh3pmNXpqbyv24JznPyMw45uiy3HZCY0ZeUp2vy/2L/0t9muJPt4CRD8KmZdmeMzXN+XLGCo5rXJWKpYtlH9zmlRRbPoHdx/QnackGhoxbCLFxcMqTsGUljPrXoVy6iIiIiIgcIXLTxf1l4G9AMoC7zwDOj2RQIpn1bnIUtSuV3GeyuC+nr+DGj+YytnRfOu3+mdK712ZfwcY/4K0ziI+LY0STfzE2+Rh83FPwv1bw0UBYOmG/8eITF61j1eZdOXZvB8Ju7E7T4y+hb/Nq/Oeb35j2x0ao3QHaD4SJL8KfGkopIiIiIiI5y02CXsrdJ2UqS4lEMCLZiY0xLu2UwKTF65m1fBNfTl+xZ8z58ZfcjaWlwJS3sj5421p460zYtRUu+YQ+A67l2aMe4PTYZ9mReC38/gO82hcG94Rp7wXrsQNfTFtBqWKx9GlaLefgZn8KRzXDjmrKY2e3plq5Elz/zhQ2bU+GPg9AyYrw1W2Qlpa/N0VERERERA4ruUnQ15pZA8ABzOwcYGVEoxLJwrmJtSkZH8tdQ2fsSc5fu7wDpaofA/V7BkuzpWb67mjnZnj7bNj0B1z4PhzdkvjYGP47oDW/7qzInZvOgdvmwimPQ/J2+OxaeON0diUnM3zmSvo2P5qSxWKzD2rzClj6czB7O1C+VDzPXtiO1Vt2csfQ6XiJCnDiw7BsEkx9M1K3RkREREREDgO5SdCvB14CmpjZcuAW4C+RDEokK+VLxXNWu5rMWbl5T3K+Z8x5h6tg8zKY/83eA5J3wvsXwqpZcO6bwRrroSZHl+Om3o34asZKRvy2OTj++knQ79/wxwR+++41Nu9MoX+bGuRozufBz2Zn7ClqU7sCd5/UlO/mrOLV8Yuh9flQtxt89wBsXZM/N0NERERERA47B0zQ3X2hu/cBqgJN3L2buy+OeGQiWbi5TyPuOLHx/hPCNT4JytaAX4YEr1NT4OMrYfFYOOMFaNx3v7qu7dmAFjXLcd/ns4I11s3g2EFQvQ21pzxGzVJO14ZVcg5o9qdQrQVUbbxP8RVdEzihWTUeHTGXacs2walPwO5t8N39h3oLRERERETkMJVtgm5mF4c/bzOz24BrgKszvBYpcEeVLcENvRvtN1s7sXHQ/jL4/XtY9zt8eTP8+hWc9Bi0OjfLutK7um/akcz9n88KCmNi2N7r/6iYsoaHqv2475JumW1aDn9MhOZn7LfJzPjvOa05qmw4Hr10fehyY7D02sIf83j1IiIiIiJyOMupBb10+LNsFo8yEY5L5OC1uxQsFt48A6a9DcfdDR2vyfGQfbq6zwymVhi+pQFfp3ag15q3Ycuq7A/e0739zCw3ly8Vz3MXZRiP3uMOqNwwaNnftDwvVygiIiIiIoexuOw2uPtL4dOR7j4+4zYz6xrRqETyolwNaHJKsOzZsYOg5925Ouzang34Zs6f3Pf5LDrWr8zn05aTXGogfZNvgVEPw+nPZH3g7E/h6JZQpWG2daePR//HV3N4dVJlrjzvHXjlePjgYrh8BMSXyMOFiojIoWpZszxJj54S7TBERET2kZtJ4rLKTrLJWESirO8/4dQng8nezHJ1SMau7rd8MI3xC9bSvl0iduygYOm2rNYw3/hHMDN7hsnhsrPPePRdR8OZL8GKKTDs9v3WXhcRERERkSNXti3oZtYZ6AJUzTTmvByQw7pTIlFUoTYkXnHQh6V3dX/8u3kA9G9TE8rdGYwZ/+bvcOnn+yb86d3bm2fdvT2j9PHoJz89luvfmcJ9p7anYdPraDjteeZQn6UNL9qzb2yMkVi3IhVLFzvoaxARERERkaIt2wQdKEYw1jyOYNx5us3AOZEMSiQaru3ZgJFzgzHnjauFb/nj7oav/wrzv913JvjZn8LRraByg1zVnT4e/dyXfubat6dgdOGV+J/pMfURHpzoTPKme/aNjTG6NKjMKS2r07f50UrWRURERESOEOYH6GJrZnXdfclBV2xWAhgDFCdI8oe6+wNm9g6QCCQDk4Br3D3ZzAx4CjgZ2A4MdPcpOZ0jMTHRk5KSDjY0kWxt351CmkOZ9FniU5Ph+U5gMfCXnyA2HjYsgadawfEPQPeDW9BgzZZdrNmyC4CYXZuo99lpxO7ewsIzh5NSpjrbdqfww6+rGTZjJUvXb1eyLhJhZjbZ3ROjHYcUPH2GEBGRQxGpzxC5SdCrAncBzYE9M1q5e+8DHGdAaXffambxwDjgZqASMCLc7V1gjLu/YGYnAzcSJOgdgafcvWNO59AfVykQvw6H9y+Ak/8Lx14N45+G7+6Dm6ZCpfqHVvfqX4NJ46o03mfSOHdn9orNDJu5cp9kvUejKjx2Tmuqli2eDxcmIkrQj1z6DCEiIociUp8hcjNJ3DvAr0A94CFgMfDLgQ7ywNbwZXz4cHcfHm5zghb0WuE+/YE3w00TgApmVv2grkYkEo45CRK6w6h/wo6NQff26m0OPTkHOKpJlpPGmRktapbnr/2a8OOdPfnqxm4M6lGfn35fx60fTCM1TZPLiYiIiIgcbnKToFd29yFAsrv/6O5XADm2nqczs1gzmwasBr5z94kZtsUDlwBfh0U1gT8yHL4sLMtc5yAzSzKzpDVr1uQmDJFDYwZ9H4EdG+DLm4NkOheTw+Va01Ohx13B2u2/vLK33B12b8O2rqZFibX8tdVOnjkOflqwmudGLci/84uIiIiISKGQ0yRx6ZLDnyvN7BRgBUE39QNy91SgjZlVAD41sxbuPivc/DxB9/axBxOwuw8GBkPQPe1gjhXJs+qtoc1FQRIN0PyM/K2/599g5XQY8VcY9yTs2gq7t4Cn7bPbicDUMpX5YFQnppW/njaJXfM3DhERERERiZrcJOgPm1l54HaC9c/LAbcezEncfaOZjQL6AbPM7AGgKnBNht2WA7UzvK4VlokUDr3vhdmfQNVjoGJC/tYdEwNnDYZRj8Du7VC8DBQrk+FnueB58g5KzxjKFfO/Ju6rYSRPakl8u4ugxTlQpmr+xiQichibuXwTCXcPi3YYhdLiR0+JdggiIkesAybo7v5V+HQT0Cu3FYeTyyWHyXlJ4ATg32Z2FdAXON59n+bBL4AbzOx9gkniNrn7ytyeTyTiylWHiz+BkhUiU3/JCnDyfw64W1zLc5i/aDHvv/okF234ifpf3x2s1d7oBGg/MBgzLyIiIiIiRc4Bx6CbWX0z+9LM1prZajP73MxyMztWdWCUmc0gmFTuuzDZfxGoBvxsZtPM7P5w/+HAQmAB8DJwXV4uSCSi6naGo5oeeL8Ia1QvgUan3U7vLQ/yTrsPoMuNQRf5986HGR9GOzwREREREcmD3HRxfxd4DkifFet84D2CVu5sufsMoG0W5VmeM5zV/fpcxCMiwHkdajNh4Tru+3kF9a+6ic6974U3Tocvb4EabaFKo2iHKCIiIiIiByE3s7iXcve33D0lfLxNhvXQRSQ6zIxHzmxJQpXS3PT+VNZsT4OzX4G44vDRQEjeEe0QRURERETkIOQmQR9hZnebWYKZ1TWzu4DhZlbJzHI1m7uIREbp4nE8d2E7Nu9IDtZHL1sjmGxu1Sz4+u5ohyciIiIiIgchNwn6uQSzrY8CRgN/IejmPhlIilhkIpIrTauX46HTmzNuwVqeH7UgmCyu6y0w+XWYOTTa4YmIiIiISC7lZhb3egURiIjkXfp49CdHzqNLwyq0730vLP0Zvrw5GI9euUG0QxQRERERkQPITQu6iBRyZsY/zmjB0eVKcOfQ6exMi4FzXoXYePjoMkjeGe0QRURERETkAJSgixwmypaI59GzW7FwzTae/G4elK8FZ74Ef86Eb+6JdngiIiIiInIAStBFDiM9GlflgmNr8/LYhUxZugEa9w3WSE8aArM+iXZ4IiIiIiKSg2wTdDNrl+nR1sxqF2RwInLw7jm5KUeXK8EdH01nZ3IqHP8A1OoAX9wE6xdGOzwREREREclGTi3oj2d6PAF8ZWZzzaxNAcQmInmwX1f32Hg45zWIiQ3WR0/ZHe0QRUREREQkC9km6O7eK4tHa+AS4OmCC1FEDtZ+Xd0r1Ib+z8HK6TDmP9EOT0REREREsnDQY9DdPQkoE4FYRCQf7dfVvemp0PpCGPs4LJ8c7fBERERERCSTg07Qzawa4BGIRUTy0X5d3QFOehTKVodPr4XkHdENUERERERE9hGX3QYze4b9E/FKQBfg5kgGJSL5I2NX974tjqZdnYrQ/1l46wz44WHo+0i0QxQRERERkVBOLehJwOQMjyTgPaCTu39ZALGJSD7Yr6t7g17Q4Sr4+TlYPC7a4YnIEc7M2pjZyRleP2hmdxxCfQPN7Nn8iU5ERKRgZduCDgwHqrr7nIyFZtbMzNzd10Q2NBHJD+ld3S99dRL3fjaLnsdUJbb6tfQo/S18eA1jjv+M1PjSADStXo4GVTXFhIgUqDZAIsHnDhERkSNaTi3ozwBVsiivDDwVmXBEJBJ6NK7KxZ3qMHTyMm54dyp/+XAel60fSMlty1n/6V+54d2p3PDuVE59ehxL1m2Ldrh54q6pMSTyzCwhXG70ZTObbWbfmllJM2tgZl+b2WQzG2tmTcws1swWWaCCmaWaWY+wnjFm1iibc5Qxs9fMbKaZzTCzs8PyF8wsKTzvQxn2f9TM5oT7/jcsq2pmH5vZL+Gja1h+nJlNCx9TzaxsNjFUD2OcZmazzKx7WL7VzP4TxjDSzI41s9FmttDMTg/3KZEh/qlm1iu7cjMrBvwfcF54rvPCEJplqPemDHFdbGaTwn1fMrPYsPxyM5tnZpOArnn/FxYREYmunFrQG7r7mMyF7j7WzF6IYEwiEgH/6N+CK7rWIzUtPZHtwcafV3PRtBfp2X8gq6p157Ihk7hz6Azev7oTMTEW1Xhza+GarTz7wwK+m7OK+09rxoDE2tEOSQ5/jYAL3P1qM/sQOBu4HLjW3eebWUfgeXfvbWa/Ac2AesAUoLuZTQRqu/v8bOq/D9jk7i0BzKxiWP53d18fJqXfm1krYDlwJtDE3d3MKoT7PgU86e7jzKwO8A3QFLgDuN7dx5tZGWBnNjFcCHzj7o+E5ysVlpcGfnD3O83sU+Bh4ITwGt8AvgCuB9zdW5pZE+BbM2ucVTnQGLgfSHT3G8LrfRBoAvQCygK/hZ87GgLnAV3dPdnMngcuMrPvgIeA9sAmYBQwNauLMrNBwCCA2HJVs7l0ERGR6MkpQc/yW/VQ/IEqNrMSwBigeHieoe7+gJnVA94naImfDFzi7rvNrDjwJsEf2HXAee6+OFdXISIHZGbUz9x9/ZSHYPloao65i5rX/cx9pzbjro9n8NaEJVzWJSEqceZWemL+2bTlFIuLoV6VMtw5dAYLVm/lrn5NiC0iXzBIkbTI3aeFzycDCQQTqH5ktud9Vzz8ORboQZCg/wu4GvgR+CWH+vsA56e/cPcN4dNzwwQzDqhOkBTPIUiyh5jZV8BXGepoliGecmFCPh54wszeAT5x92XZxPAL8KqZxQOfZbje3cDX4fOZwK4wWZ4Z3geAbgS98HD3X81sCUEinl15Voa5+y5gl5mtBqoBxxN8RvglvK6SwGqgIzA6feidmX2QXb3uPhgYDFC8eiN1uxERkUInpy7uCyzDpC3pzOwkYGEu6t4F9Hb31gTjy/qZWSfg3wTf6jcENgBXhvtfCWwIy58M9xORSIovAWe+CFtXw4i/MiCxFsc1rsqjI34ttF3dF67Zym0fTKPPEz8yfNZKrupen3F/7c0XN3Tlkk51eWnMQga9mcTWXSnRDlUOX7syPE8lWOFko7u3yfBoGm4fA3QHjiUYY10B6EmQuOda+OX2HcDx7t4KGAaUcPeUsO6hwKnsTZ5jCCZ1TY+nprtvdfdHgasIktvxYUv2fsIedD0IWuhfN7NLw03Jvnc8SVr6vXD3NHL+0v9gZb7HcYABb2S4pmPc/cF8PKeIiEjU5ZSg3wL8z8xeN7Mbw8cbBN3mDrjMmge2hi/jw4cDvQk+SEDQHe6M8Hn/8DXh9uMtw1f/IhIhNdpCjzthxgfYlDf4b89iJMSs4t8ffE/altWwYyPs3g5pqVENM7vE/J6Tm1KlTHHiY2P4xxkt+L/+zRk9bw1nP/8Tf6zfnqu63Z0N23bn+EhOTYvwFUoRthlYZGYDAMIx563DbZMIWtfT3H0nMA24hiBxz853BN3BCeurCJQDtgGbzKwacFK4rQxQ3t2HA7cC6ef9FrgxQx1twp8N3H2mu/+boJU8ywTdzOoCq9z9ZeAVoF2u7kRgLHBRWE9joA7wWw7lW8i5116674FzzOyosI5KYZwTgePMrHLY4j/gIGIVEREpVLL9tjscR9eSYBxai7D4R+Ca8EPGAYXj1iYTjBt7DvidoJUhvWlrGVAzfF4T+CM8d4qZbSLoBr/2oK5IRA5ejztg3tfw5c1UBUYYQcfRxzPt1+RUOPctiMnpu7389+X0Fdz6wTTiYo2rutdnUI/6VClTPMt9L+2cQL0qpbn+nSmc8dx4XrykPR0SKu23n7szfdkmhs1YwfCZf7J8444cY2havRzDb+qGvjeUbFwEvGBm9xJ8If0+MN3dd5nZH8CEcL+xwAUE3cOz8zDwnJnNImg9fsjdPzGzqcCvBH8rx4f7lgU+D4eVGXBbWH5TWMcMgr/1Y4BrgVvCSdvSgNnAiGxi6AncaWbJwFbg0mz2y8rzBPdiJpACDAzvQ3blo4C7zWwawTCALLn7nPD+fmtmMUAywXj6CeG49Z+BjQRfgoiIiBRJVhAzH4eT1nxKMPHN62E3dsysNjDC3VuEH0T6pY+HM7PfgY7uvjZTXXsmeKlTp077JUuWRDx+kSPCzk2waAyk7sZTdvHamHksW7uJG46rS6XiDusXwpQ34dQnIfGKAgvry+kruOWDabSvW5HnL2qXbWKe2e9rtnLVG0ks37CdId220L3UUrzzdUxflbxPUh4fa3RrWIWuDasQl8249fmrt/LOxKW8d3UnOjeonJ+XJ1FmZpPdPTHacUjBK169kVe/7H/RDqNQWvzoKdEOQUSk0IvUZ4hsW9DNbAtBl/T9NhH0YC+X25O4+8bwG/LOQAUziwtb0WsRjG8j/FkbWGZmcUB5gsniMte1Z4KXxMRETfAikl9KlIempwHBf/KT6u3gxCfGMHtBOd67uhMxBmxYAt/eDw1PgAqRny09Y3L+2sAOlC6e+yGuDSqV4Kteq1j99WPUm7gAgDmjP+TKHbeyObYC3RpW4ZY+jTix2dGUL5XzvJc7dqfyxfQVvDdpqRJ0EREREYmYnLq452Y8WLbMrCrBZDIbzawkwTIs/yZY/uQcgu5/lwGfh4d8Eb7+Odz+gxdE876IZKl6+ZL7z+p++tPwfGf46ha4aChk6O69ZWcyG7YlZ1ufGdSoUDLXs6vnOTnfvR2mvQM/PUPpjUtIqNyIT0v/jbGLd/Bo7PP8WOkR/MKhlK3V9MB1hUoWi+XsdrV4d+JS1m/bTaXSxXJ9rEh2zOxy9p/TZby7X5/V/hGKoSXwVqbiXe7esaBiEBERkb3yc8bVzKoDb4Tj0GOAD939KzObA7xvZg8TrFM6JNx/CPCWmS0A1pNhiRkRiY4BibUYNnMlj474lV7HHEWdygnQ50EYcRdMf49NjQfw7Zw/GT5zJeMWrCU5Nefv1BIql+LG3o3o36YGcbHZj2PPU3K+fT388gpMfBG2r4NaHaDvP7FjTubMmBjOcMeWn0axd8+Dd06C89+Ful1yfS/OP7Y2r/+0mI8nL+PqHvVzfZxIdtz9NeC1KMcwk2ClFRERESkECmQMeqQkJiZ6UlJStMMQOayt3BR0dW9WI+jqvmXHbpJf6UvJTfM5YddjrEitQM0KJTmlVXUaVytLdu3jO5JTeXfiUuas3Jxjop6n5PzXYfDx1ZC8DRqdCF1vCZLvrCZ0W78Q3hkAG5cGS8y1ODvnundvg99GwOo5fDx5KbuTUzm/Qy0MBw8fODQ4Hhr1OXCsUqhoDPqRS2PQs6cx6CIiBxapzxBK0EXkgD785Q/u+ngGLWuW59c/N1MrbQVfF/8biyt2ZseZb9C6doVczW7u7nw7ZxVPjZyfZaKep+R87pfw0UA4uhX0fxaqNT/wMdvXw/sXwdKfgh4BXW/ZN5lPTYaFo2HGh0Hyn7wNLJZUiyElFeLjYoixGLCY4LiUXVCyItw2B2JzHs8uhYsS9COXEvTsKUEXETmwAp8kTkQk3YDEWoz6bTUzl2/i8q71OLllF4ot2coxIx+AzaPAzspVPWZG3+ZHc2KzansS9ds/ms4zP8ynb4ujeWXsooNLzud8DkOvCNZyv/jjYKK73ChVCS75FD6/DkY+GEx+d/J/YMXUICmf/SlsXwslKkCrAdDyXKjTmd0pzrH/HEmvhkfx9AVt99Y37xt491z4bTg065+7GEREREREMlGCLiIHZGa8cHH7fQtr3ABzPoPhd0K9HlC6SvYVuMPKabB1NbhjnkbfmDROPCGN6X9sYPiMFSwZu5MetbvybG6T89mfwtAroVZiMGFdiVwvLBGILwFnvQIV6sK4J2DWx7BrM8SVgGNOCpLyhn0gbu+EcCWLkfVkcQ37QLlaMPl1JegiIiIikmdK0EUkb2LjoP9z8NJxMOKvcM6Q/ffZvR1mDYVJg+HPmfttNoLZqdoAFAPf9Br2y23Q8RqIL5n9uWd9HIw5r9UBLh4KxfO46ERMDPR5AKo0ClrBG/eFJqfmmOynTxb3yZRlXNU9nCwuJhbaXQqj/wnrF0GlenmLR0RERESOaErQRSTvqjWHHncGiWmLs6BJOG5x/aJgRvWpb8POjXBUczj1STi6dTBm2ywcvx0DhM93bsTGPQkjH4CJL0Gvv0HrC4MvAjKaORQ+uRpqd4KLPsx7cp5RmwuDRy40Oboc7epU4N1JS7myW729Y+/bXgw/PgpT3gySfhERERGRg6QEXUQOTbdbg7HgX90GngZT3oL53wZJd9PT4NhB2c+onlndLrB4HHz3AHxxI/z0LBx/X9CqbRaMD//0GqjTBS78AIqXifz1ZeHCjnW546PpTFy0nk71KweF5WtC437BlxK97tFkcSIiIiJy0LJfiFhEJDfiisEZz8G2NfDBxcFEa8fdBbfOgnPfgISuuUvO0yV0g6tGwnlvAx7UOeQEGP3vIDmv2zVsOY9Ocg5wSsvqlC0Rx3uTlu67of1A2LY6mCxOREREROQgqQVdRA5djbZw7puQshOanr7PxGp5Yha0vjc+Caa9A6MfDbrR1+sBF3wAxUrlT9x5VLJY7J7J4h44TZPFiYiIiEj+UAu6iOSPpqdCy3MOPTnPKDYO2l8GN02B896BCz+MenKe7vxja7M7NY1PpizbW5g+WdzvPwTj8EVEREREDoJa0EWk8IsvGXwBUIhosjiRoq1lzfIkPXpKtMMQERHZh1rQRUTy6MKOdVm4ZhsTF63fW1i+JjTqG0wWl5ocveBEREREpMhRgi4ikkfZThaXeLkmixMRERGRg6YEXUQkj9Inixsx8082bNu9d0PGyeJERERERHJJCbqIyCFInyxu6ORsJovbsDhqsYmIiIhI0aIEXUTkEDQ5uhwd61Xi31//yhPfzWN3Slqwoe3FYDEw+Y3oBigiIiIiRYYSdBGRQzT4kkROb12Dp7+fT//nxjN7xSZNFiciIiIiB00JuojIISpfKp4nzmvDK5cmsnbrLvo/O54nvptHctvLwsniRkQ7RBEREREpApSgi4jkkz7NqvHdrT04LWxNP+ObkiSXrg6TX4t2aCIiIiJSBMRFqmIzqw28CVQDHBjs7k+ZWRvgRaAEkAJc5+6TzMyAp4CTge3AQHefEqn4REQioUKpYjx5XhtOblmdez6dyfM7unDzto/ZvWYRxarWi3Z4IhKauXwTCXcPi3YYhdLiR0+JdggiIkesSLagpwC3u3szoBNwvZk1Ax4DHnL3NsD94WuAk4BG4WMQ8EIEYxMRiagTwtb0DU3OJ9WNn567ikc++JFx89eSkpoW7fBEREREpBCKWILu7ivTW8DdfQswF6hJ0JpeLtytPLAifN4feNMDE4AKZlY9UvGJiERahVLFePDiE/mjza10Zyo3zzmP8a//nW6PjOBvn8xUsi4iIiIi+4hYF/eMzCwBaAtMBG4BvjGz/xJ8QdAl3K0m8EeGw5aFZSsz1TWIoIWdOnXqRDJsEZF8kXDmA9D9Qkp+cx9/nf8+V8WM4p/TzuPiSR2pVLo4fZsfzS19GlGtXIlohyoiIiIiURTxSeLMrAzwMXCLu28G/gLc6u61gVuBIQdTn7sPdvdEd0+sWrVq/gcsIhIJVRoRe9H7cOkXVK58FI/HPM20Go9xUc1VfDxlGQ9+MTvaEYqIiIhIlEU0QTezeILk/B13/yQsvgxIf/4RcGz4fDlQO8PhtcIyEZHDR/3j4Jofof9zVNj9J7cvvZ7Pqg3hjzkTWL5he7SjExEREZEoiliCHs7KPgSY6+5PZNi0AjgufN4bmB8+/wK41AKdgE3uvk/3dhGRw0JMLLS9GG6cAj3uosmmcXxV7B5KvZgI394HyyaDe7SjFBEREZECFskx6F2BS4CZZjYtLLsHuBp4yszigJ2E48mB4QRLrC0gWGbt8gjGJiISfcXLQO+/E9PxWt5643nqrR5J1wnPYz89DeVqQbPToVl/qHUsxER8RJKIiIiIRFnEEnR3HwdYNpvbZ7G/A9dHKh4RkUKrdGUa9buO8we344nT63BWqVkw53P4ZQhMeB7KVofz34Ga+/3qFBEREZHDiJpkREQKgY71KtHk6LIMnrQBb30+XPg+3LkAzh4CaSkw6p/RDlFEREREIkwJuohIIWBmXN41gV//3MLEReuDwhLloOU5cOwgWDAS1s7PuRIRERERKdKUoIuIFBL929SkQql43vhp8b4b2g+E2GIw8aVohCUiIiIiBUQJuohIIVEiPpbzO9Thm9l/snzjjr0byhwFLc6Bae/Czk3RC1BEREREIkoJuohIIXJJ57oAvPXzkn03dBwEydtg6jtRiEpERERECoISdBGRQqRmhZKc2Oxo3v9lKTuTU/duqNEWaneCSS9BWmr2FYiIiIhIkaUEXUSkkBnYNYGN25P5fNryfTd0uhY2LIb530YlLhERERGJLCXoIiKFTPqSa6+NX4y7793Q5FQoVxMmvhi94EREREQkYpSgi4gUMmbGwC6ZllwDiI2HDlfBwtGwem7U4hMRERGRyFCCLiJSCKUvufb6+MX7bmh3GcSV0JJrIiIiIochJegiIoVQyWLBkmvfzsm05FrpytByAEx/H3ZsOOTz/PDrKv45fC4pqWmHXJcUbWaWYGZzzexlM5ttZt+aWUkza2BmX5vZZDMba2ZNzCzWzBZZoIKZpZpZj7CeMWbWKJtzlDGz18xsppnNMLOzw/IXzCwpPO9DGfZ/1MzmhPv+NyyramYfm9kv4aNrWH6cmU0LH1PNrGzk75qIiEj+UoIuIlJIXdypDpDVkmvXQsoOmPJmnuvetD2Z2z6cxhWvJzF4zEI+n7biUEKVw0cj4Dl3bw5sBM4GBgM3unt74A7geXdPBX4DmgHdgClAdzMrDtR29/nZ1H8fsMndW7p7K+CHsPzv7p4ItAKOM7NWZlYZOBNoHu77cLjvU8CT7t4hjO+VsPwO4Hp3bwN0BzJ8sxUws0HhFwFJqds35eX+iIiIRJQSdBGRQqpWxVJ7llxbt3UXW3YmB48Kx5BSpytpEwezZfsOtu9OOah6v5+7ihOe/JHPp63gpt4NaVa9HM/8MF+t6AKwyN2nhc8nAwlAF+AjM5sGvARUD7ePBXqEj38RJOodgF9yqL8P8Fz6C3dP7wZyrplNAaYCzQkS/03ATmCImZ0FbM9Qx7NhPF8A5cysDDAeeMLMbgIquPt+/zHcfbC7J7p7Ymyp8rm5HyIiIgUqLtoBiIhI9gZ2TeDr2X/S/uGR+5T3jTmWl4qN546H/803aR1oU7sCp7SszsmtqlOzQsks69q0PZmHvprNJ1OW0+Tosrw6sAMtapanRc3yDHprMp9PW8HZ7WvtPSAtDSa/GiztdsI/wCyCVyqFxK4Mz1OBasDGsFU6szHAX4AawP3AnUBPgsQ918ysHkHrdwd332BmrwMl3D3FzI4FjgfOAW4AehM0LnRy952ZqnrUzIYBJwPjzayvu/96MLGIiIhEmxJ0EZFCrGO9SvzvvDas3bprn3Lzxmz56X0erDCGY5pfyPdzV/HI8Lk8MnwubWpX4NRW1Tmp5d5k/fu5q/jbJzNZt203N/VuyA29G1EsLuhEdUKzanta0fu3qUFcbAxsXAqfXQeLw1yr3nHQ6ISDit3d+d/I+azespN+LarTpUFl4mNz13Fr045kRs5Zxeh5a2hZsxwXd6pLqWL6kxUFm4FFZjbA3T8yMwNauft0YBLwFrDQ3XeGLdrXAKfmUN93wPXALQBmVhEoB2wDNplZNeAkYHTYKl7K3Yeb2XhgYVjHt8CNwH/COtq4+zQza+DuM4GZZtYBaAIoQRcRkSJFn3ZERAoxM+OMtjWz3hh7HWW/u4/bWu7ithO6s3jtNobNXMnwmSt5eNhcHh42l7Z1KnBU2eJ8M3vVPq3mmc9xS59GQSv61OWcbT/AN38HHE59EsY+AaMfhYZ9ct2K7u488MVs3vx5CcXiYnhv0h9UKBVP32ZHc0qr6nTOIllPT8qHzVzJ2PlrSE51KpaK58vpK3jpx4Vcc1x9JerRcRHwgpndC8QD7wPT3X2Xmf0BTAj3GwtcAMzMoa6HgefMbBZBC/1D7v6JmU0lSKb/IOiqDlAW+NzMSgAG3BaW3xTWMYPgc8wY4FrgFjPrBaQBs4ERh37pIiIiBcvcPdox5FliYqInJSVFOwwRkejYsQGeaAYtzoL+4bDe1GRYv4jVC2fw+69T2L58DsV2rsMSutCx70XE12iZZZLt7lzyv8+5YetTdEqdAgndgzor1oWkV+GrW+Hij4Mk/QAyJueDetTnthMaM2beGobNXMnIOavYtjuVCqXi6de0KtfyETt2p/Detva8t6QMyalQo3wJTg6767etXYHJSzbw1PfzGTt/LZVLF+OaHglcWmM5JWZ9APO/hbqdofONUKfjQd9CM5scTk4mR5ji1Rt59cv+F+0wCqXFj54S7RBERAq9SH2GiFiCbma1gTcJxq85MNjdnwq33UjQxS0VGObud4XlfwOuDMtvcvdvcjqHEnQROeJ9dStMfSfofr52HqxfCGkZ5sYqVxMvUR5bPSd4Xb42NO4Hx/QLkvC44uAOMz8i+cvbSdm9k99a3kGbs+6EmLCFO2U3PN0WytWAK7/NsRU9c3L+t5OaYBn235mcyph5axg+Yxk9f/0/zrAfSXMjxpy1JeqQfEx/ju58HlatxX7nmTljKgtGvkLixm+oHbOG3bGliWnYi7gl42DnRqjVATrfAE1Pg5jYXN0+JehHLiXo2VOCLiJyYJH6DBHJfoIpwO3uPiVci3SymX1HkLD3B1qH3eOOAjCzZsD5BLO31gBGmlnjcCkXERHJSqfrYO6XsHY+VD0mSE6rHANVGgWP4mUxgC1/wrxvYN7XMPVt+OVlKFYGGvSC1BSYN4K42h35y6YrWLCoGiM9wx+IuGLQ/VYYdjssHAUNemcZyoGSc4AS8bGc2LQqJ857COxHFrW4iS0tL6Xl5jFUmfMZzHgOpj8DlRtB8zPgmJNh1SyY9h4tl/5ES4xNtbry/M4reXrFMZScX4aGFQZyfMxI+q/4jOofXcafMdX4vMQZjCxxArElyvDg6c1pcnS5IIC0NNi6Kpj4buOSzJcg+cTMLgduzlQ83t2vj0Y8IiIiRUWBdXE3s8+BZ4GrCVrTR2ba/jcAd/9X+Pob4EF3/zm7OtWCLiKSB8k7YNEY+G1EkLBvXw+974XO1/Pt3DUMemsyjw9ove+M7im7glb08rXhiq/3a93OTXIOQFoqfHEjTHsHet4DPf+67/ata2DuFzDnM1g8Djxc+q1yI2hzAbQ6D8oHcSUtXs+bPy9h666gx4B5Km23/0TfzUNptGs222LK8IX3oJilcWqdZIpvWRpMfpe6d8I9e2izWtCPUGpBz55a0EVEDqzIdXHf5yRmCQSTuLQIf34O9CNY3/QOd//FzJ4FJrj72+ExQ4AR7j40U12DgEEAderUab9kiVpARETyzB1Sdwdd3QkS7VOeHsf23SmMvO24YEb3dJNehuF3wCWfBS3ve6rIbXKeFibnb0PPv0HPu3OObetqWPA9VG4ItRIPbpm3P36Bn5/B537JlrQSrImrTt2GzYirnAAVE6BCAlSsi1VtrAT9CKUEPXtK0EVEDqwodnEHIFwm5WPgFnffbGZxQCWgE9AB+NDM6ue2PncfDAyGoAU9AiGLiBw5zPYk58HLDDO6Z14Xvd2lwYzuP/4b6vcEs7wl58fdfeDkHKDMUUGreV7U7gC138RSk5n023oGvZXECSnVeL5Pe2JjtJ67iIiIFE65W5A2j8wsniA5f8fdPwmLlwGfeGASwXIoVYDlQO0Mh9cKy0REpABlXBc9JTVt74a44tDtVlj6Mywaw4LVW7j27ckHn5z3+lvBXUxsPH2aVeO+U5vxzexVPDpibsGdW0REROQgRSxBt+BT2hBgrrs/kWHTZ0CvcJ/GQDFgLfAFcL6ZFTezekAjYFKk4hMRkaylt6IvXredz6et2Hdju0tJKV2NBR/dxwlPjmHs/LXc2feYnJPzL9OT878WbHKeweVd63FZ57q8PHYR70zU0CgREREpnCLZxb0rcAkw08ymhWX3AK8Cr5rZLGA3cJkHA+Fnm9mHwByCGeCv1wzuIiLRkbEVvX+bGsTFxrBg9Rae/n4BlTb248H4N3ikzUb6nTqASqWLZV3JtnXBmPXZnwTJec/oJOfp7ju1GUvXb+f+z2dTq2IpjmtcNarxiIiIiGQWsQTd3ccB2Q30uzibYx4BHolUTCIikjsZx6I/N+p3fl+zlS9nrKBkfCxXdL2StNlfc+GO96D0Rfsf7A7T3oVv74Vdm+H4+6HbbQc3yVsExMXG8MyF7Rjw4s9c/84Uhv6lc1TjEREREcks4pPEiYhI0ZTeiv7kyHmUKhbLtcc14Oru9YMW80q3wtd3B0uhJXTbe9CaefDVrbBkHNTuCKc+CdWaR+8iMilTPI5XByZyxnPjufJ1LdMpIiIihYsSdBERyZKZ8Z8Brfhx3hrO71Bn367s7QfCuCdh9KMw8CtI3gljHw/KipWCU/8H7S6DmIjORZon1cuXZMhlHRjw4s/RDkVERERkH0rQRUQkW81rlKd5jfL7b4gvCV1vgW/+FiTlU96E9Quh5bnQ95FgibRCrEXN8jxzQVtOeDjakYiIiIjsVfiaNkREpGhIvBxKHwUjHwxeX/IpnP1yoU/O0/VpVi3aIYiIiIjsQy3oIiKSN/El4cwXYdVsOHYQxJeIdkQiudayZnmSHj0l2mGIiIjsQwm6iIjkXcPjg4eIiIiIHDJ1cRcREREREREpBJSgi4iIiIiIiBQCStBFRERERERECgEl6CIiIiIiIiKFgBJ0ERERERERkUJACbqIiIiIiIhIIaAEXURERERERKQQMHePdgx5ZmZbgN9y2KU8sKmIbi/MsUV6e2GOLdrbC3Ns+bG9CrA2j8dHO/bCvL0wxxbt7ce4e9kcjpXDVC4+Q0jODvT7Wg5M9/DQ6P4dGt2/QxeZzxDuXmQfQNIBtg8uqtsLc2y6dt2bCG7P8//pQhB7od1emGOL9vYDvef0OHwf+rfX/Yv2Q/dQ90/3r2g/InUPD/cu7l8W4e2FObZIby/MsUV7e2GOLT+2H8iRfG/0voncdhEREZFCoah3cU9y98RoxyEi+UP/p6Wg6T135NK//aHR/Tt0uoeHRvfv0Oj+HbpI3cOi3oI+ONoBiEi+0v9pKWh6zx259G9/aHT/Dp3u4aHR/Ts0un+HLiL3sEi3oIuIiIiIiIgcLop6C3q+MbN+ZvabmS0ws7szbXvazLZGK7ZDZWavmtlqM5uVoWyAmc02szQzK7LdW7K5tjZmNsHMpplZkpkdG80Y88rMapvZKDObE/5b3RyWP2hmy8Prm2ZmJ0c7VtlXVr9PzOx4M5sS/puNM7OG0Y4zL7L5P6f3pIiIiEg+UIIOmFks8BxwEtAMuMDMmoXbEoGKUQwvP7wO9MtUNgs4CxhT4NHkr9fZ/9oeAx5y9zbA/eHroigFuN3dmwGdgOvT35fAk+7eJnwMj16IklkOv09eAC4K35fvAvdGLchD8zr7/58DvSdFREREDpkS9MCxwAJ3X+juu4H3gf7hB+3/AHdFNbpD5O5jgPWZyua6e5Ff/zWrawMcKBc+Lw+sKNCg8om7r3T3KeHzLcBcoGZ0o5JcyPL3CYfP+zKr/3MihUpOveIy7PNvM5thZm9mKLvYzG4psEALkex6bYXbKpnZd2Y2P/y5X8OFmXUN72eSmTUKyyqY2bdmdsR83jSzWDObamZfZSirZ2YTw/fjB2ZWLIvjzg7v+1gzqxyWNTCzDwoy/mgK3y9DzexXM5trZp3Dcr3/csnMbg3fR7PM7D0zKxGW6z2Yjax6BoblWb7vLPB0eC9nmFm7LOqsGvaWnGVmZ2Qo/9zMahwopiPmDXsANYE/MrxeFpbdAHzh7iujEpXk1S3Af8zsD+C/wN+iG86hM7MEoC0wMSy6Ifyl8GpWf6gkqrL7fXIVMNzMlgGXAI9GIbZI0ntSCoWcesVl2Kc80M7dWwG7zaylmZUELg+PPRLl1GvrbuB7d28EfB++zux24GSCv8HXhmX3Av9097RIBl7I3EzwhXpG/yboZdQQ2ABcmcVxNwIdgJeAC8Oyhym6va3y4inga3dvArRm733U+y8XzKwmcBOQ6O4tgFjg/HCz3oPZe52sewZm9747CWgUPgYR9JDM7ALgRYJGm1sAzOw0YKq7H7CBRgl69koBA4Bnoh2IHLS/ALe6e23gVmBIlOM5JGZWBvgYuMXdNxP8ImgAtAFWAo9HLzo5CLcCJ7t7LeA14Ikox5Of9J6UwiS7XiwZpQHxZmYEf++TgTuAZ9w9uUCjLSQO0GurP/BG+PwN4IwsqkgmuJelgGQzawDUdvfREQy7UDGzWsApwCsZygzoDQwNi7K7f2lAcfbev+7An+4+P5IxFxbhl2Y9CD+zuftud98Ybtb7L/figJJmFkdwL1boPZizHHoGZve+6w+86YEJQAUzq57p2PT3Y3EgNfz3uIVcDruNO5gLOIwtB2pneF0L+J3gm7gFwfuaUma2IPzmSQq3ywi+wQb4iAx/KIsaM4snSM7fcfdPANx9VYbtLwNfZXO4REdWv09WASe5e3oPiA+Arws6sEjRe1IKmax6sXTMuIO7bzGz4cBUgpaRTUBHd/9HgUVZiGXRa6taht6EfwLVsjjsX8CbwA6CXkL/5fBvecvsfwTDIstmKKsMbHT3lPB1eq+qzP4FjCQY/nQxweeX87PY73BVD1gDvGZmrYHJwM3uvg29/3LF3Zeb2X+BpQT34Vt3/9bMqqD3YF5k977Lrqdkxh7X74aPQcBfgeuAt9x9e25OrBb0wC9Ao3B8RjGCN+Nn7n60uye4ewKwXcl5kbECOC583hsokt/8hd94DgHmuvsTGcozfkt3JsGEf1J4ZPX75AugvJk1Dvc5gf27QBZZek9KUeTuj4WTGt4O/AO438yuMrMPzeyI+mCfURa9tvbhwfq8+63R6+7T3L2Tu/cC6hN8WLVwvOvbZpZVUnXYMLNTgdXuPjkvx7v7d+7e3t1PI2ihGw40Dsdkv2xmpfIz3kIoDmgHvODubYFtZNGVXe+/7IXDy/oTfNlRAyhtZhfn9ni9B7OX3fsuh/03ufsp7p4ITAFOA9Lv41AL51fIjlrQAXdPMbMbgG8Ixmu86u6zoxxWvjGz94CeQJVw/OsDBF05ngGqAsPMbJq7941elHmTzbVdDTwVdifZSfDtVVHUleBb4JlmNi0su4dgPGUbgl8Ui4FrohGcZC2b3yfTzexq4GMzSyMY/3VFNOPMq2z+z/XUe1IKkax6sSzPbmczawsY8BvwL3fva2avmVmjw71rZ2ZZ9doKrTKz6u6+MvxCbnUOdRhBy+X5BJ8z7gISCMbG/j1SsRcCXYHTLVhmsgRQzszeJvg7XsHM4sIWzAO9H0sBA4G+BL2RzgLOAS4CXo7oFUTXMmBZhp5mQ9mboOv9lzt9gEXuvgbAzD4BugDvoPdgXmT3vjuovzHAfcAjBOPSxxG8tz8huL9ZUoIeCpcFynZpIHcvU4Dh5Ct3vyCbTZ8WaCARkMO1tS/QQCLA3ccRfGjMTEtYFXJZ/T5x9085fP/PFel5HuSws6cXC8GHpvPZO+FRVv5B8EVuPMGXahCMxTyiWouy67UV+oJg+Nij4c/Pc6jqUmC4u68PP+incQTcT3f/G+GktGbWE7jD3S8OX48iSHDe58D3707gaXdPDicudI6M+/enmf1hZseEqwwdD8wJN+v9lztLgU7hde8guIdJ7u56D+ZJdu+7Lwgmxn2fYPjUpuwmFLdgRYFa7j46HLqxk+B+lszpxBa02IuIiIgcHsJWzP+xtxfLI9nsdwbQxt0fDF//l6BVY4a7X1QgwRYSZtYNGAvMJPgwDnCPuw+3YMmlD4E6wBLgXHffb1KlMDEYBpwYfrjvDjwP7AYu9MNgedfcyJCgnxq+rk+QGFUimPfgYnfflcVxNYCX3f2U8PUA4EFgI3BGesvo4SrsifUKUAxYCFzu7hv0/ss9M3sIOI9gVYapwFXuvkvvwexl7BlIMGfQA+4+JLv3Xfhl5rMEM79vJ3ifJmVT94fA3919vpkdBXxGsNTu/e7+cbYxKUEXERERERERiT5NEiciIiIiIiJSCChBFxERERERESkElKCLiIiIiIiIFAJK0EVEREREREQKASXoIiIiIiIiIoWAEnQRERERkXxkZqlmNs3MZpnZl2ZW4QD7P2hmdxxgnzPMrFmG1/9nZn3yIdZ8qecgz3lLuCyaiGSiBF1EREREJH/tcPc27t4CWA9cnw91ngHsSdDd/X53H3moleZXPbllZrHALYASdJEsKEEXEREREYmcn4GaAGbWwMy+NrPJZjbWzJpk3tnMrjazX8xsupl9bGalzKwLcDrwn7BlvoGZvW5m55hZPzP7KMPxPc3sq/D5iWb2s5lNMbOPzKxMFud73czOCZ8vNrN/hedIMrN2ZvaNmf1uZtdmqH+MmQ0zs9/M7EUziwm3XWBmM8OeA//OcI6tZva4mU0H/g7UAEaZ2ahw+wvh+Wab2UMZjltsZg+F8c9Mv19mVsbMXgvLZpjZ2bm9XpHCTgm6iIiIiEgEhK3FxwNfhEWDgRvdvT1wB/B8Fod94u4d3L01MBe40t1/Cuu4M2yZ/z3D/iOBjmZWOnx9HvC+mVUB7gX6uHs7IAm4LRdhL3X3NsBY4HXgHKAT8FCGfY4FbiRo0W8AnGVmNYB/A72BNkAHMzsj3L80MNHdW7v7/wErgF7u3ivc/nd3TwRaAceZWasM51obxv9CeM8A7gM2uXtLd28F/HAI1ytSqMRFOwARERERkcNMSTObRtByPhf4LmzN7QJ8ZGbp+xXP4tgWZvYwUAEoA3yT04ncPcXMvgZOM7OhwCnAXcBxBAn0+PB8xQha8w8k/cuEmUAZd98CbDGzXRnG0k9y94UAZvYe0A1IBka7+5qw/B2gB/AZkAp8nMM5zzWzQQS5SfUw7hnhtk/Cn5OBs8LnfYDzM9yDDWZ2ah6vV6RQUYIuIiIiIpK/drh7m3AitG8IxqC/DmwMW6dz8jpwhrtPN7OBQM9cnO994AaC8e5J7r7Fgiz1O3e/4CBj3xX+TMvwPP11eu7gmY7J/Dqzne6emtUGM6tH0DLeIUy0XwdKZBFPKjnnLnm9XpFCRV3cRUREREQiwN23AzcBtwPbgUVmNgDAAq2zOKwssNLM4oGLMpRvCbdl5UegHXA1QbIOMAHoamYNw/OVNrPGh3hJ6Y41s3rh2PPzgHHAJILu6VXCrv0XhHFlJeO1lAO2AZvMrBpwUi7O/x0ZJt4zs4pE9npFCowSdBERERGRCHH3qQTdtS8gSLivDCdLmw30z+KQ+4CJwHjg1wzl7wN3mtlUM2uQ6RypwFcEye1XYdkaYCDwnpnNIOjuvd+kdHn0C/AsQff9RcCn7r4SuBsYBUwHJrv759kcPxj42sxGuft0YCrBtb5LcN0H8jBQMZyMbjrBePZIXq9IgTH3A/VIERERERERCWZxB+5w91OjHIrIYalItKCb2dZoxyAih87MUsOlW9IfCTnsO9rMEgswPBERERGRqNIkcSJSkHbkYnIcERERKaTcfTQwOsphiBy2ikQLOoCZlTGz781sipnNNLP+YXmCmc01s5fNbLaZfWtmJaMdr4jkjpm1N7MfzWyymX1jZtUzbL4kbGmfZWbHRi1IEREREZECUGQSdGAncKa7twN6AY/b3kUkGwHPuXtzYCNwdnRCFJEDKJmhe/un4Qy1zwDnuHt74FXgkQz7lwpb3K8Lt4mIiIiIHLaKUhd3A/5pZj0I1mGsCVQLty1y92nh88lAQoFHJyK5sU8XdzNrAbQAvgu/b4sFVmbY/z0Adx9jZuXMrIK7byy4cEVERERECk5RStAvAqoC7d092cwWAyXCbbsy7JcKqIu7SNFgwGx375zN9szLTGjZCRERERE5bBWlLu7lgdVhct4LqBvtgETkkP0GVDWzzgBmFm9mzTNsPy8s7wZscvdNUYhRRERERKRAFPoWdDOLI2ghfwf40sxmAknAr1ENTEQOmbvvNrNzgKfNrDzB76T/AbPDXXaa2VQgHrgiOlGKiIiIiBQMcy/cPUbNrDXwsrtrBmcRERERERE5bBXqLu5mdi3BJFH3RjsWERERERERkUgq9C3oIiIiIiIiIkeCQt2CLiIiIiIiInKkKFQJupnVNrNRZjbHzGab2c1heSUz+87M5oc/K4blF5nZDDObaWY/hePV0+t61cxWm9msaF2PiIiIiIiISG4VqgQdSAFud/dmQCfgejNrBtwNfO/ujYDvw9cAi4Dj3L0l8A9gcIa6Xgf6FVTgIiIiIiIiIoeiUCXo7r7S3aeEz7cAc4GaQH/gjXC3N4Azwn1+cvcNYfkEoFaGusYA6wsmchEREREREZFDU6gS9IzMLAFoC0wEqrn7ynDTn0C1LA65EhhRMNGJiIiIiIiI5K+4aAeQFTMrA3wM3OLum81szzZ3dzPzTPv3IkjQuxVooCIiIiIiIiL5pNC1oJtZPEFy/o67fxIWrzKz6uH26sDqDPu3Al4B+rv7uoKOV0RERERERCQ/FKoE3YKm8iHAXHd/IsOmL4DLwueXAZ+H+9cBPgEucfd5BRmriIiIiIiISH4ydz/wXgXEzLoBY4GZQFpYfA/BOPQPgTrAEuBcd19vZq8AZ4dlACnunhjW9R7QE6gCrAIecPchBXQpIiIiIiIiIgelUCXoIiIiIiIiIkeqQtXFXURERERERORIpQRdREREREREpBBQgi4iIiIiIiJSCChBFxERERERESkElKCLiIiIiIiIFAJK0EUOA2b2oJndkcP2M8ysWUHGJCIiIiIiB0cJusiR4QxACbqIiIiISCGmddBFiigz+ztwGbAa+AOYDGwCBgHFgAXAJUAb4Ktw2ybg7LCK54CqwHbganf/tQDDFxERERGRTJSgixRBZtYeeB3oCMQBU4AXgdfcfV24z8PAKnd/xsxeB75y96Hhtu+Ba919vpl1BP7l7r0L/kpERERERCRdXLQDEJE86Q586u7bAczsi7C8RZiYVwDKAN9kPtDMygBdgI/MLL24eKQDFhERERGRnClBFzm8vA6c4e7TzWwg0DOLfWKAje7epuDCEhERERGRA9EkcSJF0xjgDDMraWZlgdPC8rLASjOLBy7KsP+WcBvuvhlYZGYDACzQuuBCFxERERGRrChBFymC3H0K8AEwHRgB/BJuug+YCIwHMk769j5wp5lNNbMGBMn7lWY2HZgN9C+o2EVEREREJGuaJE5ERERERESkEFALuoiIiIiIiEghoARdREREREREpBBQgi4iIiIiIiJSCChBFxERERERESkElKCLiIiIiIiIFAJK0EVEREREREQKASXoIiIiIiIiIoXA/wPFqsRG7C/LAAAAAABJRU5ErkJggg==\n",
          "text/plain": "<Figure size 1008x288 with 2 Axes>"
         },
         "metadata": {
          "needs_background": "light"
         },
         "output_type": "display_data"
        }
       ]
      }
     },
     "e16117792fd544a8953d98e72c3a0270": {
      "model_module": "@jupyter-widgets/output",
      "model_module_version": "1.0.0",
      "model_name": "OutputModel",
      "state": {
       "layout": "IPY_MODEL_7bf0e2c23ce54cfaa068d9d9df199de9",
       "outputs": [
        {
         "data": {
          "image/png": "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\n",
          "text/plain": "<Figure size 1080x288 with 2 Axes>"
         },
         "metadata": {
          "needs_background": "light"
         },
         "output_type": "display_data"
        }
       ]
      }
     },
     "e1ca5a87df9a4f299f0bfa2a56a2f55b": {
      "model_module": "@jupyter-widgets/controls",
      "model_module_version": "1.5.0",
      "model_name": "DropdownModel",
      "state": {
       "_options_labels": [
        "total_cases",
        "new_cases",
        "new_cases_smoothed",
        "total_deaths",
        "new_deaths",
        "new_deaths_smoothed",
        "icu_patients"
       ],
       "description": "column",
       "index": 0,
       "layout": "IPY_MODEL_1a4e01307c144d43a7fd5e177027c0c3",
       "style": "IPY_MODEL_46cb7e085ce74942b039dee7f6313e28"
      }
     },
     "e2253c596fe442f8bef82dd8c97bb208": {
      "model_module": "@jupyter-widgets/controls",
      "model_module_version": "1.5.0",
      "model_name": "VBoxModel",
      "state": {
       "_dom_classes": [
        "widget-interact"
       ],
       "children": [
        "IPY_MODEL_efc83231ba504cbda4ecdfc9a2fab9cd",
        "IPY_MODEL_08bd6a46f7e24cc8a1e4394f2d51285c",
        "IPY_MODEL_990813dfacc44dd597ee82a2981161ae"
       ],
       "layout": "IPY_MODEL_5203134d6ec14359b05f11c0990e6277"
      }
     },
     "e23d0a89e7394781b3c570257042a9d5": {
      "model_module": "@jupyter-widgets/base",
      "model_module_version": "1.2.0",
      "model_name": "LayoutModel",
      "state": {}
     },
     "e285307455b44b71901ecd6e47bcdda5": {
      "model_module": "@jupyter-widgets/controls",
      "model_module_version": "1.5.0",
      "model_name": "DescriptionStyleModel",
      "state": {
       "description_width": ""
      }
     },
     "e2bdc5c754c84f478e69dde14aba4c86": {
      "model_module": "@jupyter-widgets/controls",
      "model_module_version": "1.5.0",
      "model_name": "DescriptionStyleModel",
      "state": {
       "description_width": ""
      }
     },
     "e3fc557aa85f4ee897b7ea9f09047656": {
      "model_module": "@jupyter-widgets/controls",
      "model_module_version": "1.5.0",
      "model_name": "VBoxModel",
      "state": {
       "_dom_classes": [
        "widget-interact"
       ],
       "children": [
        "IPY_MODEL_10d0c7acf8174c8b80f85734ecf51e67",
        "IPY_MODEL_e1ca5a87df9a4f299f0bfa2a56a2f55b",
        "IPY_MODEL_c0c2bb1f536f4d17aacbf99c35c8e85e"
       ],
       "layout": "IPY_MODEL_4d77215ff3064ada95204bb87adc54b3"
      }
     },
     "e5367192a9de4982a2552d53bf586cc7": {
      "model_module": "@jupyter-widgets/base",
      "model_module_version": "1.2.0",
      "model_name": "LayoutModel",
      "state": {}
     },
     "e5fd0206b1c6472e933415780157687e": {
      "model_module": "@jupyter-widgets/controls",
      "model_module_version": "1.5.0",
      "model_name": "VBoxModel",
      "state": {
       "_dom_classes": [
        "widget-interact"
       ],
       "children": [
        "IPY_MODEL_0b405e9071f64e478383faf26f64cbae",
        "IPY_MODEL_91a66c30d2604d7eb99bfc45f7d4d946",
        "IPY_MODEL_1ecb15dc6006413098f7e2bf4ad00cea",
        "IPY_MODEL_055c86b292e943c9ad90bb2dcd73c7eb",
        "IPY_MODEL_e16117792fd544a8953d98e72c3a0270"
       ],
       "layout": "IPY_MODEL_6d45ea0432074706a1293375888dfc5e"
      }
     },
     "e83f62da3616437c81e470da36338ebb": {
      "model_module": "@jupyter-widgets/output",
      "model_module_version": "1.0.0",
      "model_name": "OutputModel",
      "state": {
       "layout": "IPY_MODEL_b38947217e324e0ca67775ea61b45f05",
       "outputs": [
        {
         "data": {
          "image/png": "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\n",
          "text/plain": "<Figure size 1008x288 with 2 Axes>"
         },
         "metadata": {
          "needs_background": "light"
         },
         "output_type": "display_data"
        }
       ]
      }
     },
     "e993098e3e7547da826680be1d11f378": {
      "model_module": "@jupyter-widgets/base",
      "model_module_version": "1.2.0",
      "model_name": "LayoutModel",
      "state": {}
     },
     "e9c302c00bc348b48d1fd3e4928f0977": {
      "model_module": "@jupyter-widgets/controls",
      "model_module_version": "1.5.0",
      "model_name": "SliderStyleModel",
      "state": {
       "description_width": ""
      }
     },
     "ea86241d67434d49b8e8acb780c3c6b2": {
      "model_module": "@jupyter-widgets/output",
      "model_module_version": "1.0.0",
      "model_name": "OutputModel",
      "state": {
       "layout": "IPY_MODEL_0aa70405d4b2463ca25d564ba69427d1",
       "outputs": [
        {
         "data": {
          "image/png": "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\n",
          "text/plain": "<Figure size 1080x360 with 1 Axes>"
         },
         "metadata": {
          "needs_background": "light"
         },
         "output_type": "display_data"
        }
       ]
      }
     },
     "ecfc9ffc18bc48499294510fe71892f7": {
      "model_module": "@jupyter-widgets/base",
      "model_module_version": "1.2.0",
      "model_name": "LayoutModel",
      "state": {}
     },
     "ee28ef51d816436bb927f59d33d8b6ae": {
      "model_module": "@jupyter-widgets/base",
      "model_module_version": "1.2.0",
      "model_name": "LayoutModel",
      "state": {}
     },
     "efc83231ba504cbda4ecdfc9a2fab9cd": {
      "model_module": "@jupyter-widgets/controls",
      "model_module_version": "1.5.0",
      "model_name": "DropdownModel",
      "state": {
       "_options_labels": [
        "Austria",
        "Belgium",
        "Bulgaria",
        "Canada",
        "Cyprus",
        "Czechia",
        "Denmark",
        "Estonia",
        "Finland",
        "France",
        "Germany",
        "Iceland",
        "Ireland",
        "Israel",
        "Italy",
        "Luxembourg",
        "Netherlands",
        "Portugal",
        "Romania",
        "Slovenia",
        "Spain",
        "Sweden",
        "United Kingdom",
        "United States"
       ],
       "description": "Country",
       "index": 0,
       "layout": "IPY_MODEL_621e6860f3ed4b6182fbcd6840a3add6",
       "style": "IPY_MODEL_44fb10af49b14199a2bebe6d6faa28d7"
      }
     },
     "f171ccfdb9864467a13e2e427f319b57": {
      "model_module": "@jupyter-widgets/controls",
      "model_module_version": "1.5.0",
      "model_name": "VBoxModel",
      "state": {
       "_dom_classes": [
        "widget-interact"
       ],
       "children": [
        "IPY_MODEL_b1c2ac2a701c455e833caaaa7d69038d",
        "IPY_MODEL_197c52cb6ec649dd8b2559b6f5b43ea2",
        "IPY_MODEL_8b0c9b439bbb477cbd8a3f0a5d606673"
       ],
       "layout": "IPY_MODEL_8537003efa884aca9be73e70c1e3a0a5"
      }
     },
     "f66dff392b654fb58ba2147d7b6c9420": {
      "model_module": "@jupyter-widgets/base",
      "model_module_version": "1.2.0",
      "model_name": "LayoutModel",
      "state": {}
     }
    },
    "version_major": 2,
    "version_minor": 0
   }
  }
 },
 "nbformat": 4,
 "nbformat_minor": 4
}
