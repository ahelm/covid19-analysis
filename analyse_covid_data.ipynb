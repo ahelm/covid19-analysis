{
 "cells": [
  {
   "cell_type": "markdown",
   "metadata": {},
   "source": [
    "# Forcasting model for Covid-19 data"
   ]
  },
  {
   "cell_type": "code",
   "execution_count": 1,
   "metadata": {},
   "outputs": [],
   "source": [
    "import numpy as np\n",
    "import pandas as pd\n",
    "import matplotlib.pyplot as plt\n",
    "import ipywidgets as widgets\n",
    "\n",
    "from sklearn import metrics\n",
    "from sklearn import preprocessing\n",
    "from sklearn.model_selection import TimeSeriesSplit\n",
    "from sklearn.model_selection import cross_val_score\n",
    "from sklearn.model_selection import train_test_split\n",
    "\n",
    "from sklearn.linear_model import LinearRegression\n",
    "from sklearn.linear_model import Ridge\n",
    "from sklearn.linear_model import Lasso\n",
    "from sklearn.linear_model import ElasticNet\n",
    "from sklearn.linear_model import LassoLars\n",
    "\n",
    "from sklearn.neural_network import MLPRegressor\n",
    "from sklearn.neighbors import KNeighborsRegressor\n",
    "from sklearn.ensemble import RandomForestRegressor\n",
    "from sklearn.svm import SVR\n",
    "\n",
    "from sklearn.pipeline import make_pipeline\n",
    "from sklearn.preprocessing import StandardScaler\n",
    "\n",
    "from scipy.special import softmax"
   ]
  },
  {
   "cell_type": "markdown",
   "metadata": {},
   "source": [
    "# Reading Covid dataset\n",
    "\n",
    "The analysis will be based on the Covid-19 data provided by [Our World in Data](https://github.com/owid)."
   ]
  },
  {
   "cell_type": "code",
   "execution_count": 2,
   "metadata": {},
   "outputs": [
    {
     "name": "stdout",
     "output_type": "stream",
     "text": [
      "<class 'pandas.core.frame.DataFrame'>\n",
      "RangeIndex: 68533 entries, 0 to 68532\n",
      "Data columns (total 59 columns):\n",
      " #   Column                                 Non-Null Count  Dtype  \n",
      "---  ------                                 --------------  -----  \n",
      " 0   iso_code                               68533 non-null  object \n",
      " 1   continent                              65106 non-null  object \n",
      " 2   location                               68533 non-null  object \n",
      " 3   date                                   68533 non-null  object \n",
      " 4   total_cases                            67749 non-null  float64\n",
      " 5   new_cases                              67747 non-null  float64\n",
      " 6   new_cases_smoothed                     66746 non-null  float64\n",
      " 7   total_deaths                           58846 non-null  float64\n",
      " 8   new_deaths                             59004 non-null  float64\n",
      " 9   new_deaths_smoothed                    66746 non-null  float64\n",
      " 10  total_cases_per_million                67377 non-null  float64\n",
      " 11  new_cases_per_million                  67375 non-null  float64\n",
      " 12  new_cases_smoothed_per_million         66379 non-null  float64\n",
      " 13  total_deaths_per_million               58487 non-null  float64\n",
      " 14  new_deaths_per_million                 58645 non-null  float64\n",
      " 15  new_deaths_smoothed_per_million        66379 non-null  float64\n",
      " 16  reproduction_rate                      51295 non-null  float64\n",
      " 17  icu_patients                           7317 non-null   float64\n",
      " 18  icu_patients_per_million               7317 non-null   float64\n",
      " 19  hosp_patients                          8699 non-null   float64\n",
      " 20  hosp_patients_per_million              8699 non-null   float64\n",
      " 21  weekly_icu_admissions                  687 non-null    float64\n",
      " 22  weekly_icu_admissions_per_million      687 non-null    float64\n",
      " 23  weekly_hosp_admissions                 1136 non-null   float64\n",
      " 24  weekly_hosp_admissions_per_million     1136 non-null   float64\n",
      " 25  new_tests                              31135 non-null  float64\n",
      " 26  total_tests                            30936 non-null  float64\n",
      " 27  total_tests_per_thousand               30936 non-null  float64\n",
      " 28  new_tests_per_thousand                 31135 non-null  float64\n",
      " 29  new_tests_smoothed                     35184 non-null  float64\n",
      " 30  new_tests_smoothed_per_thousand        35184 non-null  float64\n",
      " 31  positive_rate                          33483 non-null  float64\n",
      " 32  tests_per_case                         32971 non-null  float64\n",
      " 33  tests_units                            36439 non-null  object \n",
      " 34  total_vaccinations                     1879 non-null   float64\n",
      " 35  people_vaccinated                      1545 non-null   float64\n",
      " 36  people_fully_vaccinated                932 non-null    float64\n",
      " 37  new_vaccinations                       1567 non-null   float64\n",
      " 38  new_vaccinations_smoothed              2720 non-null   float64\n",
      " 39  total_vaccinations_per_hundred         1879 non-null   float64\n",
      " 40  people_vaccinated_per_hundred          1545 non-null   float64\n",
      " 41  people_fully_vaccinated_per_hundred    932 non-null    float64\n",
      " 42  new_vaccinations_smoothed_per_million  2720 non-null   float64\n",
      " 43  stringency_index                       58775 non-null  float64\n",
      " 44  population                             68152 non-null  float64\n",
      " 45  population_density                     64084 non-null  float64\n",
      " 46  median_age                             62477 non-null  float64\n",
      " 47  aged_65_older                          61755 non-null  float64\n",
      " 48  aged_70_older                          62124 non-null  float64\n",
      " 49  gdp_per_capita                         62612 non-null  float64\n",
      " 50  extreme_poverty                        42798 non-null  float64\n",
      " 51  cardiovasc_death_rate                  63219 non-null  float64\n",
      " 52  diabetes_prevalence                    63993 non-null  float64\n",
      " 53  female_smokers                         49807 non-null  float64\n",
      " 54  male_smokers                           49124 non-null  float64\n",
      " 55  handwashing_facilities                 31692 non-null  float64\n",
      " 56  hospital_beds_per_thousand             57978 non-null  float64\n",
      " 57  life_expectancy                        65129 non-null  float64\n",
      " 58  human_development_index                63204 non-null  float64\n",
      "dtypes: float64(54), object(5)\n",
      "memory usage: 30.8+ MB\n"
     ]
    }
   ],
   "source": [
    "data_url = (\n",
    "    \"https://raw.githubusercontent.com/\"\n",
    "    \"owid/covid-19-data/master/public/data/owid-covid-data.csv\"\n",
    ")\n",
    "raw_df = pd.read_csv(data_url)\n",
    "raw_df.info()"
   ]
  },
  {
   "cell_type": "markdown",
   "metadata": {},
   "source": [
    "Pre-processing dataset:\n",
    "\n",
    "- Renormalize date to a `datetime` object.\n",
    "- Reduce the number of columns\n",
    "- Set date as index\n",
    "- Drop `NaN`'s\n",
    "- Fix types for columns"
   ]
  },
  {
   "cell_type": "code",
   "execution_count": 3,
   "metadata": {},
   "outputs": [
    {
     "data": {
      "text/html": [
       "<div>\n",
       "<style scoped>\n",
       "    .dataframe tbody tr th:only-of-type {\n",
       "        vertical-align: middle;\n",
       "    }\n",
       "\n",
       "    .dataframe tbody tr th {\n",
       "        vertical-align: top;\n",
       "    }\n",
       "\n",
       "    .dataframe thead th {\n",
       "        text-align: right;\n",
       "    }\n",
       "</style>\n",
       "<table border=\"1\" class=\"dataframe\">\n",
       "  <thead>\n",
       "    <tr style=\"text-align: right;\">\n",
       "      <th></th>\n",
       "      <th>location</th>\n",
       "      <th>total_cases</th>\n",
       "      <th>new_cases</th>\n",
       "      <th>new_cases_smoothed</th>\n",
       "      <th>total_deaths</th>\n",
       "      <th>new_deaths</th>\n",
       "      <th>new_deaths_smoothed</th>\n",
       "      <th>icu_patients</th>\n",
       "    </tr>\n",
       "    <tr>\n",
       "      <th>date</th>\n",
       "      <th></th>\n",
       "      <th></th>\n",
       "      <th></th>\n",
       "      <th></th>\n",
       "      <th></th>\n",
       "      <th></th>\n",
       "      <th></th>\n",
       "      <th></th>\n",
       "    </tr>\n",
       "  </thead>\n",
       "  <tbody>\n",
       "    <tr>\n",
       "      <th>2020-04-01</th>\n",
       "      <td>Austria</td>\n",
       "      <td>10711</td>\n",
       "      <td>531</td>\n",
       "      <td>731.857</td>\n",
       "      <td>146</td>\n",
       "      <td>18</td>\n",
       "      <td>16.571</td>\n",
       "      <td>215</td>\n",
       "    </tr>\n",
       "    <tr>\n",
       "      <th>2020-04-02</th>\n",
       "      <td>Austria</td>\n",
       "      <td>11129</td>\n",
       "      <td>418</td>\n",
       "      <td>602.857</td>\n",
       "      <td>158</td>\n",
       "      <td>12</td>\n",
       "      <td>15.571</td>\n",
       "      <td>219</td>\n",
       "    </tr>\n",
       "    <tr>\n",
       "      <th>2020-04-03</th>\n",
       "      <td>Austria</td>\n",
       "      <td>11524</td>\n",
       "      <td>395</td>\n",
       "      <td>552.429</td>\n",
       "      <td>168</td>\n",
       "      <td>10</td>\n",
       "      <td>15.714</td>\n",
       "      <td>245</td>\n",
       "    </tr>\n",
       "    <tr>\n",
       "      <th>2020-04-04</th>\n",
       "      <td>Austria</td>\n",
       "      <td>11781</td>\n",
       "      <td>257</td>\n",
       "      <td>501.429</td>\n",
       "      <td>186</td>\n",
       "      <td>18</td>\n",
       "      <td>16.857</td>\n",
       "      <td>245</td>\n",
       "    </tr>\n",
       "    <tr>\n",
       "      <th>2020-04-05</th>\n",
       "      <td>Austria</td>\n",
       "      <td>12051</td>\n",
       "      <td>270</td>\n",
       "      <td>466.143</td>\n",
       "      <td>204</td>\n",
       "      <td>18</td>\n",
       "      <td>16.857</td>\n",
       "      <td>244</td>\n",
       "    </tr>\n",
       "  </tbody>\n",
       "</table>\n",
       "</div>"
      ],
      "text/plain": [
       "           location  total_cases  new_cases  new_cases_smoothed  total_deaths  \\\n",
       "date                                                                            \n",
       "2020-04-01  Austria        10711        531             731.857           146   \n",
       "2020-04-02  Austria        11129        418             602.857           158   \n",
       "2020-04-03  Austria        11524        395             552.429           168   \n",
       "2020-04-04  Austria        11781        257             501.429           186   \n",
       "2020-04-05  Austria        12051        270             466.143           204   \n",
       "\n",
       "            new_deaths  new_deaths_smoothed  icu_patients  \n",
       "date                                                       \n",
       "2020-04-01          18               16.571           215  \n",
       "2020-04-02          12               15.571           219  \n",
       "2020-04-03          10               15.714           245  \n",
       "2020-04-04          18               16.857           245  \n",
       "2020-04-05          18               16.857           244  "
      ]
     },
     "execution_count": 3,
     "metadata": {},
     "output_type": "execute_result"
    }
   ],
   "source": [
    "total_df = raw_df.copy()\n",
    "total_df.date = pd.to_datetime(total_df.date)\n",
    "total_df = total_df[\n",
    "    [\n",
    "        \"location\",\n",
    "        \"date\",\n",
    "        \"total_cases\",\n",
    "        \"new_cases\",\n",
    "        \"new_cases_smoothed\",\n",
    "        \"total_deaths\",\n",
    "        \"new_deaths\",\n",
    "        \"new_deaths_smoothed\",\n",
    "        \"icu_patients\",\n",
    "    ]\n",
    "]\n",
    "total_df = total_df.set_index(\"date\")\n",
    "total_df = total_df.dropna()\n",
    "total_df = total_df.astype(\n",
    "    {\n",
    "        \"total_cases\": int,\n",
    "        \"new_cases\": int,\n",
    "        \"total_deaths\": int,\n",
    "        \"new_deaths\": int,\n",
    "        \"icu_patients\": int,\n",
    "    }\n",
    ")\n",
    "total_df.head()"
   ]
  },
  {
   "cell_type": "markdown",
   "metadata": {},
   "source": [
    "## Data exploration\n",
    "\n"
   ]
  },
  {
   "cell_type": "code",
   "execution_count": 4,
   "metadata": {},
   "outputs": [
    {
     "data": {
      "application/vnd.jupyter.widget-view+json": {
       "model_id": "cba22e01e32a4b8889b9955e0ff08c11",
       "version_major": 2,
       "version_minor": 0
      },
      "text/plain": [
       "interactive(children=(Dropdown(description='country', options=('Austria', 'Belgium', 'Bulgaria', 'Canada', 'Cy…"
      ]
     },
     "metadata": {},
     "output_type": "display_data"
    }
   ],
   "source": [
    "@widgets.interact(\n",
    "    country=total_df.location.unique(),\n",
    "    column=[c for c in total_df.columns if c not in [\"location\", \"date\"]],\n",
    ")\n",
    "def plot_evolution(country, column):\n",
    "    total_df.loc[total_df.location == country].plot(\n",
    "        y=column,\n",
    "        figsize=(15, 5),\n",
    "        xlim=(pd.Timestamp(\"2020-01-01\"), pd.Timestamp(\"2021-02-02\")),\n",
    "    )"
   ]
  },
  {
   "cell_type": "code",
   "execution_count": 5,
   "metadata": {},
   "outputs": [
    {
     "data": {
      "application/vnd.jupyter.widget-view+json": {
       "model_id": "c007d3467ec348a7b2a571db1b195b85",
       "version_major": 2,
       "version_minor": 0
      },
      "text/plain": [
       "interactive(children=(Dropdown(description='country', options=('Austria', 'Belgium', 'Bulgaria', 'Canada', 'Cy…"
      ]
     },
     "metadata": {},
     "output_type": "display_data"
    }
   ],
   "source": [
    "@widgets.interact(\n",
    "    country=widgets.Dropdown(options=total_df.location.unique()),\n",
    ")\n",
    "def compare_newCases_icu_deaths(country):\n",
    "    (\n",
    "        total_df.loc[total_df.location == country]\n",
    "        .apply(\n",
    "            lambda x: x / x.max()\n",
    "            if x.name in {\"new_cases_smoothed\", \"new_deaths_smoothed\", \"icu_patients\"}\n",
    "            else x\n",
    "        )\n",
    "        .plot(\n",
    "            y=[\"new_cases_smoothed\", \"icu_patients\", \"new_deaths_smoothed\"],\n",
    "            figsize=(15, 5),\n",
    "            xlim=(pd.Timestamp(\"2020-01-01\"), pd.Timestamp(\"2021-02-02\")),\n",
    "        )\n",
    "    )"
   ]
  },
  {
   "cell_type": "markdown",
   "metadata": {},
   "source": [
    "## Model description\n",
    "\n",
    "```\n",
    "+-----------+     +---------------+     +--------+\n",
    "| New cases | ==> | New ICU cases | ==> | Deaths |\n",
    "+-----------+     +---------------+     +--------+\n",
    "```\n",
    "\n",
    "In the following, we want to develop a model to forecast the number of ICUs based on the number of new cases. We can clearly say that a fraction of new cases will end up needing intensive care. However, we also know that there are a fraction of patients being released. Rather than using mathematical models in epidemiology, we develop a data-driven model to forecast the evolution of the number of ICU patients. \n",
    "\n",
    "We start by examining which model we should use even before looking at feature engineering. Our intuition suggests using a linear regression model (or any linear model). We first create a dataset with some features and focus on picking the best performing model before using feature engineering to optimize it."
   ]
  },
  {
   "cell_type": "code",
   "execution_count": 6,
   "metadata": {},
   "outputs": [
    {
     "data": {
      "text/html": [
       "<div>\n",
       "<style scoped>\n",
       "    .dataframe tbody tr th:only-of-type {\n",
       "        vertical-align: middle;\n",
       "    }\n",
       "\n",
       "    .dataframe tbody tr th {\n",
       "        vertical-align: top;\n",
       "    }\n",
       "\n",
       "    .dataframe thead th {\n",
       "        text-align: right;\n",
       "    }\n",
       "</style>\n",
       "<table border=\"1\" class=\"dataframe\">\n",
       "  <thead>\n",
       "    <tr style=\"text-align: right;\">\n",
       "      <th></th>\n",
       "      <th>icu_patients</th>\n",
       "      <th>new_cases</th>\n",
       "      <th>new_cases_smoothed</th>\n",
       "      <th>icu_patients_yesterday</th>\n",
       "    </tr>\n",
       "    <tr>\n",
       "      <th>date</th>\n",
       "      <th></th>\n",
       "      <th></th>\n",
       "      <th></th>\n",
       "      <th></th>\n",
       "    </tr>\n",
       "  </thead>\n",
       "  <tbody>\n",
       "    <tr>\n",
       "      <th>2020-03-21</th>\n",
       "      <td>308</td>\n",
       "      <td>2365</td>\n",
       "      <td>2518.286</td>\n",
       "      <td>200.0</td>\n",
       "    </tr>\n",
       "    <tr>\n",
       "      <th>2020-03-22</th>\n",
       "      <td>364</td>\n",
       "      <td>2660</td>\n",
       "      <td>2725.429</td>\n",
       "      <td>308.0</td>\n",
       "    </tr>\n",
       "    <tr>\n",
       "      <th>2020-03-23</th>\n",
       "      <td>451</td>\n",
       "      <td>4183</td>\n",
       "      <td>3112.000</td>\n",
       "      <td>364.0</td>\n",
       "    </tr>\n",
       "    <tr>\n",
       "      <th>2020-03-24</th>\n",
       "      <td>616</td>\n",
       "      <td>3930</td>\n",
       "      <td>3389.857</td>\n",
       "      <td>451.0</td>\n",
       "    </tr>\n",
       "    <tr>\n",
       "      <th>2020-03-25</th>\n",
       "      <td>789</td>\n",
       "      <td>4337</td>\n",
       "      <td>3570.857</td>\n",
       "      <td>616.0</td>\n",
       "    </tr>\n",
       "    <tr>\n",
       "      <th>...</th>\n",
       "      <td>...</td>\n",
       "      <td>...</td>\n",
       "      <td>...</td>\n",
       "      <td>...</td>\n",
       "    </tr>\n",
       "    <tr>\n",
       "      <th>2021-01-30</th>\n",
       "      <td>4342</td>\n",
       "      <td>17518</td>\n",
       "      <td>12460.000</td>\n",
       "      <td>4367.0</td>\n",
       "    </tr>\n",
       "    <tr>\n",
       "      <th>2021-01-31</th>\n",
       "      <td>4337</td>\n",
       "      <td>748</td>\n",
       "      <td>11127.143</td>\n",
       "      <td>4342.0</td>\n",
       "    </tr>\n",
       "    <tr>\n",
       "      <th>2021-02-01</th>\n",
       "      <td>4313</td>\n",
       "      <td>6668</td>\n",
       "      <td>11095.857</td>\n",
       "      <td>4337.0</td>\n",
       "    </tr>\n",
       "    <tr>\n",
       "      <th>2021-02-02</th>\n",
       "      <td>4252</td>\n",
       "      <td>7690</td>\n",
       "      <td>10853.429</td>\n",
       "      <td>4313.0</td>\n",
       "    </tr>\n",
       "    <tr>\n",
       "      <th>2021-02-03</th>\n",
       "      <td>4207</td>\n",
       "      <td>12487</td>\n",
       "      <td>10403.571</td>\n",
       "      <td>4252.0</td>\n",
       "    </tr>\n",
       "  </tbody>\n",
       "</table>\n",
       "<p>320 rows × 4 columns</p>\n",
       "</div>"
      ],
      "text/plain": [
       "            icu_patients  new_cases  new_cases_smoothed  \\\n",
       "date                                                      \n",
       "2020-03-21           308       2365            2518.286   \n",
       "2020-03-22           364       2660            2725.429   \n",
       "2020-03-23           451       4183            3112.000   \n",
       "2020-03-24           616       3930            3389.857   \n",
       "2020-03-25           789       4337            3570.857   \n",
       "...                  ...        ...                 ...   \n",
       "2021-01-30          4342      17518           12460.000   \n",
       "2021-01-31          4337        748           11127.143   \n",
       "2021-02-01          4313       6668           11095.857   \n",
       "2021-02-02          4252       7690           10853.429   \n",
       "2021-02-03          4207      12487           10403.571   \n",
       "\n",
       "            icu_patients_yesterday  \n",
       "date                                \n",
       "2020-03-21                   200.0  \n",
       "2020-03-22                   308.0  \n",
       "2020-03-23                   364.0  \n",
       "2020-03-24                   451.0  \n",
       "2020-03-25                   616.0  \n",
       "...                            ...  \n",
       "2021-01-30                  4367.0  \n",
       "2021-01-31                  4342.0  \n",
       "2021-02-01                  4337.0  \n",
       "2021-02-02                  4313.0  \n",
       "2021-02-03                  4252.0  \n",
       "\n",
       "[320 rows x 4 columns]"
      ]
     },
     "execution_count": 6,
     "metadata": {},
     "output_type": "execute_result"
    }
   ],
   "source": [
    "icu_patients = total_df.loc[\n",
    "    total_df.location == \"Germany\",\n",
    "    [\"icu_patients\", \"new_cases\", \"new_cases_smoothed\"],\n",
    "]\n",
    "icu_patients[\"icu_patients_yesterday\"] = icu_patients[\"icu_patients\"].shift(1)\n",
    "icu_patients = icu_patients.dropna()\n",
    "icu_patients"
   ]
  },
  {
   "cell_type": "markdown",
   "metadata": {},
   "source": [
    "### Training and tests set for model selection"
   ]
  },
  {
   "cell_type": "code",
   "execution_count": 7,
   "metadata": {},
   "outputs": [],
   "source": [
    "X_train = icu_patients.loc[:\"2021\"].drop([\"icu_patients\"], axis=1)\n",
    "y_train = icu_patients.loc[:\"2021\", \"icu_patients\"]\n",
    "\n",
    "X_test = icu_patients.loc[\"2021\"].drop([\"icu_patients\"], axis=1)\n",
    "y_test = icu_patients.loc[\"2021\":, \"icu_patients\"]"
   ]
  },
  {
   "cell_type": "markdown",
   "metadata": {},
   "source": [
    "### Validate models"
   ]
  },
  {
   "cell_type": "code",
   "execution_count": 8,
   "metadata": {},
   "outputs": [
    {
     "name": "stdout",
     "output_type": "stream",
     "text": [
      "   LR:         0.87 (0.05)\n",
      "   RF:        -0.01 (0.75)\n",
      "Ridge:         0.87 (0.05)\n",
      "Lasso:         0.87 (0.05)\n",
      "   EN:         0.87 (0.05)\n",
      "   LL:         0.89 (0.08)\n",
      "   KN:        -3.87 (1.16)\n"
     ]
    }
   ],
   "source": [
    "models = [\n",
    "    (\"LR\", LinearRegression()),\n",
    "    (\"RF\", RandomForestRegressor()),\n",
    "    (\"Ridge\", Ridge()),\n",
    "    (\"Lasso\", Lasso()),\n",
    "    (\"EN\", ElasticNet()),\n",
    "    (\"LL\", LassoLars()),\n",
    "    (\"KN\", KNeighborsRegressor()),\n",
    "]\n",
    "\n",
    "results = []\n",
    "names = []\n",
    "\n",
    "for name, model in models:\n",
    "    tscv = TimeSeriesSplit(n_splits=2)\n",
    "    cv_results = cross_val_score(model, X_train, y_train, cv=tscv, scoring=\"r2\")\n",
    "    results.append(cv_results)\n",
    "    names.append(name)\n",
    "    print(f\"{name:>5}: {cv_results.mean():12.2f} ({cv_results.std():.2f})\")"
   ]
  },
  {
   "cell_type": "code",
   "execution_count": 9,
   "metadata": {},
   "outputs": [
    {
     "data": {
      "image/png": "[encoded data removed]",
      "text/plain": [
       "<Figure size 432x288 with 1 Axes>"
      ]
     },
     "metadata": {
      "needs_background": "light"
     },
     "output_type": "display_data"
    }
   ],
   "source": [
    "plt.boxplot(results, labels=names)\n",
    "plt.ylabel(\"$R^2$ score\")\n",
    "plt.title(\"Algorithm Comparison\");"
   ]
  },
  {
   "cell_type": "markdown",
   "metadata": {},
   "source": [
    "Comparing the different algorithms, we see that the assumption that linear regression (or a linear model) might be okay holds.\n",
    "\n",
    "We can now look at the prediction for 2021 and how each model performs precisely."
   ]
  },
  {
   "cell_type": "code",
   "execution_count": 10,
   "metadata": {},
   "outputs": [
    {
     "data": {
      "image/png": "[encoded data removed]",
      "text/plain": [
       "<Figure size 864x360 with 1 Axes>"
      ]
     },
     "metadata": {
      "needs_background": "light"
     },
     "output_type": "display_data"
    }
   ],
   "source": [
    "plt.figure(figsize=(12, 5))\n",
    "for name, model in models:\n",
    "    plt.plot(\n",
    "        X_test.index,\n",
    "        model.fit(X_train, y_train).predict(X_test),\n",
    "        label=name,\n",
    "        linewidth=3.0,\n",
    "    )\n",
    "plt.plot(y_test, color=\"k\", label=\"real\", linewidth=2.0)\n",
    "plt.legend(loc=\"center left\", bbox_to_anchor=(1.0, 0.5))\n",
    "plt.xlabel(\"date\")\n",
    "plt.ylabel(\"ICU patients\");"
   ]
  },
  {
   "cell_type": "markdown",
   "metadata": {},
   "source": [
    "We can see that the different models predict the same outcome for 2021 if we train on the data for 2020, and only KNeighborsRegressor seems to drop off. Nevertheless, we will use `LinearRegression` and examine which feature we need for the best performance.\n",
    "\n",
    "Indeed, proper normalization might be more useful here, but we continue looking into determining the appropriate features to be used for the prediction.\n",
    "\n",
    "### Feature engineering\n",
    "\n",
    "For evaluating the performance for different features, we will have an overview of how the model performs for the beginning of 2021, and then we look at the $r^2$-score of each feature method. Let's define methods to plot the corresponding datasets."
   ]
  },
  {
   "cell_type": "code",
   "execution_count": 53,
   "metadata": {},
   "outputs": [],
   "source": [
    "def split_full_dataframe(df):\n",
    "    \"\"\"Splits full dataframe into two groups\n",
    "  \n",
    "    The whole dataframe `df` is split into two groups with two different dataframes.\n",
    "    The first group consists of two dataframes until Jan 2021 with training\n",
    "    data and target data. In contrast, the second group consists of two\n",
    "    dataframes for validation with test data and corresponding real data.\n",
    "    \"\"\"\n",
    "    X = df.loc[:\"2021-01\", :].drop(\"icu_patients\", axis=1)\n",
    "    y = df.loc[:\"2021-01\", :][[\"icu_patients\"]]\n",
    "\n",
    "    X_validate = df.loc[\"2021-01\":, :].drop(\"icu_patients\", axis=1)\n",
    "    y_validate = df.loc[\"2021-01\":, :][[\"icu_patients\"]]\n",
    "\n",
    "    return X, y, X_validate, y_validate\n",
    "\n",
    "def train_model(X, y, n_splits, model):\n",
    "    \"\"\"Training model\n",
    "    \n",
    "    Runs `model.fit` using the training data `X` and target values `y`.\n",
    "    The model fit is done using cross-validation with time series split\n",
    "    `TimeSeriesSplit` of sklearn where the argument `n_splits` determines\n",
    "    the maximum number of splits.\n",
    "    \"\"\"\n",
    "    tscv = TimeSeriesSplit(n_splits=n_splits)\n",
    "    score = []\n",
    "    for train_index, test_index in tscv.split(X):\n",
    "        X_train, X_test = X.iloc[train_index], X.iloc[test_index]\n",
    "        y_train, y_test = y.iloc[train_index], y.iloc[test_index]\n",
    "        model.fit(X_train, y_train)\n",
    "        score.append(model.score(X_test, y_test))\n",
    "\n",
    "    return model, score\n",
    "\n",
    "def model_performance_vis(df, n_splits, model):\n",
    "    \"\"\"Train model and visualize results\n",
    "    \n",
    "    Take dataframe `df` and split it, then train the model `model` using\n",
    "    `n_splits`-splits for cross-validation. Afterwards use visulize the\n",
    "    data with the left plot showing the predicted and the real number of ICU\n",
    "    patients and the right showing the feature importance.\n",
    "    \"\"\"\n",
    "    X, y, X_validate, y_validate = split_full_dataframe(df)\n",
    "    model, score = train_model(X, y, n_splits, model)\n",
    "\n",
    "    y_validate[\"icu_predicted\"] = model.predict(X_validate)\n",
    "\n",
    "    fig, (ax1, ax2) = plt.subplots(ncols=2, figsize=(14, 4))\n",
    "\n",
    "    y_validate.plot.line(\n",
    "        y=[\"icu_patients\", \"icu_predicted\"],\n",
    "        ax=ax1,\n",
    "        ylabel=\"ICU patients\",\n",
    "    )\n",
    "    ax1.legend([\"Real\", \"Predicted\"])\n",
    "\n",
    "    feature_values = softmax(np.abs(model.coef_[0]))\n",
    "    sorted_indices = feature_values.argsort()\n",
    "    feature_names = np.array(X.columns)\n",
    "\n",
    "    ax2.barh(\n",
    "        np.arange(len(feature_values)), feature_values[sorted_indices], align=\"center\"\n",
    "    )\n",
    "    ax2.set_xlim(0, 1.0)\n",
    "    ax2.set_xticks(np.linspace(0, 1.0, 6))\n",
    "    ax2.set_xticklabels([f\"{int(100 * f)} %\" for f in np.linspace(0, 1.0, 6)])\n",
    "    ax2.set_xlabel(\"Relative importance\")\n",
    "    ax2.set_yticks(range(len(feature_names)))\n",
    "    ax2.set_yticklabels(feature_names[sorted_indices])\n",
    "    fig.tight_layout()\n",
    "\n",
    "def evaluate_feature_selection(\n",
    "    feature_selection_method,\n",
    "    full_df, \n",
    "    model=LinearRegression(),\n",
    "):\n",
    "    \"\"\"Visualize feature selection interactively\n",
    "    \n",
    "    Function for creating two widgets, a dropdown with country selection\n",
    "    and a slider with selecting number of cross-validation splits.\n",
    "    \"\"\"\n",
    "    @widgets.interact(\n",
    "        country=widgets.Dropdown(\n",
    "            options=full_df.location.unique(),\n",
    "            description=\"Country\"\n",
    "        ),\n",
    "        n_splits=widgets.IntSlider(\n",
    "            value=5,\n",
    "            min=2,\n",
    "            max=24,\n",
    "            description=\"CV splits\",\n",
    "            orientation=\"horizontal\",\n",
    "        ),\n",
    "    )\n",
    "    def country_selection(country, n_splits):\n",
    "        df = feature_selection_method(full_df[full_df.location == country])\n",
    "        model_performance_vis(df, n_splits, model)"
   ]
  },
  {
   "cell_type": "markdown",
   "metadata": {},
   "source": [
    "#### Method 1:\n",
    "\n",
    "Features are `new_cases`"
   ]
  },
  {
   "cell_type": "code",
   "execution_count": 54,
   "metadata": {},
   "outputs": [
    {
     "data": {
      "application/vnd.jupyter.widget-view+json": {
       "model_id": "ac4fcf87536b4787ba67b465dd525e9b",
       "version_major": 2,
       "version_minor": 0
      },
      "text/plain": [
       "interactive(children=(Dropdown(description='Country', options=('Austria', 'Belgium', 'Bulgaria', 'Canada', 'Cy…"
      ]
     },
     "metadata": {},
     "output_type": "display_data"
    }
   ],
   "source": [
    "def method_1(df):\n",
    "    \"\"\"1: new cases\"\"\"\n",
    "    return df.loc[:, [\"icu_patients\", \"new_cases\"]]\n",
    "\n",
    "evaluate_feature_selection(method_1, total_df)"
   ]
  },
  {
   "cell_type": "markdown",
   "metadata": {},
   "source": [
    "#### Method 2:\n",
    "\n",
    "Features are `new_cases` and `new_cases_smoothed`"
   ]
  },
  {
   "cell_type": "code",
   "execution_count": 55,
   "metadata": {},
   "outputs": [
    {
     "data": {
      "application/vnd.jupyter.widget-view+json": {
       "model_id": "8f956d0d7fd1440b9250f8a35170ef69",
       "version_major": 2,
       "version_minor": 0
      },
      "text/plain": [
       "interactive(children=(Dropdown(description='Country', options=('Austria', 'Belgium', 'Bulgaria', 'Canada', 'Cy…"
      ]
     },
     "metadata": {},
     "output_type": "display_data"
    }
   ],
   "source": [
    "def method_2(df):\n",
    "    \"\"\"2: new cases + smoothed\"\"\"\n",
    "    return df.loc[:, [\"icu_patients\", \"new_cases\", \"new_cases_smoothed\"]]\n",
    "\n",
    "evaluate_feature_selection(method_2, total_df)"
   ]
  },
  {
   "cell_type": "markdown",
   "metadata": {},
   "source": [
    "#### Method 3:\n",
    "\n",
    "Features are `new_cases`, `new_cases_smoothed`, and `icu_-1d` (number of ICU patient of previous day)"
   ]
  },
  {
   "cell_type": "code",
   "execution_count": 56,
   "metadata": {},
   "outputs": [
    {
     "data": {
      "application/vnd.jupyter.widget-view+json": {
       "model_id": "a1d540974aa24eb69377066947e0b770",
       "version_major": 2,
       "version_minor": 0
      },
      "text/plain": [
       "interactive(children=(Dropdown(description='Country', options=('Austria', 'Belgium', 'Bulgaria', 'Canada', 'Cy…"
      ]
     },
     "metadata": {},
     "output_type": "display_data"
    }
   ],
   "source": [
    "def method_3(df):\n",
    "    \"\"\"3: new cases + smoothed + ICU (-1d)\"\"\"\n",
    "    df = df.loc[:, [\"icu_patients\", \"new_cases\", \"new_cases_smoothed\"]]\n",
    "    df[\"icu_-1d\"] = df[\"icu_patients\"].shift(1)\n",
    "    df = df.dropna()\n",
    "    return df\n",
    "\n",
    "evaluate_feature_selection(method_3, total_df)"
   ]
  },
  {
   "cell_type": "markdown",
   "metadata": {},
   "source": [
    "#### Method 4:\n",
    "\n",
    "Features are `new_cases`, `new_cases_smoothed`, `icu_-1d` (number of ICU patient of previous day), and `icu_-1d_diff` (change of number of ICU patient of previous day)."
   ]
  },
  {
   "cell_type": "code",
   "execution_count": 57,
   "metadata": {},
   "outputs": [
    {
     "data": {
      "application/vnd.jupyter.widget-view+json": {
       "model_id": "3cf5c8d3df88425fbbeaa9eb771ffe06",
       "version_major": 2,
       "version_minor": 0
      },
      "text/plain": [
       "interactive(children=(Dropdown(description='Country', options=('Austria', 'Belgium', 'Bulgaria', 'Canada', 'Cy…"
      ]
     },
     "metadata": {},
     "output_type": "display_data"
    }
   ],
   "source": [
    "def method_4(df):\n",
    "    \"\"\"4: new cases + smoothed + ICU (-1d) + ∆ICU(-1d)\"\"\"\n",
    "    df = df.loc[:, [\"icu_patients\", \"new_cases\", \"new_cases_smoothed\"]]\n",
    "    df[\"icu_-1d\"] = df[\"icu_patients\"].shift(1)\n",
    "    df[\"icu_-1d_diff\"] = df[\"icu_-1d\"].diff()\n",
    "    df = df.dropna()\n",
    "    return df\n",
    "\n",
    "evaluate_feature_selection(method_4, total_df)"
   ]
  },
  {
   "cell_type": "markdown",
   "metadata": {},
   "source": [
    "#### Method 5:\n",
    "\n",
    "Features are `new_cases`, `new_cases_smoothed`, `icu_-1d` (number of ICU patient of previous day), and `icu_-1d_diff` (change of number of ICU patient of previous day - **smoothed**)."
   ]
  },
  {
   "cell_type": "code",
   "execution_count": 58,
   "metadata": {},
   "outputs": [
    {
     "data": {
      "application/vnd.jupyter.widget-view+json": {
       "model_id": "d3a117a61ff24867b71bdf13a6592c1a",
       "version_major": 2,
       "version_minor": 0
      },
      "text/plain": [
       "interactive(children=(Dropdown(description='Country', options=('Austria', 'Belgium', 'Bulgaria', 'Canada', 'Cy…"
      ]
     },
     "metadata": {},
     "output_type": "display_data"
    }
   ],
   "source": [
    "def method_5(df):\n",
    "    \"\"\"5: new cases + smoothed new + ICU (-1d) + ∆ICU(-1d) smooth\"\"\"\n",
    "    df = df.loc[:, [\"icu_patients\", \"new_cases\", \"new_cases_smoothed\"]]\n",
    "    df[\"icu_-1d\"] = df[\"icu_patients\"].shift(1)\n",
    "    df[\"icu_-1d_diff\"] = df[\"icu_-1d\"].diff().rolling(7, center=True).mean()\n",
    "    df = df.dropna()\n",
    "    return df\n",
    "\n",
    "evaluate_feature_selection(method_5, total_df)"
   ]
  },
  {
   "cell_type": "markdown",
   "metadata": {},
   "source": [
    "#### Method 6:\n",
    "\n",
    "Features are `new_cases_smoothed`, `icu_-1d` (number of ICU patients from day before), and `icu_-1d_diff` (change of number of ICU patient of previous day - **smoothed**)."
   ]
  },
  {
   "cell_type": "code",
   "execution_count": 59,
   "metadata": {},
   "outputs": [
    {
     "data": {
      "application/vnd.jupyter.widget-view+json": {
       "model_id": "fcf0d116c7c648b7a3b706f6d0f59d73",
       "version_major": 2,
       "version_minor": 0
      },
      "text/plain": [
       "interactive(children=(Dropdown(description='Country', options=('Austria', 'Belgium', 'Bulgaria', 'Canada', 'Cy…"
      ]
     },
     "metadata": {},
     "output_type": "display_data"
    }
   ],
   "source": [
    "def method_6(df):\n",
    "    \"\"\"6: smoothed new + ICU(-1d) + ∆ICU(-1d)\"\"\"\n",
    "    df = df.loc[:, [\"icu_patients\", \"new_cases_smoothed\"]]\n",
    "    df[\"icu_-1d\"] = df[\"icu_patients\"].shift(1)\n",
    "    df[\"icu_-1d_diff\"] = df[\"icu_-1d\"].diff().rolling(7, center=True).mean()\n",
    "    df = df.dropna()\n",
    "    return df\n",
    "\n",
    "evaluate_feature_selection(method_6, total_df)"
   ]
  },
  {
   "cell_type": "markdown",
   "metadata": {},
   "source": [
    "#### Method 7:\n",
    "\n",
    "Features are `new_cases_smoothed`, `icu_-1d` (number of ICU patient of previous day), `icu_-1d_diff` (change of number of ICU patient of previous day - **smoothed**), `icu_-2d` (number of ICU patient of two days day ago), `icu_-2d_diff` (change of number of ICU patient of two days ago - **smoothed**),"
   ]
  },
  {
   "cell_type": "code",
   "execution_count": 60,
   "metadata": {},
   "outputs": [
    {
     "data": {
      "application/vnd.jupyter.widget-view+json": {
       "model_id": "451790bd02c54ee7a18654ae0b78e7bb",
       "version_major": 2,
       "version_minor": 0
      },
      "text/plain": [
       "interactive(children=(Dropdown(description='Country', options=('Austria', 'Belgium', 'Bulgaria', 'Canada', 'Cy…"
      ]
     },
     "metadata": {},
     "output_type": "display_data"
    }
   ],
   "source": [
    "def method_7(df):\n",
    "    \"\"\"7: smoothed new + ICU (-1d) + ∆ICU(-1d) + ICU (-2d) + ∆ICU(-2d)\"\"\"\n",
    "    df = df.loc[:, [\"icu_patients\", \"new_cases_smoothed\"]]\n",
    "    df[\"icu_-1d\"] = df[\"icu_patients\"].shift(1)\n",
    "    df[\"icu_-1d_diff\"] = df[\"icu_-1d\"].diff().rolling(7, center=True).mean()\n",
    "    df[\"icu_-2d\"] = df[\"icu_-1d\"].shift(1)\n",
    "    df[\"icu_-2d_diff\"] = df[\"icu_-2d\"].diff().rolling(7, center=True).mean()\n",
    "    df = df.dropna()\n",
    "    return df\n",
    "\n",
    "evaluate_feature_selection(method_7, total_df)"
   ]
  },
  {
   "cell_type": "markdown",
   "metadata": {},
   "source": [
    "#### Method 8:\n",
    "\n",
    "Features are `new_cases_smoothed`, `new_cases_smoothed` (new cases 7days ago), `icu_-1d` (number of ICU patient of previous day), `icu_-1d_diff` (change of number of ICU patient of previous day - **smoothed**), `icu_-2d` (number of ICU patient of two days day ago), `icu_-2d_diff` (change of number of ICU patient of two days ago - **smoothed**),"
   ]
  },
  {
   "cell_type": "code",
   "execution_count": 63,
   "metadata": {},
   "outputs": [
    {
     "data": {
      "application/vnd.jupyter.widget-view+json": {
       "model_id": "0ab77eeed2654588863dad3b65890abd",
       "version_major": 2,
       "version_minor": 0
      },
      "text/plain": [
       "interactive(children=(Dropdown(description='Country', options=('Austria', 'Belgium', 'Bulgaria', 'Canada', 'Cy…"
      ]
     },
     "metadata": {},
     "output_type": "display_data"
    }
   ],
   "source": [
    "def method_8(df):\n",
    "    \"\"\"8: smoothed new + new(-7d) + ICU (-1d) + ∆ICU(-1d) + ICU (-2d) + ∆ICU(-2d)\"\"\"\n",
    "    df = df.loc[:, [\"icu_patients\", \"new_cases_smoothed\"]]\n",
    "    df[\"new_cases_-7d\"] = df[\"new_cases_smoothed\"].shift(7)\n",
    "    df[\"icu_-1d\"] = df[\"icu_patients\"].shift(1)\n",
    "    df[\"icu_-1d_diff\"] = df[\"icu_-1d\"].diff().rolling(7, center=True).mean()\n",
    "    df[\"icu_-2d\"] = df[\"icu_-1d\"].shift(1)\n",
    "    df[\"icu_-2d_diff\"] = df[\"icu_-2d\"].diff().rolling(7, center=True).mean()\n",
    "    df = df.dropna()\n",
    "    return df\n",
    "\n",
    "evaluate_feature_selection(method_8, total_df)"
   ]
  },
  {
   "cell_type": "markdown",
   "metadata": {},
   "source": [
    "#### Method 9:\n",
    "\n",
    "Features are `icu_-1d` (number of ICU patient of previous day), `icu_-1d_diff` (change of number of ICU patient of previous day - **smoothed**), `icu_-2d` (number of ICU patient of two days day ago), `icu_-2d_diff` (change of number of ICU patient of two days ago - **smoothed**),"
   ]
  },
  {
   "cell_type": "code",
   "execution_count": 64,
   "metadata": {},
   "outputs": [
    {
     "data": {
      "application/vnd.jupyter.widget-view+json": {
       "model_id": "365b2d3c94c746fc8dd76ba4ae78df89",
       "version_major": 2,
       "version_minor": 0
      },
      "text/plain": [
       "interactive(children=(Dropdown(description='Country', options=('Austria', 'Belgium', 'Bulgaria', 'Canada', 'Cy…"
      ]
     },
     "metadata": {},
     "output_type": "display_data"
    }
   ],
   "source": [
    "def method_9(df):\n",
    "    \"\"\"9: ICU (-1d) + ∆ICU(-1d) + ICU (-2d) + ∆ICU(-2d)\"\"\"\n",
    "    df = df.loc[:, [\"icu_patients\"]]\n",
    "    df[\"icu_-1d\"] = df[\"icu_patients\"].shift(1)\n",
    "    df[\"icu_-1d_diff\"] = df[\"icu_-1d\"].diff().rolling(7, center=True).mean()\n",
    "    df[\"icu_-2d\"] = df[\"icu_-1d\"].shift(1)\n",
    "    df[\"icu_-2d_diff\"] = df[\"icu_-2d\"].diff().rolling(7, center=True).mean()\n",
    "    df = df.dropna()\n",
    "    return df\n",
    "\n",
    "evaluate_feature_selection(method_9, total_df)"
   ]
  },
  {
   "cell_type": "markdown",
   "metadata": {},
   "source": [
    "#### Overview of all methods\n",
    "\n",
    "In the following we want to look at all the methods and how they perform against for various countries."
   ]
  },
  {
   "cell_type": "code",
   "execution_count": 145,
   "metadata": {},
   "outputs": [
    {
     "data": {
      "image/png": "[encoded data removed]",
      "text/plain": [
       "<Figure size 1080x864 with 3 Axes>"
      ]
     },
     "metadata": {
      "needs_background": "light"
     },
     "output_type": "display_data"
    }
   ],
   "source": [
    "countries = total_df.location.unique()\n",
    "feature_methods = [v for k, v in dict(globals()).items() if k.startswith(\"method_\")]\n",
    "feature_names = [\n",
    "    v.__name__ for k, v in dict(globals()).items() if k.startswith(\"method_\")\n",
    "]\n",
    "number_of_splits = 6\n",
    "\n",
    "performance = np.zeros((len(countries), len(feature_methods)))\n",
    "\n",
    "for i, country in enumerate(countries):\n",
    "    for j, method in enumerate(feature_methods):\n",
    "        df = method(total_df[total_df.location == country])\n",
    "        X, y, X_validate, y_validate = prepare_training_data(df)\n",
    "        model, _ = train_model(X, y, number_of_splits, LinearRegression())\n",
    "\n",
    "        performance[i, j] = model.score(X_validate, y_validate).mean()\n",
    "\n",
    "fig, (ax1, ax2) = plt.subplots(nrows=2, figsize=(15, 12))\n",
    "\n",
    "# 2d plot\n",
    "m = ax1.imshow(performance.T, aspect=\"auto\", vmin=0.0, vmax=1.0)\n",
    "ax1.set_xticks(range(len(countries)))\n",
    "ax1.set_xticklabels(countries, rotation=\"vertical\")\n",
    "ax1.set_yticks(range(len(feature_names)))\n",
    "ax1.set_yticklabels(feature_names)\n",
    "cbar = plt.colorbar(m, ax=ax1)\n",
    "cbar.set_label(\"$r^2$-score\")\n",
    "\n",
    "# lineouts\n",
    "for i, perf in enumerate(performance.T):\n",
    "    ax2.plot(perf, label=feature_names[i])\n",
    "\n",
    "ax2.legend()\n",
    "ax2.set_xlim(0, len(performance)-1)\n",
    "ax2.set_xticks(range(len(countries)))\n",
    "ax2.set_xticklabels(countries, rotation=\"vertical\")\n",
    "ax2.set_ylim(-0.1, 1.1)\n",
    "fig.tight_layout()"
   ]
  },
  {
   "cell_type": "markdown",
   "metadata": {},
   "source": [
    "For certain countries, like Iceland, forecasting the number of ICU patients is error prone. This is due to the fact, that Iceland did not had any patients in intensive care units and our model can not capture this. However we see that we have to include the ICU's from the previous days to properly forecast the number of ICU's. Features based on method 7 seem to perform best and will be the basis for the next steps."
   ]
  },
  {
   "cell_type": "markdown",
   "metadata": {},
   "source": [
    "## Forecasting ICU for Portugal\n",
    "\n",
    "With the developed model, we can look into the situation in Portugal. An interesting aspect is to compare how the number of ICU would have developed if from a day in december the number of new cases stayed constant or if the number of new cases declined. This aspect is important to look at as it would allow to examine how good or bad the decision making in Portugal was.\n",
    "\n",
    "- Don't do any feature Cross-validation (for now)"
   ]
  },
  {
   "cell_type": "code",
   "execution_count": 139,
   "metadata": {},
   "outputs": [
    {
     "data": {
      "text/plain": [
       "(0.0, 744.15)"
      ]
     },
     "execution_count": 139,
     "metadata": {},
     "output_type": "execute_result"
    },
    {
     "data": {
      "image/png": "[encoded data removed]",
      "text/plain": [
       "<Figure size 1080x288 with 2 Axes>"
      ]
     },
     "metadata": {
      "needs_background": "light"
     },
     "output_type": "display_data"
    }
   ],
   "source": [
    "# portugal dataset\n",
    "portugal_df = total_df.loc[total_df.location == \"Austria\", [\"new_cases_smoothed\", \"icu_patients\"]]\n",
    "portugal_df = portugal_df.rename(columns={\"new_cases_smoothed\": \"new_cases\", \"icu_patients\": \"icu\"})\n",
    "portugal_df[\"icu_yesterday\"] = portugal_df[\"icu\"].shift(1)\n",
    "portugal_df[\"icu_yesterday_diff\"] = portugal_df[\"icu_yesterday\"].diff()\n",
    "portugal_df = portugal_df.dropna().astype({\"icu_yesterday\": int, \"icu_yesterday_diff\": int})\n",
    "\n",
    "\n",
    "# model\n",
    "model = LinearRegression(normalize=True)\n",
    "model.fit(portugal_df[[\"new_cases\", \"icu_yesterday\", \"icu_yesterday_diff\"]], portugal_df[[\"icu\"]])\n",
    "\n",
    "# prediction\n",
    "prediction_range = pd.date_range(start=\"2020-12-01\", end=portugal_df.index[-1])\n",
    "prediction_df = portugal_df.loc[prediction_range, :].copy()\n",
    "prediction_df.loc[prediction_range[1:], \"new_cases\"] = prediction_df.loc[prediction_range[0], \"new_cases\"]\n",
    "prediction_df = prediction_df.dropna().astype({\"icu_yesterday\": int, \"icu_yesterday_diff\": int})\n",
    "\n",
    "for day in prediction_range[1:]:\n",
    "    prev_day = day - day.freq\n",
    "    X = prediction_df.loc[prev_day, [\"new_cases\", \"icu_yesterday\", \"icu_yesterday_diff\"]].to_numpy()\n",
    "    icu = model.predict(X.reshape((1, 3)))\n",
    "    prediction_df.loc[day, \"icu\"] = int(icu[0, 0])\n",
    "    prediction_df.loc[day, \"icu_yesterday\"] = prediction_df.loc[prev_day, \"icu\"]\n",
    "    prediction_df.loc[day, \"icu_yesterday_diff\"] = (\n",
    "        prediction_df.loc[prev_day, \"icu\"]\n",
    "        - prediction_df.loc[prev_day, \"icu_yesterday\"]\n",
    "    )\n",
    "\n",
    "## Create new plot\n",
    "fig, (ax1, ax2) = plt.subplots(ncols=2, figsize=(15, 4))\n",
    "\n",
    "## New cases\n",
    "portugal_df[:prediction_range[0]].plot.line(y=\"new_cases\", ax=ax1, color=\"k\")\n",
    "prediction_df.plot.line(y=\"new_cases\", ax=ax1)\n",
    "portugal_df[prediction_range[0]:].plot.line(y=\"new_cases\", ax=ax1, color=\"0.6\")\n",
    "\n",
    "## ICU cases\n",
    "portugal_df[:prediction_range[0]].plot.line(y=\"icu\", ax=ax2, color=\"k\")\n",
    "prediction_df.plot.line(y=\"icu\", ax=ax2)\n",
    "portugal_df[prediction_range[0]:].plot.line(y=\"icu\", ax=ax2, color=\"0.6\")\n",
    "ax1.set_ylim(ymin=0)\n",
    "ax2.set_ylim(ymin=0)"
   ]
  },
  {
   "cell_type": "code",
   "execution_count": 124,
   "metadata": {},
   "outputs": [
    {
     "data": {
      "application/vnd.jupyter.widget-view+json": {
       "model_id": "18aeef6a798f4c30b2e9bf40f9ec8942",
       "version_major": 2,
       "version_minor": 0
      },
      "text/plain": [
       "interactive(children=(Dropdown(description='Country', options=('Austria', 'Belgium', 'Bulgaria', 'Canada', 'Cy…"
      ]
     },
     "metadata": {},
     "output_type": "display_data"
    }
   ],
   "source": [
    "@widgets.interact(\n",
    "    country=widgets.Dropdown(\n",
    "        options=total_df.location.unique(),\n",
    "        description=\"Country\",\n",
    "    ),\n",
    "    value=widgets.SelectionSlider(\n",
    "        options=(2 / (1 + np.exp(-np.linspace(-5, 5, 1001)))),\n",
    "        index=500,\n",
    "        description=\"Growth\",\n",
    "    )\n",
    ")\n",
    "def print_value(country, value):\n",
    "    print(country)"
   ]
  },
  {
   "cell_type": "code",
   "execution_count": null,
   "metadata": {},
   "outputs": [],
   "source": []
  }
 ],
 "metadata": {
  "kernelspec": {
   "display_name": "Python 3",
   "language": "python",
   "name": "python3"
  },
  "language_info": {
   "codemirror_mode": {
    "name": "ipython",
    "version": 3
   },
   "file_extension": ".py",
   "mimetype": "text/x-python",
   "name": "python",
   "nbconvert_exporter": "python",
   "pygments_lexer": "ipython3",
   "version": "3.9.1"
  },
  "widgets": {
   "application/vnd.jupyter.widget-state+json": {
    "state": {},
    "version_major": 2,
    "version_minor": 0
   }
  }
 },
 "nbformat": 4,
 "nbformat_minor": 4
}
